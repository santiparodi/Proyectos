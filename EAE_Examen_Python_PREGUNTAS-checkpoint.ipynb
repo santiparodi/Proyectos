{
 "cells": [
  {
   "cell_type": "markdown",
   "metadata": {
    "id": "VBF6_zwH0TNt"
   },
   "source": [
    "1) Muestra por pantalla la siguiente fecha Año=2022 Mes=12 Dia=20 formateada tal como se indica Fecha : '2022/12/20'"
   ]
  },
  {
   "cell_type": "code",
   "execution_count": 8,
   "metadata": {
    "colab": {
     "base_uri": "https://localhost:8080/"
    },
    "id": "IqDxUgqU0LI5",
    "outputId": "2bf7b147-2193-4801-9019-ed177270884a"
   },
   "outputs": [
    {
     "data": {
      "text/plain": [
       "'2022/12/20'"
      ]
     },
     "execution_count": 8,
     "metadata": {},
     "output_type": "execute_result"
    }
   ],
   "source": [
    "# RESPUESTA\n",
    "Año = 2022\n",
    "Mes = 12\n",
    "Dia = 20\n",
    "Fecha = '{}/{}/{}'.format(Año, Mes, Dia)\n",
    "Fecha"
   ]
  },
  {
   "cell_type": "markdown",
   "metadata": {
    "id": "9mnIQiLU-XkM"
   },
   "source": [
    "2) Escribe una función que cuente la aparición de un elemento en una lista. La función ha de aceptar dos parámetros:\n",
    "1 El primero una lista de números.\n",
    "2 El segundo un número que usaremos para contar sus apariciones en la lista."
   ]
  },
  {
   "cell_type": "code",
   "execution_count": 2,
   "metadata": {
    "colab": {
     "base_uri": "https://localhost:8080/"
    },
    "id": "G9p-TYLD2rwP",
    "outputId": "0d6f35f1-9a9c-4d88-ed4d-6184c0de6d2f"
   },
   "outputs": [
    {
     "data": {
      "text/plain": [
       "1"
      ]
     },
     "execution_count": 2,
     "metadata": {},
     "output_type": "execute_result"
    }
   ],
   "source": [
    "# RESPUESTA\n",
    "lista= list(range(1,101))\n",
    "numero_contar=1\n",
    "contador=0\n",
    "\n",
    "for i in lista:\n",
    "    if i == numero_contar:\n",
    "        contador=contador+1\n",
    "contador"
   ]
  },
  {
   "cell_type": "markdown",
   "metadata": {
    "id": "2cd8p4_A3wwL"
   },
   "source": [
    "3) Escribe un programa tal que dada una lista arbitraria de elementos (números, letras, etc.), muestre sólo los elementos únicos.\n",
    " \n",
    "Muestra como funciona con dos ejemplos, una lista de 10 letras y otra de 10 números"
   ]
  },
  {
   "cell_type": "code",
   "execution_count": null,
   "metadata": {
    "colab": {
     "base_uri": "https://localhost:8080/"
    },
    "id": "kbivpGat3Ijo",
    "outputId": "980beb97-b3d7-4c2d-8aeb-15360eef653e"
   },
   "outputs": [
    {
     "data": {
      "text/plain": [
       "[1, 2, 3, 5]"
      ]
     },
     "execution_count": 19,
     "metadata": {},
     "output_type": "execute_result"
    }
   ],
   "source": [
    "# RESPUESTA\n",
    "\n",
    "\n",
    "\n"
   ]
  },
  {
   "cell_type": "code",
   "execution_count": null,
   "metadata": {},
   "outputs": [],
   "source": []
  },
  {
   "cell_type": "markdown",
   "metadata": {
    "id": "2yLVOU1CDbaG"
   },
   "source": [
    "4) Dada la siguiente lista de números *1,2,3,4,5,6,7,8,9*, escribe una función lambda que devuelva una lista conteniendo cada número, si este es impar o el texto Par, en caso de que sea par.\n",
    "Usa una función map() para recorrer los elementos de la lista"
   ]
  },
  {
   "cell_type": "code",
   "execution_count": null,
   "metadata": {
    "colab": {
     "base_uri": "https://localhost:8080/"
    },
    "id": "EGzcl3qEDLM4",
    "outputId": "239a1e7b-327c-40e9-c4fe-9cf201a41119"
   },
   "outputs": [
    {
     "name": "stdout",
     "output_type": "stream",
     "text": [
      "[1, 'Par', 3, 'Par', 5, 'Par', 7, 'Par', 9]\n"
     ]
    }
   ],
   "source": [
    "# RESPUESTA\n",
    "\n",
    "lista3= list(range(1,10))\n",
    "\n",
    "listamap= list(map(lambda i: i if i%2==0 else 'Par', lista3))\n",
    "listamap"
   ]
  },
  {
   "cell_type": "markdown",
   "metadata": {
    "id": "qZXZtRGz_oxq"
   },
   "source": [
    "5) Crea una función que reciba una lista como parámetro y devuelva una lista con la posición que ocupa el elmento en la lista. La función debe de ser empleada mediante map() para realizar su trabajo."
   ]
  },
  {
   "cell_type": "code",
   "execution_count": null,
   "metadata": {
    "colab": {
     "base_uri": "https://localhost:8080/"
    },
    "id": "Sj1PHtWGD8Ro",
    "outputId": "aefdaa02-8679-4c62-a85f-9689b3219901"
   },
   "outputs": [
    {
     "name": "stdout",
     "output_type": "stream",
     "text": [
      "[0, 1, 2, 3, 4, 5, 6, 7, 8]\n"
     ]
    }
   ],
   "source": [
    "# RESPUESTA\n",
    "lista = [1, 2, 3, 4, 5, 6, 7, 8, 9]\n",
    "\n",
    "def posicion_elemento(l):\n",
    "    return list(map(lambda x: (x[1], l.index(x[1])), enumerate(l)))\n",
    "\n",
    "\n",
    "print(posicion_elemento(lista)) \n",
    "\n",
    "\n",
    "\n"
   ]
  },
  {
   "cell_type": "code",
   "execution_count": 33,
   "metadata": {},
   "outputs": [
    {
     "data": {
      "text/plain": [
       "[0, 1, 2, 3, 4, 5, 6, 7, 8]"
      ]
     },
     "execution_count": 33,
     "metadata": {},
     "output_type": "execute_result"
    }
   ],
   "source": [
    "lista = [1, 2, 3, 4, 5, 6, 7, 8, 9]\n",
    "\n",
    "def posicion_elemento(l):\n",
    "    return list(map(lambda x: (l.index(x[1])), enumerate(l)))\n",
    "\n",
    "\n",
    "posicion_elemento(lista)"
   ]
  },
  {
   "cell_type": "markdown",
   "metadata": {
    "id": "aPOhW0p9AeJq"
   },
   "source": [
    "6) Crea una función lambda que reciba una lista como parámetro y devuelva una lista con la posición que ocupa el elmento en la lista. La función debe de ser empleada mediante map() para realizar su trabajo."
   ]
  },
  {
   "cell_type": "code",
   "execution_count": 36,
   "metadata": {
    "colab": {
     "base_uri": "https://localhost:8080/"
    },
    "id": "YBtxzsdKAJLy",
    "outputId": "3ce49c78-c1ef-450c-fbd2-f1fe1401d420"
   },
   "outputs": [
    {
     "ename": "AttributeError",
     "evalue": "'list' object has no attribute 'type'",
     "output_type": "error",
     "traceback": [
      "\u001b[1;31m---------------------------------------------------------------------------\u001b[0m",
      "\u001b[1;31mAttributeError\u001b[0m                            Traceback (most recent call last)",
      "\u001b[1;32m~\\AppData\\Local\\Temp\\ipykernel_14152\\1901961435.py\u001b[0m in \u001b[0;36m<module>\u001b[1;34m\u001b[0m\n\u001b[0;32m      4\u001b[0m \u001b[0mposicion_elemento\u001b[0m \u001b[1;33m=\u001b[0m \u001b[1;32mlambda\u001b[0m \u001b[0ml\u001b[0m\u001b[1;33m:\u001b[0m \u001b[0mlist\u001b[0m\u001b[1;33m(\u001b[0m\u001b[0mmap\u001b[0m\u001b[1;33m(\u001b[0m\u001b[1;32mlambda\u001b[0m \u001b[0mx\u001b[0m\u001b[1;33m:\u001b[0m \u001b[1;33m(\u001b[0m\u001b[0ml\u001b[0m\u001b[1;33m.\u001b[0m\u001b[0mindex\u001b[0m\u001b[1;33m(\u001b[0m\u001b[0mx\u001b[0m\u001b[1;33m[\u001b[0m\u001b[1;36m1\u001b[0m\u001b[1;33m]\u001b[0m\u001b[1;33m)\u001b[0m\u001b[1;33m)\u001b[0m\u001b[1;33m,\u001b[0m \u001b[0menumerate\u001b[0m\u001b[1;33m(\u001b[0m\u001b[0ml\u001b[0m\u001b[1;33m)\u001b[0m\u001b[1;33m)\u001b[0m\u001b[1;33m)\u001b[0m\u001b[1;33m\u001b[0m\u001b[1;33m\u001b[0m\u001b[0m\n\u001b[0;32m      5\u001b[0m \u001b[1;33m\u001b[0m\u001b[0m\n\u001b[1;32m----> 6\u001b[1;33m \u001b[0mposicion_elemento\u001b[0m\u001b[1;33m(\u001b[0m\u001b[0mlista\u001b[0m\u001b[1;33m)\u001b[0m\u001b[1;33m.\u001b[0m\u001b[0mtype\u001b[0m\u001b[1;33m\u001b[0m\u001b[1;33m\u001b[0m\u001b[0m\n\u001b[0m\u001b[0;32m      7\u001b[0m \u001b[1;33m\u001b[0m\u001b[0m\n",
      "\u001b[1;31mAttributeError\u001b[0m: 'list' object has no attribute 'type'"
     ]
    }
   ],
   "source": [
    "# RESPUESTA\n",
    "lista = [1, 2, 3, 4, 5, 6, 7, 8, 9]\n",
    "\n",
    "posicion_elemento = lambda l: list(map(lambda x: (l.index(x[1])), enumerate(l)))\n",
    "\n",
    "posicion_elemento(lista)\n",
    "\n"
   ]
  },
  {
   "cell_type": "markdown",
   "metadata": {
    "id": "6UKkAccRAxio"
   },
   "source": [
    "7) Escribe una función lambda tal que tome una lista de números y separe los números pares de los impares en sendas listas."
   ]
  },
  {
   "cell_type": "code",
   "execution_count": 16,
   "metadata": {},
   "outputs": [
    {
     "name": "stdout",
     "output_type": "stream",
     "text": [
      "[2, 4, 6, 8]\n",
      "[1, 3, 5, 7, 9]\n"
     ]
    }
   ],
   "source": [
    "separar_pares_impares = lambda l: [[n for n in l if n % 2 == 0], [n for n in l if n % 2 != 0]]\n",
    "\n",
    "lista = [1, 2, 3, 4, 5, 6, 7, 8, 9]\n",
    "pares, impares = separar_pares_impares(lista)\n",
    "print(pares)\n",
    "print(impares)\n"
   ]
  },
  {
   "cell_type": "markdown",
   "metadata": {
    "id": "d7N3eFeIFFR2"
   },
   "source": [
    "8) Escribe una función en Python DESARROLLADA POR TI, tal que extraiga una porción de una cadena dada como parámetro. A la función también se le indicará la posición inicial y final de la subcadena que se ha de extraer de la cadena de texto dada. La función ha de controlar que los parámetros sean correctos, para que no de errores no controlados."
   ]
  },
  {
   "cell_type": "code",
   "execution_count": 7,
   "metadata": {
    "id": "qKkDKe_2xhYp"
   },
   "outputs": [],
   "source": [
    "# RESPUESTA\n",
    "\n",
    "\n",
    "\n",
    "\n",
    "\n"
   ]
  },
  {
   "cell_type": "markdown",
   "metadata": {
    "id": "Df4ktER1JTnR"
   },
   "source": [
    "9) Desarrolla una función que tome una letra como parámetro y la clasifique como vocal o consonante, según corresponda."
   ]
  },
  {
   "cell_type": "code",
   "execution_count": 61,
   "metadata": {
    "colab": {
     "base_uri": "https://localhost:8080/"
    },
    "id": "q6ygZ1w7Dzs1",
    "outputId": "d605d0c4-1bb4-491e-c575-defee8ab91a6"
   },
   "outputs": [
    {
     "name": "stdout",
     "output_type": "stream",
     "text": [
      "o\n",
      "Es una vocal\n"
     ]
    }
   ],
   "source": [
    "# RESPUESTA\n",
    "import random\n",
    "import string\n",
    "abecedario = list(string.ascii_lowercase)\n",
    "vocales= ['a','e','i','o','u']\n",
    "\n",
    "def calificador_letras (n):\n",
    "    if n in vocales:\n",
    "        print('Es una vocal')\n",
    "    else:\n",
    "        print('No es una vocal')\n",
    "letra=random.choice(abecedario)\n",
    "print(letra)\n",
    "calificador_letras(letra)"
   ]
  },
  {
   "cell_type": "markdown",
   "metadata": {
    "id": "y6k7oGtPN_SG"
   },
   "source": [
    "10) Escribe una función que calcule la distancia euclídea en dos dimensiones, entre dos puntos pasados a la misma como parámetros.\n",
    "![image.png](data:image/png;base64,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)"
   ]
  },
  {
   "cell_type": "code",
   "execution_count": 8,
   "metadata": {
    "id": "mRXldnvpJLg4"
   },
   "outputs": [],
   "source": [
    "# RESPUESTA\n",
    "\n",
    "\n",
    "\n",
    "\n",
    "\n"
   ]
  },
  {
   "cell_type": "code",
   "execution_count": null,
   "metadata": {
    "id": "olhQv7DGKpV8"
   },
   "outputs": [],
   "source": []
  }
 ],
 "metadata": {
  "colab": {
   "provenance": []
  },
  "hide_input": false,
  "kernelspec": {
   "display_name": "Python 3 (ipykernel)",
   "language": "python",
   "name": "python3"
  },
  "language_info": {
   "codemirror_mode": {
    "name": "ipython",
    "version": 3
   },
   "file_extension": ".py",
   "mimetype": "text/x-python",
   "name": "python",
   "nbconvert_exporter": "python",
   "pygments_lexer": "ipython3",
   "version": "3.9.13"
  },
  "nbTranslate": {
   "displayLangs": [
    "*"
   ],
   "hotkey": "alt-t",
   "langInMainMenu": true,
   "sourceLang": "en",
   "targetLang": "fr",
   "useGoogleTranslate": true
  },
  "toc": {
   "base_numbering": 1,
   "nav_menu": {},
   "number_sections": true,
   "sideBar": true,
   "skip_h1_title": false,
   "title_cell": "Table of Contents",
   "title_sidebar": "Contents",
   "toc_cell": false,
   "toc_position": {},
   "toc_section_display": true,
   "toc_window_display": false
  },
  "varInspector": {
   "cols": {
    "lenName": 16,
    "lenType": 16,
    "lenVar": 40
   },
   "kernels_config": {
    "python": {
     "delete_cmd_postfix": "",
     "delete_cmd_prefix": "del ",
     "library": "var_list.py",
     "varRefreshCmd": "print(var_dic_list())"
    },
    "r": {
     "delete_cmd_postfix": ") ",
     "delete_cmd_prefix": "rm(",
     "library": "var_list.r",
     "varRefreshCmd": "cat(var_dic_list()) "
    }
   },
   "position": {
    "height": "144.188px",
    "left": "910px",
    "right": "20px",
    "top": "121px",
    "width": "350px"
   },
   "types_to_exclude": [
    "module",
    "function",
    "builtin_function_or_method",
    "instance",
    "_Feature"
   ],
   "window_display": false
  }
 },
 "nbformat": 4,
 "nbformat_minor": 1
}
