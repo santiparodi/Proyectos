{
 "cells": [
  {
   "cell_type": "markdown",
   "metadata": {
    "id": "SgdYsVmWH78l"
   },
   "source": [
    "### **Bucles de control del programa**"
   ]
  },
  {
   "cell_type": "markdown",
   "metadata": {
    "id": "H5VpNsOgBxOY"
   },
   "source": [
    "### Bucles For"
   ]
  },
  {
   "cell_type": "markdown",
   "metadata": {
    "id": "MsvcHuQbB6RX"
   },
   "source": [
    "### Iteración a través de una lista"
   ]
  },
  {
   "cell_type": "code",
   "execution_count": 1,
   "metadata": {
    "colab": {
     "base_uri": "https://localhost:8080/"
    },
    "executionInfo": {
     "elapsed": 6,
     "status": "ok",
     "timestamp": 1622489247689,
     "user": {
      "displayName": "Alfonso AAG",
      "photoUrl": "",
      "userId": "05855385902499719219"
     },
     "user_tz": -120
    },
    "id": "naOuQq4FB1an",
    "outputId": "f0cb3e83-ee44-4b2f-bb04-4ab8a18e9c8a"
   },
   "outputs": [
    {
     "name": "stdout",
     "output_type": "stream",
     "text": [
      "Coche\n",
      "Casa\n",
      "Playa\n"
     ]
    }
   ],
   "source": [
    "miLista = [\"Coche\", \"Casa\", \"Playa\"]\n",
    "for x in miLista: # Toma cada uno de los elementos y los asigna a la variable x\n",
    "  print(x) # Imprime la variable x"
   ]
  },
  {
   "cell_type": "markdown",
   "metadata": {
    "id": "U6fW2XL0Cb8p"
   },
   "source": [
    "### Iteración a través de los elementos de una cadena"
   ]
  },
  {
   "cell_type": "code",
   "execution_count": null,
   "metadata": {
    "colab": {
     "base_uri": "https://localhost:8080/"
    },
    "id": "se3j0wjmDr4_",
    "outputId": "49eb2c9a-00e4-44de-c421-d6e20d8b033b"
   },
   "outputs": [
    {
     "name": "stdout",
     "output_type": "stream",
     "text": [
      "E\n",
      "A\n",
      "E\n",
      " \n",
      "B\n",
      "u\n",
      "s\n",
      "i\n",
      "n\n",
      "e\n",
      "s\n",
      "s\n",
      " \n",
      "S\n",
      "c\n",
      "h\n",
      "o\n",
      "o\n",
      "l\n"
     ]
    }
   ],
   "source": [
    "for x in \"EAE Business School\": # Toma elemento a elemento de la cadena y lo asigna a la variable x\n",
    "  print(x) # Imprime la variable x. "
   ]
  },
  {
   "cell_type": "markdown",
   "metadata": {
    "id": "RU1HJbbRDuNy"
   },
   "source": [
    "### Ejercicio.\n",
    " \n",
    "Repite el ejercicio anterior pero, imprime la cadena tal como pararece en la lista."
   ]
  },
  {
   "cell_type": "code",
   "execution_count": 2,
   "metadata": {
    "colab": {
     "base_uri": "https://localhost:8080/"
    },
    "executionInfo": {
     "elapsed": 362,
     "status": "ok",
     "timestamp": 1622489635816,
     "user": {
      "displayName": "Alfonso AAG",
      "photoUrl": "",
      "userId": "05855385902499719219"
     },
     "user_tz": -120
    },
    "id": "F_MNi_QTCggg",
    "outputId": "ed76552b-2fad-4173-8c28-a5ff5ef9495d"
   },
   "outputs": [
    {
     "name": "stdout",
     "output_type": "stream",
     "text": [
      "EAE Business School"
     ]
    }
   ],
   "source": [
    "# Respuesta\n",
    "for x in \"EAE Business School\": # Toma elemento a elemento de la cadena y lo asigna a la variable x\n",
    "  print(x, end='') # Imprime la variable x. "
   ]
  },
  {
   "cell_type": "markdown",
   "metadata": {
    "id": "XkTEXzLhDNAx"
   },
   "source": [
    "### Detener la ejecución con `break` de un bucle dada una condición"
   ]
  },
  {
   "cell_type": "code",
   "execution_count": null,
   "metadata": {
    "colab": {
     "base_uri": "https://localhost:8080/"
    },
    "id": "yrGBirUZDSIQ",
    "outputId": "fd5d4ccf-3568-4a58-fd3d-3444e230cd5a"
   },
   "outputs": [
    {
     "name": "stdout",
     "output_type": "stream",
     "text": [
      "Coche\n",
      "Casa\n"
     ]
    }
   ],
   "source": [
    "miLista =[\"Coche\", \"Casa\", \"Playa\"]\n",
    "for x in miLista:\n",
    "  print(x)\n",
    "  if x == \"Casa\":\n",
    "    break\n"
   ]
  },
  {
   "cell_type": "markdown",
   "metadata": {
    "id": "lidsB8pzFwyY"
   },
   "source": [
    "### Establecer saltos en la secuencia del bucle mediante `continue`"
   ]
  },
  {
   "cell_type": "code",
   "execution_count": null,
   "metadata": {
    "colab": {
     "base_uri": "https://localhost:8080/"
    },
    "id": "sHOpW9xZFsz6",
    "outputId": "91eacef7-5fb2-4a1c-b429-cb7b8a7fa5b3"
   },
   "outputs": [
    {
     "name": "stdout",
     "output_type": "stream",
     "text": [
      "1\n",
      "2\n",
      "4\n",
      "5\n"
     ]
    }
   ],
   "source": [
    "intLista =[1, 2, 3, 4, 5]\n",
    "for x in intLista:\n",
    "  if x == 3:\n",
    "    continue\n",
    "  print(x)"
   ]
  },
  {
   "cell_type": "markdown",
   "metadata": {
    "id": "M7iOjJNhTUZM"
   },
   "source": [
    "### Ejercicio\n",
    " \n",
    "Suma los dos primeros y los dos últimos elementos de la lista"
   ]
  },
  {
   "cell_type": "code",
   "execution_count": 3,
   "metadata": {
    "executionInfo": {
     "elapsed": 374,
     "status": "ok",
     "timestamp": 1622490135646,
     "user": {
      "displayName": "Alfonso AAG",
      "photoUrl": "",
      "userId": "05855385902499719219"
     },
     "user_tz": -120
    },
    "id": "GDtF6TQ4FkKk"
   },
   "outputs": [],
   "source": [
    "intLista =[1, 2, 3, 4, 5]\n",
    "\n",
    "# Respuesta\n"
   ]
  },
  {
   "cell_type": "markdown",
   "metadata": {
    "id": "uyIYpZEPW8c3"
   },
   "source": [
    "### Iterar dentro de un rango de valores con `range()`"
   ]
  },
  {
   "cell_type": "code",
   "execution_count": 4,
   "metadata": {
    "colab": {
     "base_uri": "https://localhost:8080/"
    },
    "executionInfo": {
     "elapsed": 496,
     "status": "ok",
     "timestamp": 1622490171415,
     "user": {
      "displayName": "Alfonso AAG",
      "photoUrl": "",
      "userId": "05855385902499719219"
     },
     "user_tz": -120
    },
    "id": "IhnnxtfzXOD4",
    "outputId": "f9460ffd-3a5b-437f-cf78-3ac8a192aabd"
   },
   "outputs": [
    {
     "name": "stdout",
     "output_type": "stream",
     "text": [
      "0\n",
      "1\n",
      "2\n",
      "3\n",
      "4\n",
      "5\n",
      "6\n",
      "7\n",
      "8\n",
      "9\n"
     ]
    }
   ],
   "source": [
    "for x in range(10):\n",
    "  print(x)"
   ]
  },
  {
   "cell_type": "markdown",
   "metadata": {
    "id": "lGyrI29_XudV"
   },
   "source": [
    "### Iteracción entre dos valores de un rango"
   ]
  },
  {
   "cell_type": "code",
   "execution_count": 6,
   "metadata": {
    "colab": {
     "base_uri": "https://localhost:8080/"
    },
    "executionInfo": {
     "elapsed": 326,
     "status": "ok",
     "timestamp": 1622490200590,
     "user": {
      "displayName": "Alfonso AAG",
      "photoUrl": "",
      "userId": "05855385902499719219"
     },
     "user_tz": -120
    },
    "id": "KPTHiKGwX7gz",
    "outputId": "c67127db-f0e3-41f4-c6c4-b027b56d2cd4"
   },
   "outputs": [
    {
     "name": "stdout",
     "output_type": "stream",
     "text": [
      "8\n",
      "9\n"
     ]
    }
   ],
   "source": [
    "for x in range(8, 10):\n",
    "  print(x)"
   ]
  },
  {
   "cell_type": "markdown",
   "metadata": {
    "id": "Ytom06utXX5G"
   },
   "source": [
    "### Interacción modificando el tamaño del paso"
   ]
  },
  {
   "cell_type": "code",
   "execution_count": null,
   "metadata": {
    "colab": {
     "base_uri": "https://localhost:8080/"
    },
    "id": "Y1_VI5QYXgQg",
    "outputId": "adf23c84-ec6c-46a3-8097-00afe93b8210"
   },
   "outputs": [
    {
     "name": "stdout",
     "output_type": "stream",
     "text": [
      "0\n",
      "3\n",
      "6\n",
      "9\n"
     ]
    }
   ],
   "source": [
    "for x in range(0, 10, 3):\n",
    "  print(x)"
   ]
  },
  {
   "cell_type": "markdown",
   "metadata": {
    "id": "-fBEP34tYJDM"
   },
   "source": [
    "### Ejercicio\n",
    " \n",
    "Cuenta desde 10 hasta 0 usando `range`"
   ]
  },
  {
   "cell_type": "code",
   "execution_count": 8,
   "metadata": {
    "colab": {
     "base_uri": "https://localhost:8080/"
    },
    "executionInfo": {
     "elapsed": 334,
     "status": "ok",
     "timestamp": 1622490385659,
     "user": {
      "displayName": "Alfonso AAG",
      "photoUrl": "",
      "userId": "05855385902499719219"
     },
     "user_tz": -120
    },
    "id": "0R85S3VaYDjB",
    "outputId": "4bd989da-23c5-4e3e-e16d-02b41423a8ee"
   },
   "outputs": [
    {
     "name": "stdout",
     "output_type": "stream",
     "text": [
      "10\n",
      "9\n",
      "8\n",
      "7\n",
      "6\n",
      "5\n",
      "4\n",
      "3\n",
      "2\n",
      "1\n",
      "0\n"
     ]
    }
   ],
   "source": [
    "# Respuesta\n",
    "for x in range(10, -1, -1):\n",
    "  print(x)"
   ]
  },
  {
   "cell_type": "markdown",
   "metadata": {
    "id": "l10U1ycOvAt-"
   },
   "source": [
    "### Ejercicio.\n",
    " \n",
    "Recorre la lista siguiente usando `range`. Muestra el contenido y su ordinal asociado"
   ]
  },
  {
   "cell_type": "code",
   "execution_count": 10,
   "metadata": {
    "colab": {
     "base_uri": "https://localhost:8080/"
    },
    "executionInfo": {
     "elapsed": 330,
     "status": "ok",
     "timestamp": 1622490765458,
     "user": {
      "displayName": "Alfonso AAG",
      "photoUrl": "",
      "userId": "05855385902499719219"
     },
     "user_tz": -120
    },
    "id": "tIxmM3WXXE_U",
    "outputId": "7122b297-535b-4f37-8ce2-8d23750dbd60"
   },
   "outputs": [
    {
     "name": "stdout",
     "output_type": "stream",
     "text": [
      "0 1\n",
      "1 2\n",
      "2 3\n",
      "3 4\n",
      "4 5\n"
     ]
    }
   ],
   "source": [
    "intLista =[1, 2, 3, 4, 5]\n",
    "\n",
    "# Respuesta\n",
    "for i in range(5):\n",
    "  print(i, intLista[i])"
   ]
  },
  {
   "cell_type": "markdown",
   "metadata": {
    "id": "G33Y8e3PGunJ"
   },
   "source": [
    "### Estructuras de control del programa/Claúsulas de decisión"
   ]
  },
  {
   "cell_type": "code",
   "execution_count": 11,
   "metadata": {
    "colab": {
     "base_uri": "https://localhost:8080/"
    },
    "executionInfo": {
     "elapsed": 329,
     "status": "ok",
     "timestamp": 1622490967314,
     "user": {
      "displayName": "Alfonso AAG",
      "photoUrl": "",
      "userId": "05855385902499719219"
     },
     "user_tz": -120
    },
    "id": "uW-zVebcGdCs",
    "outputId": "1878da0d-29a6-4326-ff19-3284e04bbce7"
   },
   "outputs": [
    {
     "name": "stdout",
     "output_type": "stream",
     "text": [
      "Número entre 30 y 100\n"
     ]
    }
   ],
   "source": [
    "  \n",
    "numero = 99\n",
    "if(numero <= 12): \n",
    "    print(\"Num menor que 12\") \n",
    "elif(numero >= 30 and numero <=100): \n",
    "    print(\"Número entre 30 y 100\") \n",
    "else: \n",
    "    print(\"Número mayor de 100\") "
   ]
  },
  {
   "cell_type": "markdown",
   "metadata": {
    "id": "85gG083oWICf"
   },
   "source": [
    "### Ejeción de una instrucción al final de un ciclo"
   ]
  },
  {
   "cell_type": "code",
   "execution_count": null,
   "metadata": {
    "colab": {
     "base_uri": "https://localhost:8080/"
    },
    "id": "BwwYtlVTWPh3",
    "outputId": "9f6f6786-7658-4731-c5e2-c4f028857a3f"
   },
   "outputs": [
    {
     "name": "stdout",
     "output_type": "stream",
     "text": [
      "0\n",
      "1\n",
      "2\n",
      "3\n",
      "4\n",
      "5\n",
      "Ejecuta al finalizar el bucle\n"
     ]
    }
   ],
   "source": [
    "for x in range(6):\n",
    "  print(x)\n",
    "else:\n",
    "  print(\"Ejecuta al finalizar el bucle\")"
   ]
  },
  {
   "cell_type": "markdown",
   "metadata": {
    "id": "bL0FalBgZH6O"
   },
   "source": [
    "### Bucles anidados"
   ]
  },
  {
   "cell_type": "code",
   "execution_count": null,
   "metadata": {
    "colab": {
     "base_uri": "https://localhost:8080/"
    },
    "id": "59KVUMVyZLm4",
    "outputId": "2b2f04a9-2c3a-4502-f960-5066a3f19493"
   },
   "outputs": [
    {
     "name": "stdout",
     "output_type": "stream",
     "text": [
      "red apple\n",
      "red banana\n",
      "red cherry\n",
      "big apple\n",
      "big banana\n",
      "big cherry\n",
      "tasty apple\n",
      "tasty banana\n",
      "tasty cherry\n"
     ]
    }
   ],
   "source": [
    "adj = [\"red\", \"big\", \"tasty\"]\n",
    "fruits = [\"apple\", \"banana\", \"cherry\"]\n",
    "\n",
    "for x in adj:\n",
    "  for y in fruits:\n",
    "    print(x, y)"
   ]
  },
  {
   "cell_type": "code",
   "execution_count": null,
   "metadata": {
    "colab": {
     "base_uri": "https://localhost:8080/"
    },
    "id": "5croXiRuZkU1",
    "outputId": "3ea83986-398e-4ae8-efea-25956f5b8dbc"
   },
   "outputs": [
    {
     "name": "stdout",
     "output_type": "stream",
     "text": [
      "red apple\n",
      "red banana\n",
      "red cherry\n",
      "big apple\n",
      "big banana\n",
      "big cherry\n",
      "tasty apple\n",
      "tasty banana\n",
      "tasty cherry\n"
     ]
    },
    {
     "data": {
      "text/plain": [
       "[None, None, None, None, None, None, None, None, None]"
      ]
     },
     "execution_count": 14,
     "metadata": {
      "tags": []
     },
     "output_type": "execute_result"
    }
   ],
   "source": [
    "adj = [\"red\", \"big\", \"tasty\"]\n",
    "fruits = [\"apple\", \"banana\", \"cherry\"]\n",
    "\n",
    "[print(adjetivo, fruta) for adjetivo in adj for fruta in fruits]\n",
    "\n"
   ]
  },
  {
   "cell_type": "markdown",
   "metadata": {
    "id": "p03syBJLcdbf"
   },
   "source": [
    "### Ejercicio\n",
    " \n",
    "Escribe un bucle for in-line tal que imprima la siguiente lista de listas en orden creciente, esto es: 1,2,3,..."
   ]
  },
  {
   "cell_type": "code",
   "execution_count": null,
   "metadata": {
    "colab": {
     "base_uri": "https://localhost:8080/"
    },
    "id": "3yvRTJWbcQF4",
    "outputId": "09a63351-88f4-411b-eca2-a559f4d7b1b4"
   },
   "outputs": [
    {
     "data": {
      "text/plain": [
       "[1, 2, 3, 4, 5, 6, 7, 8, 9, 10]"
      ]
     },
     "execution_count": 18,
     "metadata": {
      "tags": []
     },
     "output_type": "execute_result"
    }
   ],
   "source": [
    "non_flat = [ [1,2,3], [4,5,6], [7,8], [9], [10] ]\n",
    "\n",
    "# Respuesta\n",
    "\n"
   ]
  },
  {
   "cell_type": "markdown",
   "metadata": {
    "id": "u-R6xbvRdRsA"
   },
   "source": [
    "### Ejercicio\n",
    " \n",
    "Repite el ejercicio anterior, pero imprimiento SÓLO las listas con más de 2 elementos"
   ]
  },
  {
   "cell_type": "code",
   "execution_count": null,
   "metadata": {
    "colab": {
     "base_uri": "https://localhost:8080/"
    },
    "id": "SGXWowPvda7Y",
    "outputId": "c3d52774-0370-4292-fc18-367b1ac2d34d"
   },
   "outputs": [
    {
     "data": {
      "text/plain": [
       "[1, 2, 3, 4, 5, 6]"
      ]
     },
     "execution_count": 19,
     "metadata": {
      "tags": []
     },
     "output_type": "execute_result"
    }
   ],
   "source": [
    "# Respuesta\n",
    "\n"
   ]
  },
  {
   "cell_type": "markdown",
   "metadata": {
    "id": "1Nz2Jbsjds_G"
   },
   "source": [
    "### El método `enumerate()` en Python. Nos permite mostrar no sólo el elemento de la lista, sino también su ordinal correspondiente"
   ]
  },
  {
   "cell_type": "code",
   "execution_count": null,
   "metadata": {
    "colab": {
     "base_uri": "https://localhost:8080/"
    },
    "id": "cNmjviVld15A",
    "outputId": "51013bd8-9831-46f3-e02d-02a7838816d9"
   },
   "outputs": [
    {
     "name": "stdout",
     "output_type": "stream",
     "text": [
      "0 1\n",
      "1 2\n",
      "2 3\n",
      "3 4\n",
      "4 5\n"
     ]
    }
   ],
   "source": [
    "for i,j in enumerate(intLista):\n",
    "  print(i,j)"
   ]
  },
  {
   "cell_type": "markdown",
   "metadata": {
    "id": "vhjpAoKSfrI1"
   },
   "source": [
    "### Bucles `while`"
   ]
  },
  {
   "cell_type": "code",
   "execution_count": null,
   "metadata": {
    "id": "b5a38viFfwy8"
   },
   "outputs": [],
   "source": [
    "i = 1\n",
    "while i < 6:\n",
    "  print(i)\n",
    "  i += 1 # IMPORTATE, sino, entrará en bucle infinito"
   ]
  },
  {
   "cell_type": "code",
   "execution_count": null,
   "metadata": {
    "colab": {
     "base_uri": "https://localhost:8080/"
    },
    "id": "gDpiZQDNf65w",
    "outputId": "7df0ff8a-f578-4386-9a17-ba9d9dbfd9f4"
   },
   "outputs": [
    {
     "name": "stdout",
     "output_type": "stream",
     "text": [
      "1\n",
      "2\n",
      "3\n"
     ]
    }
   ],
   "source": [
    "i = 1\n",
    "while i < 6:\n",
    "  print(i)\n",
    "  if i == 3:\n",
    "    break\n",
    "  i += 1"
   ]
  },
  {
   "cell_type": "code",
   "execution_count": null,
   "metadata": {
    "colab": {
     "base_uri": "https://localhost:8080/"
    },
    "id": "zQAAf8G3gBb5",
    "outputId": "be977eff-fa76-471f-aeb4-e54917817c32"
   },
   "outputs": [
    {
     "name": "stdout",
     "output_type": "stream",
     "text": [
      "1\n",
      "2\n",
      "4\n",
      "5\n",
      "6\n"
     ]
    }
   ],
   "source": [
    "i = 0\n",
    "while i < 6:\n",
    "  i += 1\n",
    "  if i == 3:\n",
    "    continue\n",
    "  print(i)"
   ]
  },
  {
   "cell_type": "markdown",
   "metadata": {
    "id": "EBcghIn5EjXB"
   },
   "source": [
    "### Ejercicio\n",
    " \n",
    "Usando un bucle `while`, muestra la combinaciónd de adjetivos y frutas del las listas siguientes, de la misma forma que hicimos con los bucles `for`"
   ]
  },
  {
   "cell_type": "code",
   "execution_count": null,
   "metadata": {
    "colab": {
     "base_uri": "https://localhost:8080/"
    },
    "id": "Ku9KgbC2C9MR",
    "outputId": "77d22fe3-86f2-44fe-bad8-6a8652d54c26"
   },
   "outputs": [
    {
     "name": "stdout",
     "output_type": "stream",
     "text": [
      "red apple\n",
      "red banana\n",
      "red cherry\n",
      "big apple\n",
      "big banana\n",
      "big cherry\n",
      "tasty apple\n",
      "tasty banana\n",
      "tasty cherry\n"
     ]
    }
   ],
   "source": [
    "adj = [\"red\", \"big\", \"tasty\"]\n",
    "fruits = [\"apple\", \"banana\", \"cherry\"]\n",
    "\n",
    "# Respuesta\n"
   ]
  },
  {
   "cell_type": "markdown",
   "metadata": {
    "id": "wwfEr4UbgX6l"
   },
   "source": [
    "### **Creación de funciones**\n",
    " \n",
    "# Nueva sección"
   ]
  },
  {
   "cell_type": "markdown",
   "metadata": {
    "id": "B-yfAA6F5PXZ"
   },
   "source": [
    "### Crear una función"
   ]
  },
  {
   "cell_type": "code",
   "execution_count": null,
   "metadata": {
    "colab": {
     "base_uri": "https://localhost:8080/"
    },
    "id": "RnixWF5MgXRx",
    "outputId": "91930ca4-a74f-4c2d-961c-4caff5ca9a43"
   },
   "outputs": [
    {
     "name": "stdout",
     "output_type": "stream",
     "text": [
      "Has llamado a la función: my_function\n"
     ]
    }
   ],
   "source": [
    "# Las funciones se definen con la palabra reservada `def` en la primera línea y esta, finaliza con `:`\n",
    "def my_function():\n",
    "  print('Has llamado a la función: ' + my_function.__name__) \n",
    "\n",
    "# Para que una función se ejecute, esta ha de ser invocada/llamada en algún punto del código\n",
    "my_function()"
   ]
  },
  {
   "cell_type": "markdown",
   "metadata": {
    "id": "T0Dbo4gmGVu2"
   },
   "source": [
    "### Pasar argumentos a una función"
   ]
  },
  {
   "cell_type": "code",
   "execution_count": null,
   "metadata": {
    "colab": {
     "base_uri": "https://localhost:8080/"
    },
    "id": "e1aSKvKKGUme",
    "outputId": "9f633d49-fe5b-4c3a-92fa-f52bf2888e2e"
   },
   "outputs": [
    {
     "name": "stdout",
     "output_type": "stream",
     "text": [
      "El nombre introducido es: Pepe\n",
      "El nombre introducido es: John\n"
     ]
    }
   ],
   "source": [
    "def my_function(nombre):\n",
    "  print('El nombre introducido es: ' + nombre)\n",
    "\n",
    "my_function('Pepe')\n",
    "my_function('John')"
   ]
  },
  {
   "cell_type": "markdown",
   "metadata": {
    "id": "-tFb-1vbG4GH"
   },
   "source": [
    "### Ejercicio\n",
    " \n",
    "Construye una función que realice la suma de dos números"
   ]
  },
  {
   "cell_type": "code",
   "execution_count": null,
   "metadata": {
    "colab": {
     "base_uri": "https://localhost:8080/"
    },
    "id": "QUTsTfOOHQmY",
    "outputId": "26165ec9-a121-4afd-f5c7-f37fb7743959"
   },
   "outputs": [
    {
     "name": "stdout",
     "output_type": "stream",
     "text": [
      "3\n"
     ]
    }
   ],
   "source": [
    "# Respuesta\n",
    "\n"
   ]
  },
  {
   "cell_type": "markdown",
   "metadata": {
    "id": "pDBsTGE7HpsF"
   },
   "source": [
    "## Ejercicio\n",
    " \n",
    "Construye una función que realice las siguientes operaciones matemáticas:\n",
    "* Suma\n",
    "* Resta\n",
    "* Multiplicación\n",
    "* División\n",
    " \n",
    "En función de los parámetros que reciba al ser llamada."
   ]
  },
  {
   "cell_type": "code",
   "execution_count": null,
   "metadata": {
    "colab": {
     "base_uri": "https://localhost:8080/"
    },
    "id": "3buoolBlH_1D",
    "outputId": "c10f134f-deef-42a2-944c-1af32c1ec8bc"
   },
   "outputs": [
    {
     "name": "stdout",
     "output_type": "stream",
     "text": [
      "8\n"
     ]
    }
   ],
   "source": [
    "# Respuesta\n",
    "\n"
   ]
  },
  {
   "cell_type": "markdown",
   "metadata": {
    "id": "aFHOcHzOJ8nR"
   },
   "source": [
    "### Pasar un número arbitrario de argumentos a una función `*args`. Usando `*` que la función reciba una tupla de números"
   ]
  },
  {
   "cell_type": "code",
   "execution_count": null,
   "metadata": {
    "colab": {
     "base_uri": "https://localhost:8080/"
    },
    "id": "ItybR9VKKHVG",
    "outputId": "f11ae0f4-6ca8-436c-8ce4-55acbb8f6d8b"
   },
   "outputs": [
    {
     "name": "stdout",
     "output_type": "stream",
     "text": [
      "5\n",
      "2\n",
      "3\n"
     ]
    }
   ],
   "source": [
    "def my_function(*numeros):\n",
    "  for i in numeros:\n",
    "    print(i)\n",
    "\n",
    "my_function(5, 2, 3) "
   ]
  },
  {
   "cell_type": "markdown",
   "metadata": {
    "id": "FRKI9C6iMt7w"
   },
   "source": [
    "### Listas como argumentos de una función\n",
    " "
   ]
  },
  {
   "cell_type": "code",
   "execution_count": null,
   "metadata": {
    "colab": {
     "base_uri": "https://localhost:8080/"
    },
    "id": "94FMymC2M1Ge",
    "outputId": "15cfe8c6-99a5-4d3d-f41d-afd96b5e0e67"
   },
   "outputs": [
    {
     "name": "stdout",
     "output_type": "stream",
     "text": [
      "apple banana cherry "
     ]
    }
   ],
   "source": [
    "def my_function(food):\n",
    "  for x in food:\n",
    "    print(x, end=' ')\n",
    "\n",
    "fruits = [\"apple\", \"banana\", \"cherry\"]\n",
    "\n",
    "my_function(fruits)"
   ]
  },
  {
   "cell_type": "markdown",
   "metadata": {
    "id": "v9POiuDEM6ge"
   },
   "source": [
    "### Ejercicio\n",
    " \n",
    "Elabora una función que reciba una lista de elementos y los devuelva ordenados"
   ]
  },
  {
   "cell_type": "code",
   "execution_count": null,
   "metadata": {
    "colab": {
     "base_uri": "https://localhost:8080/"
    },
    "id": "n9wkxY-INXVV",
    "outputId": "2bfa36c2-ed9e-4ce3-90ac-92cf5ef445fa"
   },
   "outputs": [
    {
     "name": "stdout",
     "output_type": "stream",
     "text": [
      "['apple', 'banana', 'cherry', 'orange']\n"
     ]
    }
   ],
   "source": [
    "fruits = [\"cherry\", \"banana\", \"apple\", \"orange\"]\n",
    "\n",
    "# Respuesta\n",
    "\n"
   ]
  },
  {
   "cell_type": "markdown",
   "metadata": {
    "id": "vqBarypdPSA_"
   },
   "source": [
    "### Ejercicio\n",
    " \n",
    "Confecciona una función que reciba una tupla de números y devuelva el menor"
   ]
  },
  {
   "cell_type": "code",
   "execution_count": null,
   "metadata": {
    "colab": {
     "base_uri": "https://localhost:8080/"
    },
    "id": "EwimpI7COxP_",
    "outputId": "07827bb8-f766-464f-b4ea-3623118df9ce"
   },
   "outputs": [
    {
     "name": "stdout",
     "output_type": "stream",
     "text": [
      "El número más pequeño es:  1\n"
     ]
    }
   ],
   "source": [
    "# Ejemplo 5, 1, 2, 3\n",
    "\n",
    "# Respuesta\n"
   ]
  },
  {
   "cell_type": "markdown",
   "metadata": {
    "id": "K_dcPrCaP_Pb"
   },
   "source": [
    "### Pasar argumentos a una función sin importa el orden de los mismos con `key = value`"
   ]
  },
  {
   "cell_type": "code",
   "execution_count": null,
   "metadata": {
    "colab": {
     "base_uri": "https://localhost:8080/"
    },
    "id": "islrpCdLP_Ak",
    "outputId": "122799ce-baba-408a-9ef0-50cc5fdb9dcc"
   },
   "outputs": [
    {
     "name": "stdout",
     "output_type": "stream",
     "text": [
      "La dirección es: Gutavo Zulupeta Gran Vía 23 28080\n"
     ]
    }
   ],
   "source": [
    "def my_function_key_value(nombre, calle, cod_postal):\n",
    "  print(\"La dirección es: \" + nombre + ' ' + calle + ' ' + cod_postal)\n",
    "\n",
    "my_function_key_value(cod_postal=\"28080\",calle='Gran Vía 23', nombre='Gutavo Zulupeta')"
   ]
  },
  {
   "cell_type": "markdown",
   "metadata": {
    "id": "nkN-yndXRS-T"
   },
   "source": [
    "### Pasar a la función un número general de argumentos identificados con su clave`**kwargs`"
   ]
  },
  {
   "cell_type": "code",
   "execution_count": null,
   "metadata": {
    "colab": {
     "base_uri": "https://localhost:8080/"
    },
    "id": "_Tv_wkF7Rmnn",
    "outputId": "5bfa2b4a-3b72-4b77-e490-ccb41d87368f"
   },
   "outputs": [
    {
     "name": "stdout",
     "output_type": "stream",
     "text": [
      "2º apellido: Gómez\n"
     ]
    }
   ],
   "source": [
    "def my_function(**destinatario):\n",
    "  print(\"2º apellido: \" + destinatario[\"apellido2\"])\n",
    "\n",
    "my_function(nombre = \"John\", apellido1 = \"Rodríguez\", apellido2 = \"Gómez\") # El orden en que se introducen no importa"
   ]
  },
  {
   "cell_type": "markdown",
   "metadata": {
    "id": "08WcS5fhUUY0"
   },
   "source": [
    "## Ejercicio\n",
    " \n",
    "Realiza una función que imprima en el orden correcto una dirección con 5 y con 7 argumentos:"
   ]
  },
  {
   "cell_type": "code",
   "execution_count": null,
   "metadata": {
    "colab": {
     "base_uri": "https://localhost:8080/"
    },
    "id": "2o7vJ9G1U6zJ",
    "outputId": "d71b7ace-249b-46d5-e347-542ae2e88691"
   },
   "outputs": [
    {
     "name": "stdout",
     "output_type": "stream",
     "text": [
      "Dirección:  John Rodríguez Gómez Bogotá 12 Izq. A 3º 6ª\n"
     ]
    }
   ],
   "source": [
    "# Respuesta\n",
    "\n"
   ]
  },
  {
   "cell_type": "markdown",
   "metadata": {
    "id": "DRRAfZcWtALA"
   },
   "source": [
    "### Devolución de valores desde una función con `return`"
   ]
  },
  {
   "cell_type": "code",
   "execution_count": null,
   "metadata": {
    "colab": {
     "base_uri": "https://localhost:8080/"
    },
    "id": "Jk8L0MzTt8hc",
    "outputId": "838cfa2e-d32d-4ea5-d9f1-9f959d6dff06"
   },
   "outputs": [
    {
     "name": "stdout",
     "output_type": "stream",
     "text": [
      "El cuadrado es:  4\n"
     ]
    }
   ],
   "source": [
    "def cuadrado(x):\n",
    "  return x**2\n",
    "\n",
    "print(\"El cuadrado es: \", cuadrado(2))"
   ]
  },
  {
   "cell_type": "code",
   "execution_count": null,
   "metadata": {
    "colab": {
     "base_uri": "https://localhost:8080/"
    },
    "id": "Xm0vPks0-7oS",
    "outputId": "6a399b44-640e-4f29-df7f-bfb491318eb8"
   },
   "outputs": [
    {
     "name": "stdout",
     "output_type": "stream",
     "text": [
      "20\n",
      "Una frase de ejemplo"
     ]
    }
   ],
   "source": [
    "frase = \"Una frase de ejemplo\"\n",
    "print(len(frase))\n",
    "\n",
    "def leeFrase(entrada):\n",
    "  for i in range(len(entrada)):\n",
    "    print(entrada[i], end='')\n",
    "\n",
    "leeFrase(frase)"
   ]
  },
  {
   "cell_type": "markdown",
   "metadata": {
    "id": "Pw8wwaYuBCsf"
   },
   "source": [
    "### Recursividad en funciones"
   ]
  },
  {
   "cell_type": "code",
   "execution_count": null,
   "metadata": {
    "colab": {
     "base_uri": "https://localhost:8080/"
    },
    "id": "XYAcrkIwBGIM",
    "outputId": "f30d3b99-7105-4cf1-88a0-fee0488a8dbe"
   },
   "outputs": [
    {
     "name": "stdout",
     "output_type": "stream",
     "text": [
      "1\n",
      "3\n",
      "6\n",
      "10\n",
      "15\n",
      "21\n"
     ]
    },
    {
     "data": {
      "text/plain": [
       "21"
      ]
     },
     "execution_count": 81,
     "metadata": {
      "tags": []
     },
     "output_type": "execute_result"
    }
   ],
   "source": [
    "def tri_recursion(k):\n",
    "  if(k > 0):\n",
    "    result = k + tri_recursion(k - 1)\n",
    "    print(result)\n",
    "  else:\n",
    "    result = 0\n",
    "  return result\n",
    "\n",
    "tri_recursion(6)\n"
   ]
  },
  {
   "cell_type": "code",
   "execution_count": null,
   "metadata": {
    "colab": {
     "base_uri": "https://localhost:8080/"
    },
    "id": "srLFpbSEGiim",
    "outputId": "eea698f9-e036-4a37-88e4-2b3c57576036"
   },
   "outputs": [
    {
     "name": "stdout",
     "output_type": "stream",
     "text": [
      "6\n"
     ]
    }
   ],
   "source": [
    "def factorial(num):\n",
    "  if num == 1:\n",
    "    return num\n",
    "  else:\n",
    "    return num * factorial(num - 1)\n",
    "\n",
    "print(factorial(3))"
   ]
  },
  {
   "cell_type": "markdown",
   "metadata": {
    "id": "gnssrtWqIIKz"
   },
   "source": [
    "### Ejercicio\n",
    " \n",
    "Usando recursividad, calcula la potencia de un número base^exponente\n",
    " \n",
    "Ejemplo: 4^3 = 64"
   ]
  },
  {
   "cell_type": "code",
   "execution_count": null,
   "metadata": {
    "colab": {
     "base_uri": "https://localhost:8080/"
    },
    "id": "AHVzmBPbB66P",
    "outputId": "cb799f86-d2f9-4950-9621-302dcb73f63f"
   },
   "outputs": [
    {
     "name": "stdout",
     "output_type": "stream",
     "text": [
      "64\n"
     ]
    }
   ],
   "source": [
    "# Respuesta\n",
    "\n"
   ]
  },
  {
   "cell_type": "markdown",
   "metadata": {
    "id": "aprEY7XhAO-p"
   },
   "source": [
    "### **Funciones anónimas o lambda**"
   ]
  },
  {
   "cell_type": "code",
   "execution_count": null,
   "metadata": {
    "colab": {
     "base_uri": "https://localhost:8080/"
    },
    "id": "AbQWT4jvAUI0",
    "outputId": "5609c486-d62f-4a82-bb02-066edcc7cfbc"
   },
   "outputs": [
    {
     "name": "stdout",
     "output_type": "stream",
     "text": [
      "16\n"
     ]
    }
   ],
   "source": [
    "x = lambda a : a*a\n",
    "\n",
    "print(x(4))"
   ]
  },
  {
   "cell_type": "markdown",
   "metadata": {
    "id": "miW6KYyFNHiX"
   },
   "source": [
    "### Funciones anónimas con filtrador `filter()`"
   ]
  },
  {
   "cell_type": "code",
   "execution_count": null,
   "metadata": {
    "colab": {
     "base_uri": "https://localhost:8080/"
    },
    "id": "WRimnbYEI_vB",
    "outputId": "766c39cb-49c5-4139-c0c7-7b68c61c873e"
   },
   "outputs": [
    {
     "name": "stdout",
     "output_type": "stream",
     "text": [
      "[5, 6]\n"
     ]
    }
   ],
   "source": [
    "# filter toma dos argumentos, una función y una lista de valores\n",
    "# Devuelve una lista con los valores de entrada que cumplen la condición\n",
    "lista = [2,3,4,5,6]\n",
    "resultados = list(filter(lambda x : (x > 4), lista))\n",
    "print(resultados)"
   ]
  },
  {
   "cell_type": "code",
   "execution_count": null,
   "metadata": {
    "colab": {
     "base_uri": "https://localhost:8080/"
    },
    "id": "_OSSqLlqPpQV",
    "outputId": "854b931e-f0bf-44e5-e5e1-2736e3d66483"
   },
   "outputs": [
    {
     "name": "stdout",
     "output_type": "stream",
     "text": [
      "[4, 9, 16, 25, 36]\n"
     ]
    }
   ],
   "source": [
    "# map() toma dos argumentos, una función y una lista de valores\n",
    "# Devuelve una lista con los valores de entrada tras aplicar la función lambda\n",
    "lista = [2,3,4,5,6]\n",
    "resultados = list(map(lambda x : (x * x), lista))\n",
    "print(resultados)"
   ]
  },
  {
   "cell_type": "code",
   "execution_count": null,
   "metadata": {
    "colab": {
     "base_uri": "https://localhost:8080/"
    },
    "id": "R2bNjXRQR9qE",
    "outputId": "70ece133-c3b9-4921-ebec-63085b61ecf0"
   },
   "outputs": [
    {
     "name": "stdout",
     "output_type": "stream",
     "text": [
      "[4, 6, 8, 10, 6]\n"
     ]
    }
   ],
   "source": [
    "lista = [2,3,4,5,6]\n",
    "resultados = list(map(lambda x : x if (x > 5) else x*2 , lista))\n",
    "\n",
    "print(resultados)"
   ]
  },
  {
   "cell_type": "markdown",
   "metadata": {
    "id": "VO6Q7FyyPmJz"
   },
   "source": [
    "### Funciones anónimas con filtrador `map()`"
   ]
  },
  {
   "cell_type": "markdown",
   "metadata": {
    "id": "SCzx_z0sBfqi"
   },
   "source": [
    "### Implementación de estructuras de control SWITCH CASE DEFAULT"
   ]
  },
  {
   "cell_type": "code",
   "execution_count": null,
   "metadata": {
    "colab": {
     "base_uri": "https://localhost:8080/"
    },
    "id": "IQFxtQRwHEIY",
    "outputId": "77005b14-695e-4296-c0c0-f823476b3c1f"
   },
   "outputs": [
    {
     "name": "stdout",
     "output_type": "stream",
     "text": [
      "October\n"
     ]
    }
   ],
   "source": [
    "def switch_demo(argument):\n",
    "  switcher = {\n",
    "      1: \"January\",\n",
    "      2: \"February\",\n",
    "      3: \"March\",\n",
    "      4: \"April\",\n",
    "      5: \"May\",\n",
    "      6: \"June\",\n",
    "      7: \"July\",\n",
    "      8: \"August\",\n",
    "      9: \"September\",\n",
    "      10: \"October\",\n",
    "      11: \"November\",\n",
    "      12: \"December\"\n",
    "      }\n",
    "  print(switcher.get(argument, \"Mes no válido\"))\n",
    "\n",
    "switch_demo(10)"
   ]
  },
  {
   "cell_type": "code",
   "execution_count": null,
   "metadata": {
    "id": "-uy6PREaIUGj"
   },
   "outputs": [],
   "source": [
    "def switch_demo_II(argument):\n",
    "  switcher = {\n",
    "      1: \"January\",\n",
    "      2: \"February\",\n",
    "      3: \"March\",\n",
    "      4: \"April\",\n",
    "      5: \"May\",\n",
    "      6: \"June\",\n",
    "      7: \"July\",\n",
    "      8: \"August\",\n",
    "      9: \"September\",\n",
    "      10: \"October\",\n",
    "      11: \"November\",\n",
    "      12: \"December\"\n",
    "      }\n",
    "  print(switcher.get(argument, \"Mes no válido\"))\n",
    "\n",
    "switch_demo(10)"
   ]
  },
  {
   "cell_type": "markdown",
   "metadata": {
    "id": "bULvPVYJV0wi"
   },
   "source": [
    "### Arrays en Python"
   ]
  },
  {
   "cell_type": "markdown",
   "metadata": {
    "id": "sayrqAksEhza"
   },
   "source": [
    "Método \tDescripción\n",
    " \n",
    "-----------+---------------------------------\n",
    "* append() - Añade elementos al final de un array\n",
    "* clear()\t- Elimina todos los elementos. Pero sigue existiendo\n",
    "* copy()\t- Genera una copia\n",
    "* count()\t- Devuelve el número de elementos con una etiqueta dada\n",
    "* extend()\t- Añade elementos de un array al final de otro\n",
    "* index()\t- Devuelve el índice de un elemento con una etiqueta determinada\n",
    "* insert()\t- Añade un elemento al array, en la posición determinada\n",
    "* pop()\t- Elimina el elemento que se encuentra en la posición dada\n",
    "* remove()\t- Elimina el elemento con la etiqueta dada\n",
    "* reverse()\t- Devuelve el array ordenado de forma inversa\n",
    "* sort()\t- Ordena un array"
   ]
  },
  {
   "cell_type": "markdown",
   "metadata": {
    "id": "U5925MC0V7hK"
   },
   "source": [
    "### Tamaño de un array"
   ]
  },
  {
   "cell_type": "markdown",
   "metadata": {
    "id": "U_aaVyDAG2MB"
   },
   "source": [
    "### Ejercicio.\n",
    " \n",
    "Determina el número de elementos del array"
   ]
  },
  {
   "cell_type": "code",
   "execution_count": null,
   "metadata": {
    "colab": {
     "base_uri": "https://localhost:8080/"
    },
    "id": "gwvQtq6JVkds",
    "outputId": "933689e0-1add-44ca-a6b2-d8397fbba28e"
   },
   "outputs": [
    {
     "data": {
      "text/plain": [
       "6"
      ]
     },
     "execution_count": 164,
     "metadata": {
      "tags": []
     },
     "output_type": "execute_result"
    }
   ],
   "source": [
    "coches = [\"Renault\", \"Toyota\", \"Ford\", \"Nissan\", \"Volvo\", \"BMW\"]\n",
    "\n",
    "# Respuesta\n"
   ]
  },
  {
   "cell_type": "markdown",
   "metadata": {
    "id": "myMGl41BWH9J"
   },
   "source": [
    "### Acceso a los elementos de un array"
   ]
  },
  {
   "cell_type": "markdown",
   "metadata": {
    "id": "5Ncbcft2HGbJ"
   },
   "source": [
    "### Ejercicio\n",
    " \n",
    "Extrae el primer elemento del array anterior"
   ]
  },
  {
   "cell_type": "code",
   "execution_count": null,
   "metadata": {
    "colab": {
     "base_uri": "https://localhost:8080/",
     "height": 36
    },
    "id": "92CJaUWmV_sF",
    "outputId": "688df99d-734e-483d-e4bb-c6c9dfcfcf21"
   },
   "outputs": [
    {
     "data": {
      "application/vnd.google.colaboratory.intrinsic+json": {
       "type": "string"
      },
      "text/plain": [
       "'Renault'"
      ]
     },
     "execution_count": 127,
     "metadata": {
      "tags": []
     },
     "output_type": "execute_result"
    }
   ],
   "source": [
    "# Respuesta\n",
    "\n"
   ]
  },
  {
   "cell_type": "markdown",
   "metadata": {
    "id": "xqt9gtiDWeAU"
   },
   "source": [
    "### Iterar a lo largo de los elementos de un array"
   ]
  },
  {
   "cell_type": "markdown",
   "metadata": {
    "id": "YQIdMvMmHSN_"
   },
   "source": [
    "### Ejercicio\n",
    " \n",
    "Itera a lo largo del array anterior, mostrando todos los elementos en orden y separados por coma `,`"
   ]
  },
  {
   "cell_type": "code",
   "execution_count": null,
   "metadata": {
    "colab": {
     "base_uri": "https://localhost:8080/"
    },
    "id": "ZfrIMiJnWF75",
    "outputId": "9f501928-dd23-44ee-87c4-caea0613b721"
   },
   "outputs": [
    {
     "name": "stdout",
     "output_type": "stream",
     "text": [
      "Renault,Toyota,Ford,Nissan,Volvo,BMW,"
     ]
    }
   ],
   "source": [
    "# Respuesta\n",
    "\n"
   ]
  },
  {
   "cell_type": "markdown",
   "metadata": {
    "id": "lUOllmnXW53Q"
   },
   "source": [
    "### Añadir elementos a un array"
   ]
  },
  {
   "cell_type": "markdown",
   "metadata": {
    "id": "hsRo1__IHm2z"
   },
   "source": [
    "### Ejercicio\n",
    " \n",
    "Añade al array anterior la marca `Honda`"
   ]
  },
  {
   "cell_type": "code",
   "execution_count": null,
   "metadata": {
    "id": "ELvn3OWPWmHp"
   },
   "outputs": [],
   "source": [
    "# Respuesta\n",
    "\n"
   ]
  },
  {
   "cell_type": "markdown",
   "metadata": {
    "id": "ozwM4HFSXDya"
   },
   "source": [
    "### Eliminar elementos de un array mediante su índice de posición"
   ]
  },
  {
   "cell_type": "markdown",
   "metadata": {
    "id": "mAo05lNcH7OW"
   },
   "source": [
    "### Ejercicio\n",
    " \n",
    "Elimina el primer elemento de array anterior"
   ]
  },
  {
   "cell_type": "code",
   "execution_count": null,
   "metadata": {
    "colab": {
     "base_uri": "https://localhost:8080/",
     "height": 36
    },
    "id": "Bh7egYPJW-29",
    "outputId": "cf7d87ba-7774-4216-d6c9-0d917a847df9"
   },
   "outputs": [
    {
     "data": {
      "application/vnd.google.colaboratory.intrinsic+json": {
       "type": "string"
      },
      "text/plain": [
       "'Toyota'"
      ]
     },
     "execution_count": 137,
     "metadata": {
      "tags": []
     },
     "output_type": "execute_result"
    }
   ],
   "source": [
    "# Respuesta\n",
    "\n"
   ]
  },
  {
   "cell_type": "markdown",
   "metadata": {
    "id": "JavvKT6NXTcN"
   },
   "source": [
    "### Eliminar elementos de un array mediante su etiqueta"
   ]
  },
  {
   "cell_type": "markdown",
   "metadata": {
    "id": "UTrzmzZ7IEpt"
   },
   "source": [
    "### Ejercicio\n",
    "\n",
    "Elimina la marca `Honda` del array anterior"
   ]
  },
  {
   "cell_type": "code",
   "execution_count": null,
   "metadata": {
    "id": "CXuEheHMXNHt"
   },
   "outputs": [],
   "source": [
    "# Respuesta\n",
    "\n"
   ]
  },
  {
   "cell_type": "markdown",
   "metadata": {
    "id": "PjqNOTzEXilR"
   },
   "source": [
    "### Eliminar todos los elementos del array.\n",
    " \n",
    "No elimina el array"
   ]
  },
  {
   "cell_type": "markdown",
   "metadata": {
    "id": "RNy1ub8HIQKv"
   },
   "source": [
    "### Ejercicio\n",
    " \n",
    "Elimina todos lo elementos del array anterior"
   ]
  },
  {
   "cell_type": "code",
   "execution_count": null,
   "metadata": {
    "id": "lV9y-Q6DXbaP"
   },
   "outputs": [],
   "source": [
    "# Respuesta\n",
    "\n"
   ]
  },
  {
   "cell_type": "markdown",
   "metadata": {
    "id": "QLzTo4KfX1Ee"
   },
   "source": [
    "### Copiar un array"
   ]
  },
  {
   "cell_type": "markdown",
   "metadata": {
    "id": "uJ-q68KtIbjZ"
   },
   "source": [
    "### Ejercicio\n",
    " \n",
    "Realiza una copia de todos lo elementos del array anterior"
   ]
  },
  {
   "cell_type": "code",
   "execution_count": null,
   "metadata": {
    "colab": {
     "base_uri": "https://localhost:8080/"
    },
    "id": "n4HFXT78XqqL",
    "outputId": "647ed3bc-3a24-4fb1-8abd-d2ea40907403"
   },
   "outputs": [
    {
     "data": {
      "text/plain": [
       "['Honda']"
      ]
     },
     "execution_count": 145,
     "metadata": {
      "tags": []
     },
     "output_type": "execute_result"
    }
   ],
   "source": [
    "# Respuesta\n",
    "\n"
   ]
  },
  {
   "cell_type": "markdown",
   "metadata": {
    "id": "LoNFSMSgYCdh"
   },
   "source": [
    "### Contar los elementos con una etiqueta específica."
   ]
  },
  {
   "cell_type": "markdown",
   "metadata": {
    "id": "N5r5xrRAIjYL"
   },
   "source": [
    "### Ejercicio\n",
    " \n",
    "Cuenta todos lo elementos del array anterior de la marca `Honda`"
   ]
  },
  {
   "cell_type": "code",
   "execution_count": null,
   "metadata": {
    "colab": {
     "base_uri": "https://localhost:8080/"
    },
    "id": "muiRYV_UX6mu",
    "outputId": "f6e5d29b-353d-41dc-8929-297bd6ec68ee"
   },
   "outputs": [
    {
     "data": {
      "text/plain": [
       "1"
      ]
     },
     "execution_count": 147,
     "metadata": {
      "tags": []
     },
     "output_type": "execute_result"
    }
   ],
   "source": [
    "# Respuesta\n",
    "\n"
   ]
  },
  {
   "cell_type": "markdown",
   "metadata": {
    "id": "d0z0NyTOaJ5k"
   },
   "source": [
    "### Añadir elementos de una lista a otra lista"
   ]
  },
  {
   "cell_type": "markdown",
   "metadata": {
    "id": "gtxWdfMRIsyC"
   },
   "source": [
    "### Ejercicio\n",
    " \n",
    "Añade las marcas de 3 automóviles deportivos al array anterior"
   ]
  },
  {
   "cell_type": "code",
   "execution_count": null,
   "metadata": {
    "colab": {
     "base_uri": "https://localhost:8080/"
    },
    "id": "3MShh3TTYLIs",
    "outputId": "8e7a21b7-9116-4e25-8261-d30c686ffb2e"
   },
   "outputs": [
    {
     "data": {
      "text/plain": [
       "['Renault',\n",
       " 'Toyota',\n",
       " 'Subaru',\n",
       " 'Ford',\n",
       " 'Nissan',\n",
       " 'Volvo',\n",
       " 'BMW',\n",
       " 'Ferrary',\n",
       " 'Aston Martin',\n",
       " 'Lamborghini']"
      ]
     },
     "execution_count": 161,
     "metadata": {
      "tags": []
     },
     "output_type": "execute_result"
    }
   ],
   "source": [
    "# Ejemplo: Ferrary, Aston Martin, etc.\n",
    "\n",
    "# Respuesta\n",
    "\n"
   ]
  },
  {
   "cell_type": "code",
   "execution_count": null,
   "metadata": {
    "id": "xt-v9BKrYvC9"
   },
   "outputs": [],
   "source": [
    ""
   ]
  },
  {
   "cell_type": "markdown",
   "metadata": {
    "id": "ryH6Uak3bjag"
   },
   "source": [
    "### Recuperar el índice del elemento de un array"
   ]
  },
  {
   "cell_type": "markdown",
   "metadata": {
    "id": "l6ohNFKDJKBf"
   },
   "source": [
    "### Ejercicio\n",
    " \n",
    "Recupera la posición que ocupa una de las marcas."
   ]
  },
  {
   "cell_type": "code",
   "execution_count": null,
   "metadata": {
    "colab": {
     "base_uri": "https://localhost:8080/"
    },
    "id": "NbQ1JBF6bgf6",
    "outputId": "401768ab-06eb-4f9a-dac6-1500cb1f864b"
   },
   "outputs": [
    {
     "data": {
      "text/plain": [
       "3"
      ]
     },
     "execution_count": 153,
     "metadata": {
      "tags": []
     },
     "output_type": "execute_result"
    }
   ],
   "source": [
    "# Ejemplo: Lamborghini\n",
    "\n",
    "# Respuesta \n",
    "\n"
   ]
  },
  {
   "cell_type": "markdown",
   "metadata": {
    "id": "peHwP2tDlRkj"
   },
   "source": [
    "### insertar un nuevo elemento en una posición dada"
   ]
  },
  {
   "cell_type": "markdown",
   "metadata": {
    "id": "6q74adH1JcWl"
   },
   "source": [
    "### Ejercicio\n",
    " \n",
    "Inserta al marca Subaru en la posición 2 del array anterior"
   ]
  },
  {
   "cell_type": "code",
   "execution_count": null,
   "metadata": {
    "colab": {
     "base_uri": "https://localhost:8080/"
    },
    "id": "KlnWrD6fbiK_",
    "outputId": "165c2c22-10f2-4a37-e219-5561c5de7623"
   },
   "outputs": [
    {
     "data": {
      "text/plain": [
       "['Renault', 'Toyota', 'Subaru', 'Ford', 'Nissan', 'Volvo', 'BMW']"
      ]
     },
     "execution_count": 160,
     "metadata": {
      "tags": []
     },
     "output_type": "execute_result"
    }
   ],
   "source": [
    "# Respuesta\n",
    "\n"
   ]
  },
  {
   "cell_type": "markdown",
   "metadata": {
    "id": "2yyAteYBl9nf"
   },
   "source": [
    "### Revertir el orden de elementos del array"
   ]
  },
  {
   "cell_type": "markdown",
   "metadata": {
    "id": "C-CQ5uG6Jrb1"
   },
   "source": [
    "### Ejercicio\n",
    " \n",
    "Recupera todos los elementos del array anterior, pero en orden inverso"
   ]
  },
  {
   "cell_type": "code",
   "execution_count": null,
   "metadata": {
    "colab": {
     "base_uri": "https://localhost:8080/"
    },
    "id": "NotolseyldEG",
    "outputId": "6fb2d314-b775-4339-dd28-8eab546e7886"
   },
   "outputs": [
    {
     "data": {
      "text/plain": [
       "['BMW', 'Volvo', 'Nissan', 'Ford', 'Toyota', 'Renault']"
      ]
     },
     "execution_count": 165,
     "metadata": {
      "tags": []
     },
     "output_type": "execute_result"
    }
   ],
   "source": [
    "# Respuesta\n",
    "\n"
   ]
  },
  {
   "cell_type": "code",
   "execution_count": null,
   "metadata": {
    "id": "dExutGeml1hM"
   },
   "outputs": [],
   "source": [
    ""
   ]
  }
 ],
 "metadata": {
  "colab": {
   "collapsed_sections": [
    "lGyrI29_XudV",
    "Ytom06utXX5G",
    "-fBEP34tYJDM",
    "l10U1ycOvAt-",
    "G33Y8e3PGunJ",
    "85gG083oWICf",
    "bL0FalBgZH6O",
    "p03syBJLcdbf",
    "u-R6xbvRdRsA",
    "1Nz2Jbsjds_G",
    "vhjpAoKSfrI1",
    "EBcghIn5EjXB",
    "wwfEr4UbgX6l",
    "B-yfAA6F5PXZ",
    "T0Dbo4gmGVu2",
    "-tFb-1vbG4GH",
    "pDBsTGE7HpsF",
    "aFHOcHzOJ8nR",
    "FRKI9C6iMt7w",
    "v9POiuDEM6ge",
    "vqBarypdPSA_",
    "K_dcPrCaP_Pb",
    "nkN-yndXRS-T",
    "08WcS5fhUUY0",
    "DRRAfZcWtALA",
    "Pw8wwaYuBCsf",
    "gnssrtWqIIKz",
    "aprEY7XhAO-p",
    "miW6KYyFNHiX",
    "VO6Q7FyyPmJz",
    "SCzx_z0sBfqi",
    "bULvPVYJV0wi",
    "U5925MC0V7hK",
    "U_aaVyDAG2MB",
    "myMGl41BWH9J",
    "5Ncbcft2HGbJ",
    "xqt9gtiDWeAU",
    "YQIdMvMmHSN_",
    "lUOllmnXW53Q",
    "hsRo1__IHm2z",
    "ozwM4HFSXDya",
    "mAo05lNcH7OW",
    "JavvKT6NXTcN",
    "UTrzmzZ7IEpt",
    "PjqNOTzEXilR",
    "RNy1ub8HIQKv",
    "QLzTo4KfX1Ee",
    "uJ-q68KtIbjZ",
    "LoNFSMSgYCdh",
    "N5r5xrRAIjYL",
    "d0z0NyTOaJ5k",
    "gtxWdfMRIsyC",
    "ryH6Uak3bjag",
    "l6ohNFKDJKBf",
    "peHwP2tDlRkj",
    "6q74adH1JcWl",
    "2yyAteYBl9nf",
    "C-CQ5uG6Jrb1"
   ],
   "name": "Clase_2_EAE_Alumnos_Bucles_de_Control.ipynb",
   "provenance": []
  },
  "kernelspec": {
   "display_name": "Python 3",
   "name": "python3"
  }
 },
 "nbformat": 4,
 "nbformat_minor": 0
}
