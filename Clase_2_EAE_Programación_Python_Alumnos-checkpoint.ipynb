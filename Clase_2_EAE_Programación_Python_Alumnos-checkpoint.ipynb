{
 "cells": [
  {
   "cell_type": "markdown",
   "metadata": {
    "id": "ZmOaVkJeG8j-"
   },
   "source": [
    "**IPython and Shell Commands**"
   ]
  },
  {
   "cell_type": "code",
   "execution_count": null,
   "metadata": {
    "colab": {
     "base_uri": "https://localhost:8080/"
    },
    "id": "Pq4QUU1pHUE7",
    "outputId": "3fe008fc-dfae-43e6-d2f8-ca9cf5ff3329"
   },
   "outputs": [
    {
     "name": "stdout",
     "output_type": "stream",
     "text": [
      "hello world\n"
     ]
    }
   ],
   "source": [
    "!echo \"hello world\""
   ]
  },
  {
   "cell_type": "code",
   "execution_count": null,
   "metadata": {
    "colab": {
     "base_uri": "https://localhost:8080/",
     "height": 35
    },
    "id": "DB4foJ5YHlL3",
    "outputId": "a6bafd98-855d-49f8-c3c6-7ea3bc1176e7"
   },
   "outputs": [
    {
     "data": {
      "application/vnd.google.colaboratory.intrinsic+json": {
       "type": "string"
      },
      "text/plain": [
       "'/content'"
      ]
     },
     "execution_count": 32,
     "metadata": {
      "tags": []
     },
     "output_type": "execute_result"
    }
   ],
   "source": [
    "pwd"
   ]
  },
  {
   "cell_type": "code",
   "execution_count": null,
   "metadata": {
    "colab": {
     "base_uri": "https://localhost:8080/"
    },
    "id": "ae9pBsrqHof3",
    "outputId": "02c8c348-8c8f-42f4-a007-cc7d7a4df89b"
   },
   "outputs": [
    {
     "name": "stdout",
     "output_type": "stream",
     "text": [
      "\u001b[0m\u001b[01;34mNuevoDirectorio\u001b[0m/  \u001b[01;34msample_data\u001b[0m/\n"
     ]
    }
   ],
   "source": [
    "ls"
   ]
  },
  {
   "cell_type": "code",
   "execution_count": null,
   "metadata": {
    "colab": {
     "base_uri": "https://localhost:8080/"
    },
    "id": "ZiVYUUD2HqG0",
    "outputId": "dd76762d-0b9f-4a7a-8f48-3f8ccb00d9a3"
   },
   "outputs": [
    {
     "name": "stdout",
     "output_type": "stream",
     "text": [
      "\u001b[0m\u001b[01;34mNuevoDirectorio\u001b[0m/  \u001b[01;34msample_data\u001b[0m/\n"
     ]
    }
   ],
   "source": [
    "%ls"
   ]
  },
  {
   "cell_type": "code",
   "execution_count": null,
   "metadata": {
    "colab": {
     "base_uri": "https://localhost:8080/"
    },
    "id": "1EjWMMUmIAKc",
    "outputId": "a471c2c2-4851-45b0-d116-ed951a8979a8"
   },
   "outputs": [
    {
     "name": "stdout",
     "output_type": "stream",
     "text": [
      "mkdir: cannot create directory ‘NuevoDirectorio’: File exists\n"
     ]
    }
   ],
   "source": [
    "mkdir NuevoDirectorio"
   ]
  },
  {
   "cell_type": "code",
   "execution_count": null,
   "metadata": {
    "colab": {
     "base_uri": "https://localhost:8080/"
    },
    "id": "ChPITBeMIKM_",
    "outputId": "e7c5b37d-3bb8-45d3-84c3-59f571e530d3"
   },
   "outputs": [
    {
     "name": "stdout",
     "output_type": "stream",
     "text": [
      "\u001b[0m\u001b[01;34mNuevoDirectorio\u001b[0m/  \u001b[01;34msample_data\u001b[0m/\n"
     ]
    }
   ],
   "source": [
    "ls"
   ]
  },
  {
   "cell_type": "code",
   "execution_count": null,
   "metadata": {
    "id": "LgLE_TAFIcj3"
   },
   "outputs": [],
   "source": [
    "# cd\n",
    "# Para cambiar de directorio"
   ]
  },
  {
   "cell_type": "code",
   "execution_count": null,
   "metadata": {
    "id": "1TCVqoQaImRE"
   },
   "outputs": [],
   "source": [
    "# mv\n",
    "# Para mover un archivo o directorio a otro emplazamiento"
   ]
  },
  {
   "cell_type": "markdown",
   "metadata": {
    "id": "d-h0NOzvHWRK"
   },
   "source": [
    "**Bases de Python / Python basis**"
   ]
  },
  {
   "cell_type": "markdown",
   "metadata": {
    "id": "YMvwEdtjqQ7n"
   },
   "source": [
    "Impresión de texto en pantalla/Print a message onto the screen"
   ]
  },
  {
   "cell_type": "code",
   "execution_count": null,
   "metadata": {
    "colab": {
     "base_uri": "https://localhost:8080/"
    },
    "id": "Yt9886uJpg-w",
    "outputId": "b0690a46-137f-4844-a4b3-4c95a98c0d63"
   },
   "outputs": [
    {
     "name": "stdout",
     "output_type": "stream",
     "text": [
      "Programacióne en Python. Primera clase\n"
     ]
    }
   ],
   "source": [
    "print(\"Programación en Python. Primera clase\")"
   ]
  },
  {
   "cell_type": "markdown",
   "metadata": {
    "id": "z3peHk9YBSco"
   },
   "source": [
    "Comentarios/Python Comments. Comienzan con/Comments starts with a **#**. Python will ignore the rest of the line"
   ]
  },
  {
   "cell_type": "code",
   "execution_count": null,
   "metadata": {
    "id": "_RqjdmeCBaO9"
   },
   "outputs": [],
   "source": [
    "# Esto es un comentario\n",
    "#This is a comment"
   ]
  },
  {
   "cell_type": "markdown",
   "metadata": {
    "id": "NjUiWfSRqhtn"
   },
   "source": [
    "*Variables/ Creating Variables*.\n",
    " \n",
    "Sirven para almacenar información/Variables are containers for storing data values."
   ]
  },
  {
   "cell_type": "code",
   "execution_count": null,
   "metadata": {
    "colab": {
     "base_uri": "https://localhost:8080/"
    },
    "id": "n_Imsl6Yqetl",
    "outputId": "0b7b4550-2b60-477f-a42d-7fead2cfe8bb"
   },
   "outputs": [
    {
     "name": "stdout",
     "output_type": "stream",
     "text": [
      "Programacióne en Python. Primera clase\n"
     ]
    }
   ],
   "source": [
    "# A variable is created the moment you first assign a value to it.\n",
    "texto = \"Programacióne en Python. Primera clase\" # Defino una variable para almacenar la cadena de texto\n",
    "print(texto)"
   ]
  },
  {
   "cell_type": "code",
   "execution_count": null,
   "metadata": {
    "colab": {
     "base_uri": "https://localhost:8080/"
    },
    "id": "dQlB4Wrpqua5",
    "outputId": "4ef4544e-d578-4099-fab0-6ed327b14c62"
   },
   "outputs": [
    {
     "name": "stdout",
     "output_type": "stream",
     "text": [
      "La suma de Numero1 y Numero2 es:  30\n"
     ]
    }
   ],
   "source": [
    "Numero1 = 10\n",
    "Numero2 = 20\n",
    "print(\"La suma de Numero1 y Numero2 es: \", Numero1 + Numero2)"
   ]
  },
  {
   "cell_type": "markdown",
   "metadata": {
    "id": "up9aw7UKI9uy"
   },
   "source": [
    "Nombres de variables válidas e inválidos/Valid and invalid variable names"
   ]
  },
  {
   "cell_type": "code",
   "execution_count": null,
   "metadata": {
    "id": "8Rv7gmSyJCP9"
   },
   "outputs": [],
   "source": [
    "myvariable = \"Hola\"\n",
    "my_variable = \"Hola\"\n",
    "_my_variable = \"Hola\"\n",
    "myYariable = \"Hola\"\n",
    "MYVariable = \"Hola\"\n",
    "myvariable2 = \"Hola\""
   ]
  },
  {
   "cell_type": "markdown",
   "metadata": {
    "id": "EfXPwzwEJW-A"
   },
   "source": [
    "Nombres de variables NO validas/Invelid variable names"
   ]
  },
  {
   "cell_type": "code",
   "execution_count": null,
   "metadata": {
    "colab": {
     "base_uri": "https://localhost:8080/",
     "height": 129
    },
    "id": "Sw0iYWUJJaTN",
    "outputId": "b3bb3a89-99d3-47d5-b639-cd90a8432f24"
   },
   "outputs": [
    {
     "ename": "SyntaxError",
     "evalue": "ignored",
     "output_type": "error",
     "traceback": [
      "\u001b[0;36m  File \u001b[0;32m\"<ipython-input-44-eb6cd42789c0>\"\u001b[0;36m, line \u001b[0;32m1\u001b[0m\n\u001b[0;31m    2myvvariable = \"Hola\"\u001b[0m\n\u001b[0m               ^\u001b[0m\n\u001b[0;31mSyntaxError\u001b[0m\u001b[0;31m:\u001b[0m invalid syntax\n"
     ]
    }
   ],
   "source": [
    "2myvvariable = \"Hola\"\n",
    "my-variable = \"Hola\"\n",
    "my variable = \"Hola\""
   ]
  },
  {
   "cell_type": "markdown",
   "metadata": {
    "id": "pZwGBXIVJqcX"
   },
   "source": [
    "Asignación valores a múltiples variables a la vez/Assign value to multiple variables at the same time"
   ]
  },
  {
   "cell_type": "code",
   "execution_count": null,
   "metadata": {
    "id": "THOd4MDJJw0n"
   },
   "outputs": [],
   "source": [
    "x, y, z = \"Orange\", \"Banana\", \"Cherry\"\n",
    "print(x)\n",
    "print(y)\n",
    "print(z)"
   ]
  },
  {
   "cell_type": "markdown",
   "metadata": {
    "id": "Av2jI7KXNumU"
   },
   "source": [
    "Asignar el mismo valor a múliples variables/Assign the same value to multiple variables"
   ]
  },
  {
   "cell_type": "code",
   "execution_count": null,
   "metadata": {
    "id": "k0h5LhEkKQNB"
   },
   "outputs": [],
   "source": [
    "x = y = z = \"Orange\"\n",
    "print(x)\n",
    "print(y)\n",
    "print(z)"
   ]
  },
  {
   "cell_type": "markdown",
   "metadata": {
    "id": "Tz5dab2NKlE1"
   },
   "source": [
    "Variables: unpacking\n",
    " \n",
    "In Python, we are allowed to extract the values back into variables. This is called \"unpacking\":"
   ]
  },
  {
   "cell_type": "markdown",
   "metadata": {
    "id": "-puhVacpOkNa"
   },
   "source": [
    "Note: The number of variables must match the number of values in the tuple, if not, you must use an asterisk to collect the remaining values as a list."
   ]
  },
  {
   "cell_type": "code",
   "execution_count": null,
   "metadata": {
    "id": "dp0lBDSdKcpQ"
   },
   "outputs": [],
   "source": [
    "fruits = [\"apple\", \"banana\", \"cherry\"]\n",
    "x, y, z = fruits\n",
    "print(x)\n",
    "print(y)\n",
    "print(z)"
   ]
  },
  {
   "cell_type": "code",
   "execution_count": null,
   "metadata": {
    "id": "7RobAeOlKWhJ"
   },
   "outputs": [],
   "source": [
    "# Unpacking a list\n",
    "fruits = [\"apple\", \"banana\", \"cherry\", 'Naranja']\n",
    "x, y, z = fruits\n",
    "print(x)\n",
    "print(y)\n",
    "print(z)"
   ]
  },
  {
   "cell_type": "code",
   "execution_count": null,
   "metadata": {
    "colab": {
     "base_uri": "https://localhost:8080/"
    },
    "id": "1rEO9jrQO9_E",
    "outputId": "694eca4e-16df-4752-a51d-03016607ec25"
   },
   "outputs": [
    {
     "name": "stdout",
     "output_type": "stream",
     "text": [
      "1 2 3 4\n"
     ]
    }
   ],
   "source": [
    "# Unpacking arguments/variables given to a function\n",
    "\n",
    "def fun(a, b, c, d):\n",
    "    print(a, b, c, d)\n",
    " \n",
    "# Driver Code\n",
    "my_list = [1, 2, 3, 4]\n",
    " \n",
    "# Unpacking list into four arguments\n",
    "fun(*my_list)"
   ]
  },
  {
   "cell_type": "markdown",
   "metadata": {
    "id": "I20FNeLJKpJM"
   },
   "source": [
    "Concatenación de cadenas. Una de las formas/Strings concatenation. One of the ways to do it"
   ]
  },
  {
   "cell_type": "markdown",
   "metadata": {
    "id": "OZ_DfS-JQaEO"
   },
   "source": [
    "String Concatenation is the technique of combining two strings."
   ]
  },
  {
   "cell_type": "code",
   "execution_count": null,
   "metadata": {
    "id": "jLEcjDOUKvlO"
   },
   "outputs": [],
   "source": [
    "# + character to add a variable to another variable\n",
    "x = \"un buen lenguaje para AI\"\n",
    "print(\"El Python es \" + x)"
   ]
  },
  {
   "cell_type": "code",
   "execution_count": null,
   "metadata": {
    "colab": {
     "base_uri": "https://localhost:8080/"
    },
    "id": "8aBikJ30LC_B",
    "outputId": "9207a2ae-a5e6-430f-c787-e7e3b00eb666"
   },
   "outputs": [
    {
     "name": "stdout",
     "output_type": "stream",
     "text": [
      "El Python es un buen lenguaje para AI\n"
     ]
    }
   ],
   "source": [
    "x = \"El Python es \"\n",
    "y = \"un buen lenguaje para AI\"\n",
    "z =  x + y\n",
    "print(z)"
   ]
  },
  {
   "cell_type": "markdown",
   "metadata": {
    "id": "pgf4zlgbQNph"
   },
   "source": [
    "String Concatenation can be done using several other ways:\n",
    "* Using join() method \n",
    "* Using % operator \n",
    "* Using format() function \n",
    "* Using , (comma)"
   ]
  },
  {
   "cell_type": "code",
   "execution_count": null,
   "metadata": {
    "colab": {
     "base_uri": "https://localhost:8080/"
    },
    "id": "6yPwFOjXQ2FJ",
    "outputId": "4fceb7df-7956-4c03-ddee-4ea4a0e3e842"
   },
   "outputs": [
    {
     "name": "stdout",
     "output_type": "stream",
     "text": [
      "HelloWorld\n",
      "Hello World\n"
     ]
    }
   ],
   "source": [
    "# Using join() method \n",
    "\n",
    "var1 = \"Hello\"\n",
    "var2 = \"World\"\n",
    " \n",
    "# join() method is used to combine the strings\n",
    "print(\"\".join([var1, var2]))\n",
    " \n",
    "# join() method is used here to combine\n",
    "# the string with a separator Space(\" \")\n",
    "var3 = \" \".join([var1, var2])\n",
    " \n",
    "print(var3)"
   ]
  },
  {
   "cell_type": "code",
   "execution_count": null,
   "metadata": {
    "colab": {
     "base_uri": "https://localhost:8080/"
    },
    "id": "D5xBaRVoRF2q",
    "outputId": "ad62f438-71ad-44d2-93e7-bc670f58cf7e"
   },
   "outputs": [
    {
     "name": "stdout",
     "output_type": "stream",
     "text": [
      "Hello World\n"
     ]
    }
   ],
   "source": [
    "# Using % operator \n",
    "\n",
    "var1 = \"Hello\"\n",
    "var2 = \"World\"\n",
    " \n",
    "# % Operator is used here to combine the string\n",
    "print(\"% s % s\" % (var1, var2))"
   ]
  },
  {
   "cell_type": "code",
   "execution_count": null,
   "metadata": {
    "id": "zaX8sq13RYhd"
   },
   "outputs": [],
   "source": [
    "# Using format() function \n",
    "\n",
    "# We'll see more examples down below\n",
    " \n",
    "var1 = \"Hello\"\n",
    "var2 = \"World\"\n",
    " \n",
    "print(\"{} {}\".format(var1, var2))\n",
    " \n",
    "# store the result in another variable\n",
    "var3 = \"{} {}\".format(var1, var2)\n",
    " \n",
    "print(var3)"
   ]
  },
  {
   "cell_type": "code",
   "execution_count": null,
   "metadata": {
    "colab": {
     "base_uri": "https://localhost:8080/"
    },
    "id": "DgTw-TVXRtXx",
    "outputId": "1f8b172e-8d97-41c4-9223-351c1b6c2a11"
   },
   "outputs": [
    {
     "name": "stdout",
     "output_type": "stream",
     "text": [
      "Hello World\n"
     ]
    }
   ],
   "source": [
    "# Using , (comma)\n",
    " \n",
    "var1 = \"Hello\"\n",
    "var2 = \"World\"\n",
    " \n",
    "# , to combine data types with a single whitespace.\n",
    "print(var1, var2)"
   ]
  },
  {
   "cell_type": "markdown",
   "metadata": {
    "id": "qtTkbNS9LK7Z"
   },
   "source": [
    "Concatenación aplicado a números/String concatenation applied to numbers"
   ]
  },
  {
   "cell_type": "code",
   "execution_count": null,
   "metadata": {
    "colab": {
     "base_uri": "https://localhost:8080/"
    },
    "id": "HuJ9qMuSLOfD",
    "outputId": "4b82ea4f-b848-4b5f-beb3-e5c96658b06e"
   },
   "outputs": [
    {
     "name": "stdout",
     "output_type": "stream",
     "text": [
      "15\n"
     ]
    }
   ],
   "source": [
    "x = 5\n",
    "y = 10\n",
    "print(x + y)"
   ]
  },
  {
   "cell_type": "markdown",
   "metadata": {
    "id": "kHYgqBLXLSGt"
   },
   "source": [
    "Errores comunes. Mezcla de números y texto"
   ]
  },
  {
   "cell_type": "code",
   "execution_count": null,
   "metadata": {
    "id": "IiMztw-bLX1l"
   },
   "outputs": [],
   "source": [
    "x = 5\n",
    "y = \"Hola\"\n",
    "print(x + y)"
   ]
  },
  {
   "cell_type": "markdown",
   "metadata": {
    "id": "_xTIwobkCD7E"
   },
   "source": [
    "**Variables. Casting**"
   ]
  },
  {
   "cell_type": "markdown",
   "metadata": {
    "id": "18_wAgn9CQkX"
   },
   "source": [
    "Podemos forzar a python a asignar un tipo de dato concreto a una variable por medio del \"casting\"/We can force Python to specify the data type of a variable, this can be done with casting."
   ]
  },
  {
   "cell_type": "code",
   "execution_count": null,
   "metadata": {
    "id": "0cxd-yueCLnV"
   },
   "outputs": [],
   "source": [
    "x = str(3)    # x es la CADENA '3'\n",
    "y = int(3)    # y es el número entero 3\n",
    "z = float(3)  # z es el número decimal 3.0 "
   ]
  },
  {
   "cell_type": "code",
   "execution_count": null,
   "metadata": {
    "colab": {
     "base_uri": "https://localhost:8080/",
     "height": 163
    },
    "id": "gNOuqN8XCf0y",
    "outputId": "f25737db-2bb7-4cf6-d19f-760922a3ade6"
   },
   "outputs": [
    {
     "ename": "TypeError",
     "evalue": "ignored",
     "output_type": "error",
     "traceback": [
      "\u001b[0;31m---------------------------------------------------------------------------\u001b[0m",
      "\u001b[0;31mTypeError\u001b[0m                                 Traceback (most recent call last)",
      "\u001b[0;32m<ipython-input-48-dc2af164daa0>\u001b[0m in \u001b[0;36m<module>\u001b[0;34m()\u001b[0m\n\u001b[0;32m----> 1\u001b[0;31m \u001b[0mprint\u001b[0m\u001b[0;34m(\u001b[0m\u001b[0;34m\"La suma es: \"\u001b[0m\u001b[0;34m,\u001b[0m \u001b[0mx\u001b[0m\u001b[0;34m+\u001b[0m\u001b[0my\u001b[0m\u001b[0;34m)\u001b[0m\u001b[0;34m\u001b[0m\u001b[0;34m\u001b[0m\u001b[0m\n\u001b[0m",
      "\u001b[0;31mTypeError\u001b[0m: can only concatenate str (not \"int\") to str"
     ]
    }
   ],
   "source": [
    "print(\"La suma es: \", x+y)"
   ]
  },
  {
   "cell_type": "code",
   "execution_count": null,
   "metadata": {
    "colab": {
     "base_uri": "https://localhost:8080/"
    },
    "id": "eY1BZZK9CupT",
    "outputId": "276a3fb9-ba7e-412d-ea46-4a9a6f2d8323"
   },
   "outputs": [
    {
     "name": "stdout",
     "output_type": "stream",
     "text": [
      "La suma es:  6\n"
     ]
    }
   ],
   "source": [
    "print(\"La suma es: \", 2 * y)"
   ]
  },
  {
   "cell_type": "markdown",
   "metadata": {
    "id": "qNYU3O3VsaPa"
   },
   "source": [
    "Formateo de cadenas de texto con **format()**\n",
    " \n",
    "Muchas veces no podemos controlar el contenido total de una cadena de texto, por que depende de una entrada de usuario, bbdd, etc.\n",
    " \n",
    "Podemos controlarlo mediante los llamados \"placeholders (**{ }**)\" dentro del texto"
   ]
  },
  {
   "cell_type": "markdown",
   "metadata": {
    "id": "lb1fwUPdSjmf"
   },
   "source": [
    "`str.format()` allows multiple substitutions and value formatting.\n",
    "This method lets us concatenate elements within a string through positional formatting."
   ]
  },
  {
   "cell_type": "code",
   "execution_count": null,
   "metadata": {
    "colab": {
     "base_uri": "https://localhost:8080/"
    },
    "id": "TUshCqLYrTgx",
    "outputId": "d58ae844-f90f-433f-ad75-08e8c918587c"
   },
   "outputs": [
    {
     "name": "stdout",
     "output_type": "stream",
     "text": [
      "La suma de 10 y 20 es: 30\n"
     ]
    }
   ],
   "source": [
    "print(\"La suma de {} y {} es: {}\".format(Numero1, Numero2, Numero1 + Numero2))"
   ]
  },
  {
   "cell_type": "code",
   "execution_count": null,
   "metadata": {
    "colab": {
     "base_uri": "https://localhost:8080/"
    },
    "id": "vSZad60quQ21",
    "outputId": "2db352e1-039d-41c7-80a2-9c0f659835af"
   },
   "outputs": [
    {
     "name": "stdout",
     "output_type": "stream",
     "text": [
      "La multiplicación de 10 y 20 es: 200\n"
     ]
    }
   ],
   "source": [
    "cadena_texto = \"La multiplicación de {} y {} es: {}\"\n",
    "print(cadena_texto.format(Numero1, Numero2, Numero1 * Numero2))"
   ]
  },
  {
   "cell_type": "markdown",
   "metadata": {
    "id": "1aMdr5_CSxea"
   },
   "source": [
    "Podemos usar nombres de variables dentro de {}, índices o vacío {}/We can use variable's names, indexes and none."
   ]
  },
  {
   "cell_type": "code",
   "execution_count": null,
   "metadata": {
    "id": "4HlHk63Jvd2f"
   },
   "outputs": [],
   "source": [
    "Numero3 = 2\n",
    "Numero4 = 3\n",
    "texto2 = \"El {} elevado a {} es: {}\"\n",
    "texto3 = \". . . Mientras que el {} elevado a {} es: {}\""
   ]
  },
  {
   "cell_type": "code",
   "execution_count": null,
   "metadata": {
    "colab": {
     "base_uri": "https://localhost:8080/"
    },
    "id": "CG9MSmP3wDaf",
    "outputId": "d7558462-dbe1-44e0-82c1-f372978a944a"
   },
   "outputs": [
    {
     "name": "stdout",
     "output_type": "stream",
     "text": [
      "El 2 elevado a 3 es: 8 . . . Mientras que el 3 elevado a 2 es: 9\n"
     ]
    }
   ],
   "source": [
    "print(texto2.format(Numero3, Numero4, (Numero3**Numero4)), texto3.format(Numero4, Numero3, (Numero4**Numero3)))"
   ]
  },
  {
   "cell_type": "code",
   "execution_count": null,
   "metadata": {
    "colab": {
     "base_uri": "https://localhost:8080/"
    },
    "id": "-VTrcT0lwjTI",
    "outputId": "18ccb9f9-6e21-4f6b-e23a-eebaaa362e21"
   },
   "outputs": [
    {
     "name": "stdout",
     "output_type": "stream",
     "text": [
      "La edad de Pedro es 45\n"
     ]
    }
   ],
   "source": [
    "# Con índices / Using indexes\n",
    "nombre = 'Pedro'\n",
    "edad = 45\n",
    "print(\"La edad de {0} es {1}\".format(nombre, edad))"
   ]
  },
  {
   "cell_type": "markdown",
   "metadata": {
    "id": "PVQmQ59-2Cvw"
   },
   "source": [
    "**Ejercicio**\n",
    " \n",
    "Cambia el orden de las variables y comprueba el resultado/Change the order of the variables a notice the result you get."
   ]
  },
  {
   "cell_type": "code",
   "execution_count": null,
   "metadata": {
    "colab": {
     "base_uri": "https://localhost:8080/"
    },
    "id": "tFNttw-oyOxj",
    "outputId": "abc15920-862a-472f-e134-356c30ba0540"
   },
   "outputs": [
    {
     "name": "stdout",
     "output_type": "stream",
     "text": [
      "45 es la edad de Pedro\n"
     ]
    }
   ],
   "source": [
    "# Respuesta\n",
    "\n",
    "\n"
   ]
  },
  {
   "cell_type": "code",
   "execution_count": null,
   "metadata": {
    "colab": {
     "base_uri": "https://localhost:8080/"
    },
    "id": "IuUWRvrDykAi",
    "outputId": "6676b5a2-8732-4dc4-c2a9-f3a41d0712fb"
   },
   "outputs": [
    {
     "name": "stdout",
     "output_type": "stream",
     "text": [
      "45 años tiene Pedro\n"
     ]
    }
   ],
   "source": [
    "texto4 = \"{1} años tiene {0}\".format(nombre, edad)\n",
    "print(texto4)"
   ]
  },
  {
   "cell_type": "code",
   "execution_count": null,
   "metadata": {
    "colab": {
     "base_uri": "https://localhost:8080/"
    },
    "id": "9duyhu_Y90s5",
    "outputId": "94860acf-1262-46e6-fe3f-261bf12d618e"
   },
   "outputs": [
    {
     "name": "stdout",
     "output_type": "stream",
     "text": [
      "El cliente Juan tiene 56 años de edad \n"
     ]
    }
   ],
   "source": [
    "# Índices con nombres/ Indexes with names\n",
    "# Muy útil en páginas web, recuperación de datos desde una BBDD, etc.\n",
    "# Very useful when we retrieve information from third sources such as data bases\n",
    "\n",
    "texto5 = \"El cliente {nombre} tiene {edad} años de edad \"\n",
    "print(texto5.format(nombre='Juan', edad=56))"
   ]
  },
  {
   "cell_type": "markdown",
   "metadata": {
    "id": "KWZTZKHPAo6u"
   },
   "source": [
    "**Python Indentation**"
   ]
  },
  {
   "cell_type": "code",
   "execution_count": null,
   "metadata": {
    "colab": {
     "base_uri": "https://localhost:8080/"
    },
    "id": "rZejT7H0AsNE",
    "outputId": "b3b23560-681a-45be-94da-91bbe46cfa7f"
   },
   "outputs": [
    {
     "name": "stdout",
     "output_type": "stream",
     "text": [
      "Número 2 > Número 1\n"
     ]
    }
   ],
   "source": [
    "if Numero1 > Numero2:\n",
    "  print(\"Número 1 > Número 2\")\n",
    "else:\n",
    "  print(\"Número 2 > Número 1\")"
   ]
  },
  {
   "cell_type": "markdown",
   "metadata": {
    "id": "EkNTDf5Yrsft"
   },
   "source": [
    "Tipos de datos principales en Python/Data types in Python"
   ]
  },
  {
   "cell_type": "markdown",
   "metadata": {
    "id": "HCICRxBtcOQG"
   },
   "source": [
    "*   Texto: \tstr\n",
    "*   Numérico: \tint, float, complex\n",
    "*   Secuencias: \tlist, tuple, range\n",
    "*   Diccionarios: \tdict\n",
    "*   Set (conjuntos): \tset, frozenset\n",
    "*   Boolean: \tbool\n",
    "*   Binarios: \tbytes, bytearray, memoryview\n"
   ]
  },
  {
   "cell_type": "markdown",
   "metadata": {
    "id": "cP2cIQghdPdk"
   },
   "source": [
    "Conocer el tipo de dato de una variable/Get the type of a variable"
   ]
  },
  {
   "cell_type": "code",
   "execution_count": null,
   "metadata": {
    "colab": {
     "base_uri": "https://localhost:8080/"
    },
    "id": "n2WmNvXSrwYR",
    "outputId": "ea64bbbd-d57c-40c9-bc58-9f30882e653b"
   },
   "outputs": [
    {
     "name": "stdout",
     "output_type": "stream",
     "text": [
      "<class 'int'>\n"
     ]
    }
   ],
   "source": [
    "x = 5\n",
    "print(type(x))"
   ]
  },
  {
   "cell_type": "code",
   "execution_count": null,
   "metadata": {
    "colab": {
     "base_uri": "https://localhost:8080/"
    },
    "id": "gOBjl3GHdN-3",
    "outputId": "1512df86-04c3-43e6-ca15-35f70f0c11db"
   },
   "outputs": [
    {
     "name": "stdout",
     "output_type": "stream",
     "text": [
      "<class 'bool'>\n"
     ]
    }
   ],
   "source": [
    "x = True\n",
    "print(type(x))"
   ]
  },
  {
   "cell_type": "markdown",
   "metadata": {
    "id": "vZfL3zyodvEF"
   },
   "source": [
    "Ejemplos/Examples\n",
    "*   x = \"Hola Madrid\" \tstr \t\n",
    "*   x = 20 \tint \t\n",
    "*   x = 20.5 \tfloat \t\n",
    "*   x = 1j \tcomplex \t\n",
    "*   x = [\"apple\", \"banana\", \"cherry\"] \tlist \t\n",
    "*   x = (\"apple\", \"banana\", \"cherry\") \ttuple\n",
    "*   x = range(6) \trange \t\n",
    "*   x = {\"name\" : \"John\", \"age\" : 36} \tdict \t\n",
    "*   x = {\"apple\", \"banana\", \"cherry\"} \tset \t\n",
    "*   x = frozenset({\"apple\", \"banana\", \"cherry\"}) \tfrozenset \t\n",
    "*   x = True \tbool \t\n",
    "*   x = b\"Hola Madrid\" \tbytes \t\n",
    "*   x = bytearray(5) \tbytearray \t\n",
    "*   x = memoryview(bytes(5)) \tmemoryview\n",
    "\n"
   ]
  },
  {
   "cell_type": "markdown",
   "metadata": {
    "id": "mkx6_Jn3fkcU"
   },
   "source": [
    "**Ejercicio**\n",
    "\n",
    "\n",
    "*   Crea una lista de cuatro elementos/Create a list of four elements\n",
    "*   Crea una tupla de cuatro elementos/Create a tuple of four elements\n",
    " \n",
    "Crea un diccionario con tus datos personales/Create a dictionary to contain personal data\n",
    "*   Nombre/Given name\n",
    "*   Primer apellido/Family name\n",
    "*   Segundo apellido/Family name (2nd)\n",
    "*   Edad/Age\n",
    "*   País de origen/Country\n",
    "*   Número de teléfono/Phone\n",
    "\n",
    "\n",
    "\n"
   ]
  },
  {
   "cell_type": "code",
   "execution_count": null,
   "metadata": {
    "id": "jVUQnt2ndWE0"
   },
   "outputs": [],
   "source": [
    "# Respuesta\n",
    "\n"
   ]
  },
  {
   "cell_type": "markdown",
   "metadata": {
    "id": "yPdwEsEQlv86"
   },
   "source": [
    "**Tipos numéricos/Numeric data types**\n",
    " \n",
    "*    int\n",
    "*    float\n",
    "*    complex"
   ]
  },
  {
   "cell_type": "markdown",
   "metadata": {
    "id": "1_cie48YgqeE"
   },
   "source": [
    "Conversión de tipos en las variables/Variables type conversion"
   ]
  },
  {
   "cell_type": "code",
   "execution_count": null,
   "metadata": {
    "colab": {
     "base_uri": "https://localhost:8080/"
    },
    "id": "c6mlf2x1gvEY",
    "outputId": "b3feac1d-c086-47fd-f98f-25bb8a08ff79"
   },
   "outputs": [
    {
     "name": "stdout",
     "output_type": "stream",
     "text": [
      "1.0\n"
     ]
    }
   ],
   "source": [
    "x = 1    # entero\n",
    "a = float(x)\n",
    "print(a)"
   ]
  },
  {
   "cell_type": "markdown",
   "metadata": {
    "id": "vqmYJ-ZPhNWY"
   },
   "source": [
    "**Ejercicio**\n",
    " \n",
    "Convierte y = 2.8 de float a entero/Convert y = 2.8 from float to int\n",
    " \n",
    "¿Qué ocurre? What happends?"
   ]
  },
  {
   "cell_type": "code",
   "execution_count": null,
   "metadata": {
    "colab": {
     "base_uri": "https://localhost:8080/"
    },
    "id": "6NRSQ_DnhKOj",
    "outputId": "9c8e993a-8416-49a5-a77d-92d25594fc3a"
   },
   "outputs": [
    {
     "name": "stdout",
     "output_type": "stream",
     "text": [
      "2\n"
     ]
    }
   ],
   "source": [
    "# Respuesta\n",
    "\n",
    "\n"
   ]
  },
  {
   "cell_type": "markdown",
   "metadata": {
    "id": "8w_OSHmdhuE1"
   },
   "source": [
    "**Ejercicio**\n",
    " \n",
    "Convierte x = 2  de entero a complejo/Convert x = 2 from int to complex\n",
    " \n",
    "¿Qué ocurre? What happens?"
   ]
  },
  {
   "cell_type": "code",
   "execution_count": null,
   "metadata": {
    "colab": {
     "base_uri": "https://localhost:8080/"
    },
    "id": "l3TGYmfyhcMJ",
    "outputId": "15b0c496-6631-4417-a2a0-b9404ad97ccf"
   },
   "outputs": [
    {
     "name": "stdout",
     "output_type": "stream",
     "text": [
      "(2+0j)\n"
     ]
    }
   ],
   "source": [
    "# Respuesta\n",
    "\n"
   ]
  },
  {
   "cell_type": "markdown",
   "metadata": {
    "id": "eeBzfDJFiA0L"
   },
   "source": [
    "**Números aleatorios (Muy importante)/Random numbers (very important)**"
   ]
  },
  {
   "cell_type": "code",
   "execution_count": null,
   "metadata": {
    "colab": {
     "base_uri": "https://localhost:8080/"
    },
    "id": "j0m4mI9ch6AD",
    "outputId": "fcab2988-313e-42d6-8bbe-a512b842a971"
   },
   "outputs": [
    {
     "name": "stdout",
     "output_type": "stream",
     "text": [
      "0.21249323254989272\n"
     ]
    }
   ],
   "source": [
    "import random\n",
    "\n",
    "# Returns a random float number between 0.0 and 1.0\n",
    "print(random.random()) "
   ]
  },
  {
   "cell_type": "code",
   "execution_count": null,
   "metadata": {
    "colab": {
     "base_uri": "https://localhost:8080/"
    },
    "id": "S3ZpcOHDigHo",
    "outputId": "a01148be-d3c5-4b2e-c105-cb53433cec0e"
   },
   "outputs": [
    {
     "name": "stdout",
     "output_type": "stream",
     "text": [
      "0.8589708896460461\n"
     ]
    }
   ],
   "source": [
    "# random devuelve un número aleatorio entre 0.0 y 1.0\n",
    "print(random.random()) "
   ]
  },
  {
   "cell_type": "code",
   "execution_count": null,
   "metadata": {
    "id": "plrhPCpcW6SV"
   },
   "outputs": [],
   "source": [
    "# random.randrange(start, stop, step) \n",
    "print(random.randrange(1, 10)) "
   ]
  },
  {
   "cell_type": "code",
   "execution_count": null,
   "metadata": {
    "colab": {
     "base_uri": "https://localhost:8080/"
    },
    "id": "KnFeZZ5fXI0e",
    "outputId": "6581d4c6-3d2c-44cd-af79-b460075a6d57"
   },
   "outputs": [
    {
     "name": "stdout",
     "output_type": "stream",
     "text": [
      "44.12386678267671\n"
     ]
    }
   ],
   "source": [
    "# Returns a random float number between a range\n",
    "print(random.uniform(10.5, 75.5))"
   ]
  },
  {
   "cell_type": "markdown",
   "metadata": {
    "id": "ObI68jy-iSX4"
   },
   "source": [
    "**Ejercicio**\n",
    " \n",
    "Genera un número aleatorio entre 0 y 1 (coma flotante) /Generate a random number between 0 and 1 (float)\n",
    " \n",
    "https://docs.python.org/3/library/random.html"
   ]
  },
  {
   "cell_type": "code",
   "execution_count": null,
   "metadata": {
    "colab": {
     "base_uri": "https://localhost:8080/"
    },
    "id": "salkopPiiMYB",
    "outputId": "b0d03170-5b57-475d-a5d3-13643b747b06"
   },
   "outputs": [
    {
     "name": "stdout",
     "output_type": "stream",
     "text": [
      "0.1464728804591543\n"
     ]
    }
   ],
   "source": [
    "# Respuesta\n",
    "\n",
    "\n"
   ]
  },
  {
   "cell_type": "markdown",
   "metadata": {
    "id": "-1-eXnimja-Z"
   },
   "source": [
    "**Ejercicio**\n",
    " \n",
    "Genera un número aleatorio entero entre 3 y 9 (ambos incluidos)/Generate an int random number betwee 3 and 9 (both included):"
   ]
  },
  {
   "cell_type": "code",
   "execution_count": null,
   "metadata": {
    "colab": {
     "base_uri": "https://localhost:8080/"
    },
    "id": "NK-q8MbSjKEB",
    "outputId": "752d0f07-b8dc-4eab-d13c-e188328560ff"
   },
   "outputs": [
    {
     "name": "stdout",
     "output_type": "stream",
     "text": [
      "6\n"
     ]
    }
   ],
   "source": [
    "# Respuesta\n",
    "\n"
   ]
  },
  {
   "cell_type": "markdown",
   "metadata": {
    "id": "w-d35XyBj3Th"
   },
   "source": [
    "**Ejercicio**\n",
    " \n",
    "Genera un número aleatorio entre 3 y 9 con un incremento de 2 unidades/Get a random number between 3 and 9 (both included), having an increment of 2 units."
   ]
  },
  {
   "cell_type": "code",
   "execution_count": null,
   "metadata": {
    "colab": {
     "base_uri": "https://localhost:8080/"
    },
    "id": "u_yDI5CEjl3g",
    "outputId": "11b1c45e-4325-4424-ae07-9f3867e00ba1"
   },
   "outputs": [
    {
     "data": {
      "text/plain": [
       "3"
      ]
     },
     "execution_count": 72,
     "metadata": {
      "tags": []
     },
     "output_type": "execute_result"
    }
   ],
   "source": [
    "# Respuesta\n",
    "\n"
   ]
  },
  {
   "cell_type": "markdown",
   "metadata": {
    "id": "W8YCwKvaleH5"
   },
   "source": [
    "**Cadenas/Strings**"
   ]
  },
  {
   "cell_type": "code",
   "execution_count": null,
   "metadata": {
    "colab": {
     "base_uri": "https://localhost:8080/"
    },
    "id": "pkr-h1SdmC6W",
    "outputId": "60fa2f15-ba12-4e6a-e356-26243d9fc398"
   },
   "outputs": [
    {
     "name": "stdout",
     "output_type": "stream",
     "text": [
      "Lorem ipsum dolor sit amet,\n",
      "consectetur adipiscing elit,\n",
      "sed do eiusmod tempor incididunt\n",
      "ut labore et dolore magna aliqua.\n"
     ]
    }
   ],
   "source": [
    "frase = '''Lorem ipsum dolor sit amet,\n",
    "consectetur adipiscing elit,\n",
    "sed do eiusmod tempor incididunt\n",
    "ut labore et dolore magna aliqua.'''\n",
    "print(frase)"
   ]
  },
  {
   "cell_type": "markdown",
   "metadata": {
    "id": "DtKYpZ79kmqZ"
   },
   "source": [
    "Las cadenas (strings) son consideradas arrays o matrices/String are considered by Python as arrays or matrixes"
   ]
  },
  {
   "cell_type": "code",
   "execution_count": null,
   "metadata": {
    "colab": {
     "base_uri": "https://localhost:8080/"
    },
    "id": "B4YGDx_JkEgg",
    "outputId": "2a84464c-a17f-4760-ff17-cd440dfd9216"
   },
   "outputs": [
    {
     "name": "stdout",
     "output_type": "stream",
     "text": [
      "H\n"
     ]
    }
   ],
   "source": [
    "a = \"¡Hola Madrid!\"\n",
    "print(a[1])"
   ]
  },
  {
   "cell_type": "markdown",
   "metadata": {
    "id": "s-Xnw5imk3Wu"
   },
   "source": [
    "**Ejercicio**\n",
    " \n",
    "Repite el ejemplo anterior, pero esta vez obten el carácter que ocupa la posición 10/Repeat the previous exercise but now get the position number 10."
   ]
  },
  {
   "cell_type": "code",
   "execution_count": null,
   "metadata": {
    "colab": {
     "base_uri": "https://localhost:8080/"
    },
    "id": "mnt0_iipk0OD",
    "outputId": "55dce0cf-c6e7-479e-fa09-0ec30b0f2511"
   },
   "outputs": [
    {
     "name": "stdout",
     "output_type": "stream",
     "text": [
      "i\n"
     ]
    }
   ],
   "source": [
    "# Respuesta\n",
    "\n"
   ]
  },
  {
   "cell_type": "markdown",
   "metadata": {
    "id": "6KTY2JKFmJtn"
   },
   "source": [
    "Conocer la longitud de una cadena o array"
   ]
  },
  {
   "cell_type": "code",
   "execution_count": null,
   "metadata": {
    "colab": {
     "base_uri": "https://localhost:8080/"
    },
    "id": "ZVSHU1oGlFUH",
    "outputId": "031ad1a8-dcdb-44b9-fdf0-178d9b8535ae"
   },
   "outputs": [
    {
     "name": "stdout",
     "output_type": "stream",
     "text": [
      "13\n"
     ]
    }
   ],
   "source": [
    "print(len(a))"
   ]
  },
  {
   "cell_type": "markdown",
   "metadata": {
    "id": "O0jOa7bMm8_J"
   },
   "source": [
    "Saber si una cierta cadena de texto aparece dentro de otra dada/To know whether a string in included within another."
   ]
  },
  {
   "cell_type": "code",
   "execution_count": null,
   "metadata": {
    "colab": {
     "base_uri": "https://localhost:8080/"
    },
    "id": "OEwjVpXKmNQS",
    "outputId": "ed737d39-4871-42ca-88ee-b0db3bb7f65c"
   },
   "outputs": [
    {
     "name": "stdout",
     "output_type": "stream",
     "text": [
      "True\n"
     ]
    }
   ],
   "source": [
    "print('Hola' in a)"
   ]
  },
  {
   "cell_type": "markdown",
   "metadata": {
    "id": "0nuxKu7CnNop"
   },
   "source": [
    "**Ejercicio**\n",
    " \n",
    "Comprueba si la cadena \"magna\" se encuentra dentro de la cadena almacenada en la variable \"frase\"/Check whether the string \"magna\" is included into the variable \"frase\""
   ]
  },
  {
   "cell_type": "code",
   "execution_count": null,
   "metadata": {
    "colab": {
     "base_uri": "https://localhost:8080/"
    },
    "id": "VS60csd2nI-d",
    "outputId": "7a78c631-dffd-42d2-b67b-91d967a8d722"
   },
   "outputs": [
    {
     "name": "stdout",
     "output_type": "stream",
     "text": [
      "True\n"
     ]
    }
   ],
   "source": [
    "print('magna' in frase)"
   ]
  },
  {
   "cell_type": "markdown",
   "metadata": {
    "id": "BaObs8WMnoOB"
   },
   "source": [
    "Comprobar que una cadena NO está presente en otra cadena dada/Check a string is not included into another."
   ]
  },
  {
   "cell_type": "code",
   "execution_count": null,
   "metadata": {
    "colab": {
     "base_uri": "https://localhost:8080/"
    },
    "id": "MjYcI5oxnd4O",
    "outputId": "bb6317ee-dfec-4156-bf13-0eab014b7b83"
   },
   "outputs": [
    {
     "name": "stdout",
     "output_type": "stream",
     "text": [
      "False\n"
     ]
    }
   ],
   "source": [
    "print('magna' not in  frase)"
   ]
  },
  {
   "cell_type": "markdown",
   "metadata": {
    "id": "tH1ZbC1Jp-LV"
   },
   "source": [
    "Uso de esta propiedad de forma condicional/Use of thos properties in a conditional way."
   ]
  },
  {
   "cell_type": "code",
   "execution_count": null,
   "metadata": {
    "colab": {
     "base_uri": "https://localhost:8080/"
    },
    "id": "C5C4L7PqnxNU",
    "outputId": "c862a9af-16b4-429a-902d-ff50a1729d68"
   },
   "outputs": [
    {
     "name": "stdout",
     "output_type": "stream",
     "text": [
      "La palabra está incluida\n"
     ]
    }
   ],
   "source": [
    "if \"magna\" not in frase:\n",
    "  print(\"La palabra no está incluida\")\n",
    "else:\n",
    "  print(\"La palabra está incluida\")"
   ]
  },
  {
   "cell_type": "markdown",
   "metadata": {
    "id": "XTeM4ZGDyv1G"
   },
   "source": [
    "Extraer partes de una cadena de texto/Extract fragment of a string"
   ]
  },
  {
   "cell_type": "code",
   "execution_count": null,
   "metadata": {
    "colab": {
     "base_uri": "https://localhost:8080/"
    },
    "id": "wYnGkMrMqiS5",
    "outputId": "c41f108f-e363-4eae-ba65-fbb37a255cb8"
   },
   "outputs": [
    {
     "name": "stdout",
     "output_type": "stream",
     "text": [
      "rem ipsum dol\n"
     ]
    }
   ],
   "source": [
    "print(frase[2:15])"
   ]
  },
  {
   "cell_type": "markdown",
   "metadata": {
    "id": "51xof7yuy68n"
   },
   "source": [
    "**Ejercicio**\n",
    " \n",
    "Extrae la cadena que existe entre las posiciones 20 y 30 de la variable `frase`/Extract the substring between positions 20 and 30 of the `frase` variable"
   ]
  },
  {
   "cell_type": "code",
   "execution_count": null,
   "metadata": {
    "colab": {
     "base_uri": "https://localhost:8080/"
    },
    "id": "6Le9BlnAy6Ns",
    "outputId": "8b0af258-8123-4c7f-9dd3-7288076799d5"
   },
   "outputs": [
    {
     "name": "stdout",
     "output_type": "stream",
     "text": [
      "or sit ame\n"
     ]
    }
   ],
   "source": [
    "# Respuesta\n",
    "\n"
   ]
  },
  {
   "cell_type": "markdown",
   "metadata": {
    "id": "-AG23ep5zR62"
   },
   "source": [
    "**Ejercicio**\n",
    " \n",
    "Extrae la cadena que existe entre inicio de la cadena y la posición 10 de la variable \"a\"/ Extract the substring between positions begining and 10 of the \"a\" variable."
   ]
  },
  {
   "cell_type": "code",
   "execution_count": null,
   "metadata": {
    "colab": {
     "base_uri": "https://localhost:8080/"
    },
    "id": "LomYhyIpy2LJ",
    "outputId": "be7761cb-00d6-474d-f783-d89ef69333a5"
   },
   "outputs": [
    {
     "name": "stdout",
     "output_type": "stream",
     "text": [
      "¡Hola Madr\n"
     ]
    }
   ],
   "source": [
    "# Respuesta\n",
    "\n"
   ]
  },
  {
   "cell_type": "markdown",
   "metadata": {
    "id": "ozq2o9tFzgJF"
   },
   "source": [
    "**Ejercicio**\n",
    " \n",
    "Extrae la cadena de la variable `frase`, desde la posición 20 hasta el final/Extract from variable `frase` the substring from position 20 until the end.\n"
   ]
  },
  {
   "cell_type": "code",
   "execution_count": null,
   "metadata": {
    "colab": {
     "base_uri": "https://localhost:8080/"
    },
    "id": "6c0QazIfzbXb",
    "outputId": "5daa5c00-2a91-4bef-f212-0402b4ec0124"
   },
   "outputs": [
    {
     "name": "stdout",
     "output_type": "stream",
     "text": [
      "t amet,\n",
      "consectetur adipiscing elit,\n",
      "sed do eiusmod tempor incididunt\n",
      "ut labore et dolore magna aliqua.\n"
     ]
    }
   ],
   "source": [
    "# Respuesta\n",
    "\n"
   ]
  },
  {
   "cell_type": "code",
   "execution_count": null,
   "metadata": {
    "colab": {
     "base_uri": "https://localhost:8080/"
    },
    "id": "BsCNFjfUbYfY",
    "outputId": "b0847072-be8c-4965-cd8d-8b403a127ab9"
   },
   "outputs": [
    {
     "name": "stdout",
     "output_type": "stream",
     "text": [
      "123\n"
     ]
    }
   ],
   "source": [
    "# Longitud de una cadena\n",
    "# Length of a string\n",
    "\n",
    "# len()\n",
    "print(len(frase))"
   ]
  },
  {
   "cell_type": "markdown",
   "metadata": {
    "id": "9ZDc7f_h0Aen"
   },
   "source": [
    "**Ejercicio**\n",
    " \n",
    "Extrae la cadena de la variable `frase`, las 20 últimas posiciones/ Extract from variable `frase` the last 20 positions"
   ]
  },
  {
   "cell_type": "code",
   "execution_count": null,
   "metadata": {
    "colab": {
     "base_uri": "https://localhost:8080/"
    },
    "id": "6NURuCclz7X8",
    "outputId": "75c4b552-5528-4e86-c348-4629f4ebcf14"
   },
   "outputs": [
    {
     "name": "stdout",
     "output_type": "stream",
     "text": [
      "dolore magna aliqua.\n"
     ]
    }
   ],
   "source": [
    "# Respuesta\n",
    "\n",
    "\n"
   ]
  },
  {
   "cell_type": "markdown",
   "metadata": {
    "id": "xzGDL6UF0lqz"
   },
   "source": [
    "Usando índices negativos/Access string positions using negative indexes"
   ]
  },
  {
   "cell_type": "code",
   "execution_count": null,
   "metadata": {
    "colab": {
     "base_uri": "https://localhost:8080/"
    },
    "id": "ad4IfS7Y0JAG",
    "outputId": "fb4a413c-0f41-41f7-af9a-1c73ef39c308"
   },
   "outputs": [
    {
     "name": "stdout",
     "output_type": "stream",
     "text": [
      "iqu\n"
     ]
    }
   ],
   "source": [
    "# magna aliqua.'''\n",
    "print(frase[-5:-2])"
   ]
  },
  {
   "cell_type": "markdown",
   "metadata": {
    "id": "GdkhxpXS1G-S"
   },
   "source": [
    "Otras operaciones con cadenas. Convertir a mayúsculas y/o minúsculas\n",
    " \n",
    "Other opererations with strings. Transform them into upper-case and lower-case\n",
    "\n",
    "*   upper()\n",
    "*   lower()\n",
    "\n",
    "\n"
   ]
  },
  {
   "cell_type": "code",
   "execution_count": null,
   "metadata": {
    "colab": {
     "base_uri": "https://localhost:8080/"
    },
    "id": "COrq28Ho0rHX",
    "outputId": "282bcf3a-2e86-4994-d52d-9284a601ca7e"
   },
   "outputs": [
    {
     "name": "stdout",
     "output_type": "stream",
     "text": [
      "IQU\n"
     ]
    }
   ],
   "source": [
    "print(frase[-5:-2].upper())"
   ]
  },
  {
   "cell_type": "markdown",
   "metadata": {
    "id": "duaBCOux1kBO"
   },
   "source": [
    "**Ejercicio**\n",
    " \n",
    "Convierte la cadena contenida en 'frase' a mayúsculas/Transform the 'frase' into upper-cases"
   ]
  },
  {
   "cell_type": "code",
   "execution_count": null,
   "metadata": {
    "colab": {
     "base_uri": "https://localhost:8080/"
    },
    "id": "EQVACyft1hvH",
    "outputId": "e10b7211-10d4-49d1-ebe0-d44b706efff1"
   },
   "outputs": [
    {
     "name": "stdout",
     "output_type": "stream",
     "text": [
      "LOREM IPSUM DOLOR SIT AMET,\n",
      "CONSECTETUR ADIPISCING ELIT,\n",
      "SED DO EIUSMOD TEMPOR INCIDIDUNT\n",
      "UT LABORE ET DOLORE MAGNA ALIQUA.\n"
     ]
    }
   ],
   "source": [
    "# Respuesta\n",
    "\n"
   ]
  },
  {
   "cell_type": "markdown",
   "metadata": {
    "id": "53RjqIcU1yMi"
   },
   "source": [
    "**Ejercicio**\n",
    " \n",
    "Convierte la cadena contenida en 'frase' a minúsculas/Transform the 'frase' into lower-cases"
   ]
  },
  {
   "cell_type": "code",
   "execution_count": null,
   "metadata": {
    "colab": {
     "base_uri": "https://localhost:8080/"
    },
    "id": "bL61NjQP1vcG",
    "outputId": "366ab4ce-97c5-4e95-c169-d22cc22296de"
   },
   "outputs": [
    {
     "name": "stdout",
     "output_type": "stream",
     "text": [
      "lorem ipsum dolor sit amet,\n",
      "consectetur adipiscing elit,\n",
      "sed do eiusmod tempor incididunt\n",
      "ut labore et dolore magna aliqua.\n"
     ]
    }
   ],
   "source": [
    "# Respuesta \n",
    "\n"
   ]
  },
  {
   "cell_type": "markdown",
   "metadata": {
    "id": "nWm8mMaZ2CGu"
   },
   "source": [
    "Eliminar espacios en blanco, strip()/Remove white spaces with strip()"
   ]
  },
  {
   "cell_type": "code",
   "execution_count": null,
   "metadata": {
    "colab": {
     "base_uri": "https://localhost:8080/"
    },
    "id": "iQyroF0412R2",
    "outputId": "f51e7cce-d901-4a08-c61a-0354cb63a1aa"
   },
   "outputs": [
    {
     "name": "stdout",
     "output_type": "stream",
     "text": [
      "¡Hola Madrid!\n"
     ]
    }
   ],
   "source": [
    "b = \" ¡Hola Madrid! \"\n",
    "print(b.strip()) # Elimina los espacios en blanco al inicio y final"
   ]
  },
  {
   "cell_type": "markdown",
   "metadata": {
    "id": "i-8Zg-ED2td-"
   },
   "source": [
    "Reemplazar una cadena por otra, dentro de una cadena dada, replace('origen', 'reemplazo')\n",
    " \n",
    "String replace() method. The replace() method replaces a specified phrase with another specified phrase."
   ]
  },
  {
   "cell_type": "code",
   "execution_count": null,
   "metadata": {
    "colab": {
     "base_uri": "https://localhost:8080/"
    },
    "id": "BKfyYIWI2IA9",
    "outputId": "36d27dde-8dcd-411b-8977-c9eeaa326bb0"
   },
   "outputs": [
    {
     "name": "stdout",
     "output_type": "stream",
     "text": [
      " ¡Hola Palencia! \n"
     ]
    }
   ],
   "source": [
    "print(b.replace('Madrid', 'Palencia'))"
   ]
  },
  {
   "cell_type": "markdown",
   "metadata": {
    "id": "dvOBq13G3Jx_"
   },
   "source": [
    "**Ejercicio**\n",
    " \n",
    "En la cadena de la variable `frase`, reemplaza 'Lorem ipsum' por 'EAE'\n",
    " \n",
    "Replace 'Lorem ipsum' by 'EAE' in 'frase' variable"
   ]
  },
  {
   "cell_type": "code",
   "execution_count": null,
   "metadata": {
    "colab": {
     "base_uri": "https://localhost:8080/"
    },
    "id": "ey5j0LDG3E_4",
    "outputId": "5bb791f9-7535-4cd2-a6fc-4d48dd9d3b58"
   },
   "outputs": [
    {
     "name": "stdout",
     "output_type": "stream",
     "text": [
      "¡Hola Madrid!\n"
     ]
    }
   ],
   "source": [
    "# Respuesta\n",
    "\n",
    "\n"
   ]
  },
  {
   "cell_type": "markdown",
   "metadata": {
    "id": "uZqQiiHI3lua"
   },
   "source": [
    "Dividir cadenas split() / Split strings with split()"
   ]
  },
  {
   "cell_type": "code",
   "execution_count": null,
   "metadata": {
    "colab": {
     "base_uri": "https://localhost:8080/"
    },
    "id": "okB5jM-A3gND",
    "outputId": "73fab3e0-e85a-4c38-d8f1-d3c0185a7d77"
   },
   "outputs": [
    {
     "name": "stdout",
     "output_type": "stream",
     "text": [
      "['Lorem ipsum dolor sit amet', '\\nconsectetur adipiscing elit', '\\nsed do eiusmod tempor incididunt\\nut labore et dolore magna aliqua.']\n"
     ]
    }
   ],
   "source": [
    "print(frase.split(\",\"))"
   ]
  },
  {
   "cell_type": "markdown",
   "metadata": {
    "id": "L3WVDNjw5O00"
   },
   "source": [
    "Inclusión de caracteres especiales en una cadea con '`\\`' / Include special characters into a string with '`\\`'."
   ]
  },
  {
   "cell_type": "code",
   "execution_count": null,
   "metadata": {
    "colab": {
     "base_uri": "https://localhost:8080/"
    },
    "id": "UP9OxKJW3tRv",
    "outputId": "6a96e34b-45b0-4551-9776-9dcc9a1b9da3"
   },
   "outputs": [
    {
     "name": "stdout",
     "output_type": "stream",
     "text": [
      "Lorem Ipsum es \"simplemente\" el texto de relleno de las imprentas y archivos de texto.\n"
     ]
    }
   ],
   "source": [
    "txt = \"Lorem Ipsum es \\\"simplemente\\\" el texto de relleno de las imprentas y archivos de texto.\"\n",
    "print(txt)"
   ]
  },
  {
   "cell_type": "markdown",
   "metadata": {
    "id": "ofeLieek8q4Z"
   },
   "source": [
    "Otros caracteres de escape / Other special scape characters\n",
    "*   \\' \tSingle Quote \t\n",
    "*   \\\\ \tBackslash \t\n",
    "*   \\n \tNew Line \t\n",
    "*   \\r \tCarriage Return \t\n",
    "*   \\t \tTab \t\n",
    "*   \\b \tBackspace \t\n",
    "*   \\f \tForm Feed \t\n",
    "*   \\ooo \tOctal value \t\n",
    "*   \\xhh \tHex value"
   ]
  },
  {
   "cell_type": "code",
   "execution_count": null,
   "metadata": {
    "colab": {
     "base_uri": "https://localhost:8080/"
    },
    "id": "mczG92FA5YWR",
    "outputId": "8407196e-5dbc-42c7-aa76-97df09be5ff3"
   },
   "outputs": [
    {
     "name": "stdout",
     "output_type": "stream",
     "text": [
      "Lorem Ipsum es \t el texto de relleno de las imprentas y archivos de texto.\n"
     ]
    }
   ],
   "source": [
    "# Inserción de tabuladores\n",
    "# Tab insertion\n",
    "\n",
    "txt = \"Lorem Ipsum es \\t el texto de relleno de las imprentas y archivos de texto.\"\n",
    "print(txt)"
   ]
  },
  {
   "cell_type": "markdown",
   "metadata": {
    "id": "8QoeURsM86rt"
   },
   "source": [
    "**Ejercicio**\n",
    " \n",
    "Repite el ejercicio anterior, pero en este caso separa la frase en dos lineas (salto de linea, \\n) por la misma posición\n",
    " \n",
    "Repite the last exercise, but in this case split the string into two parts from the same position, but this time, using (line break '\\n')."
   ]
  },
  {
   "cell_type": "code",
   "execution_count": null,
   "metadata": {
    "colab": {
     "base_uri": "https://localhost:8080/"
    },
    "id": "L6NvnBDI8mRB",
    "outputId": "8661491b-eaea-4e83-ce2c-30e0cae57384"
   },
   "outputs": [
    {
     "name": "stdout",
     "output_type": "stream",
     "text": [
      "Lorem Ipsum es \n",
      " el texto de relleno de las imprentas y archivos de texto.\n"
     ]
    }
   ],
   "source": [
    "# Respuesta\n",
    "\n",
    "\n"
   ]
  },
  {
   "cell_type": "markdown",
   "metadata": {
    "id": "62UIx6nW-GLy"
   },
   "source": [
    "**Operadores aritméticos en Python / Arithmetical operators in Python**\n",
    " \n",
    "Operador \tNombre \tEjemplo\n",
    " \n",
    "--------+-------+--------\n",
    "* \\+ \tAddition \tx + y\n",
    "* \\- \tSubtraction \tx - y \t\n",
    "* \\*\tMultiplication \tx * y \t\n",
    "* \\/ \tDivision \tx / y \t\n",
    "* \\% \tModulus \tx % y \t\n",
    "* \\** \tExponentiation \tx ** y \t\n",
    "* \\// \tFloor division \tx // y"
   ]
  },
  {
   "cell_type": "markdown",
   "metadata": {
    "id": "Z0L4FdYTBPM-"
   },
   "source": [
    "**Operadores de asignación en Python / Arithmetical operators in Python**\n",
    " \n",
    "Operador Nombre Ejemplo\n",
    "* \\= \tx = 5 \tx = 5 \t\n",
    "* \\+= \tx += 3 \tx = x + 3 \t\n",
    "* \\-= \tx -= 3 \tx = x - 3 \t\n",
    "* \\*= \tx *= 3 \tx = x * 3 \t\n",
    "* \\/= \tx /= 3 \tx = x / 3 \t\n",
    "* \\%= \tx %= 3 \tx = x % 3 \t\n",
    "* \\//= \tx //= 3 \tx = x // 3 \t\n",
    "* \\**= \tx **= 3 \tx = x ** 3 \t\n",
    "* \\&= \tx &= 3 \tx = x & 3 \t\n",
    "* \\|= \tx |= 3 \tx = x | 3 \t\n",
    "* \\^= \tx ^= 3 \tx = x ^ 3"
   ]
  },
  {
   "cell_type": "markdown",
   "metadata": {
    "id": "CxYL491DCARz"
   },
   "source": [
    "**Operadores de comparación en Python**\n",
    " \n",
    "Operador Nombre Ejemplo\n",
    "* \\== \tEqual \tx == y \t\n",
    "* \\!= \tNot equal \tx != y \t\n",
    "* \\> \tGreater than \tx > y \t\n",
    "* \\< \tLess than \tx < y \t\n",
    "* \\>= \tGreater than or equal to \tx >= y \t\n",
    "* \\<= \tLess than or equal to \tx <= y\n"
   ]
  },
  {
   "cell_type": "markdown",
   "metadata": {
    "id": "QsADfwyhCT7d"
   },
   "source": [
    "**Operadores lógicos / Logical operators**\n",
    "* and  \tReturns True if both statements are true \tx < 5 and  x < 10 \t\n",
    "* or \tReturns True if one of the statements is true \tx < 5 or x < 4 \t\n",
    "* not \tReverse the result, returns False if the result is true \tnot(x < 5 and x < 10)"
   ]
  },
  {
   "cell_type": "markdown",
   "metadata": {
    "id": "qHPLn9UCDisi"
   },
   "source": [
    "**Operadores de pertenencia / Membership operators**\n",
    " \n",
    "*  **in**  \tReturns True if a sequence with the specified value is present in the object \tx in y \t\n",
    "*  **not in** \tReturns True if a sequence with the specified value is not present in the object \tx not in y"
   ]
  },
  {
   "cell_type": "markdown",
   "metadata": {
    "id": "bz9FnPwOD_Yz"
   },
   "source": [
    "**Listas / Lists**\n",
    " \n",
    "Los elementos aparecen entre [ ]. Elements appear between []"
   ]
  },
  {
   "cell_type": "code",
   "execution_count": null,
   "metadata": {
    "colab": {
     "base_uri": "https://localhost:8080/"
    },
    "id": "i3Rtgfw59Jrg",
    "outputId": "70f691a3-f14e-4706-996d-719089716e2a"
   },
   "outputs": [
    {
     "data": {
      "text/plain": [
       "['apple', 'banana', 'cherry']"
      ]
     },
     "execution_count": 101,
     "metadata": {
      "tags": []
     },
     "output_type": "execute_result"
    }
   ],
   "source": [
    "frutas = [\"apple\", \"banana\", \"cherry\"]\n",
    "frutas"
   ]
  },
  {
   "cell_type": "code",
   "execution_count": null,
   "metadata": {
    "colab": {
     "base_uri": "https://localhost:8080/"
    },
    "id": "T97Q4fNrGQiW",
    "outputId": "91339ba3-c5e4-4b01-a821-5ef9f0edd11a"
   },
   "outputs": [
    {
     "name": "stdout",
     "output_type": "stream",
     "text": [
      "banana\n"
     ]
    }
   ],
   "source": [
    "# Acceso elementos de una lista\n",
    "# Access list's elements\n",
    "\n",
    "print(frutas[1])"
   ]
  },
  {
   "cell_type": "code",
   "execution_count": null,
   "metadata": {
    "colab": {
     "base_uri": "https://localhost:8080/"
    },
    "id": "AyjZjXoqGmRm",
    "outputId": "00c6ae85-3620-4c5c-b9cb-6b46bf23f60c"
   },
   "outputs": [
    {
     "data": {
      "text/plain": [
       "['apple', 'kiwi', 'cherry']"
      ]
     },
     "execution_count": 103,
     "metadata": {
      "tags": []
     },
     "output_type": "execute_result"
    }
   ],
   "source": [
    "frutas[1] = \"kiwi\"\n",
    "frutas"
   ]
  },
  {
   "cell_type": "markdown",
   "metadata": {
    "id": "CezFhqaEF2GP"
   },
   "source": [
    "**Tuplas  / Tuples**\n",
    " \n",
    "Los elementos aparecen entre ( ). Elements appear between ()\n",
    " \n",
    "No pueden ser modificados. Elements cannot be modified"
   ]
  },
  {
   "cell_type": "code",
   "execution_count": null,
   "metadata": {
    "colab": {
     "base_uri": "https://localhost:8080/"
    },
    "id": "yA7WDb6cEEzo",
    "outputId": "fa5fab57-9b45-4f38-b18c-ad7f0fff7c66"
   },
   "outputs": [
    {
     "data": {
      "text/plain": [
       "('apple', 'banana', 'cherry')"
      ]
     },
     "execution_count": 29,
     "metadata": {},
     "output_type": "execute_result"
    }
   ],
   "source": [
    "frutas = (\"apple\", \"banana\", \"cherry\")\n",
    "frutas"
   ]
  },
  {
   "cell_type": "code",
   "execution_count": null,
   "metadata": {
    "colab": {
     "base_uri": "https://localhost:8080/"
    },
    "id": "pQjT7F9RGCRA",
    "outputId": "ff3465e3-c050-4d1c-a3a0-dd74ed03cd89"
   },
   "outputs": [
    {
     "name": "stdout",
     "output_type": "stream",
     "text": [
      "banana\n"
     ]
    }
   ],
   "source": [
    "# Acceso elementos de una tupla\n",
    "# Access tupla's elements\n",
    "\n",
    "print(frutas[1])"
   ]
  },
  {
   "cell_type": "code",
   "execution_count": null,
   "metadata": {
    "id": "EDTnA-XtGMy8"
   },
   "outputs": [],
   "source": [
    "frutas[1] = \"kiwi\"\n",
    "frutas"
   ]
  },
  {
   "cell_type": "markdown",
   "metadata": {
    "id": "eaPg-M2iQnhh"
   },
   "source": [
    "**Sets**\n",
    " \n",
    "Sets son una colección de datos asignadas a una variable no ordenados ni indexados. / Sets a collection of data neither indexed nor sorted"
   ]
  },
  {
   "cell_type": "code",
   "execution_count": null,
   "metadata": {
    "colab": {
     "base_uri": "https://localhost:8080/"
    },
    "id": "TgQJee2GGbcd",
    "outputId": "5d345354-5f90-49df-aabb-a9cf52862572"
   },
   "outputs": [
    {
     "data": {
      "text/plain": [
       "{'apple', 'banana', 'cherry'}"
      ]
     },
     "execution_count": 107,
     "metadata": {
      "tags": []
     },
     "output_type": "execute_result"
    }
   ],
   "source": [
    "frutas = {\"apple\", \"banana\", \"cherry\"}\n",
    "frutas"
   ]
  },
  {
   "cell_type": "markdown",
   "metadata": {
    "id": "zR142K0BRWfD"
   },
   "source": [
    "**Diccionarios / Dictionaries**\n",
    " \n",
    "Sirven para almacenar datos en formato (clave, valor) / Used to store data in pairs (key, values)"
   ]
  },
  {
   "cell_type": "code",
   "execution_count": null,
   "metadata": {
    "id": "-m443MIxQuEV"
   },
   "outputs": [],
   "source": [
    "ficha_coche = {\n",
    "  \"brand\": \"Ford\",\n",
    "  \"model\": \"Mustang\",\n",
    "  \"year\": 1964\n",
    "}"
   ]
  },
  {
   "cell_type": "code",
   "execution_count": null,
   "metadata": {
    "colab": {
     "base_uri": "https://localhost:8080/"
    },
    "id": "E0N2F3zwRp-s",
    "outputId": "7cb265c6-805b-4c32-9ffa-00c6bdfcaed5"
   },
   "outputs": [
    {
     "name": "stdout",
     "output_type": "stream",
     "text": [
      "Mustang\n"
     ]
    }
   ],
   "source": [
    "# Acceso a los datos de un diccionario\n",
    "# Access to dictionary data \n",
    "print(ficha_coche['model'])"
   ]
  },
  {
   "cell_type": "markdown",
   "metadata": {
    "id": "KpjJutRySFC2"
   },
   "source": [
    "**Elementos de control de flujo del programa / Program flow control statements**"
   ]
  },
  {
   "cell_type": "markdown",
   "metadata": {
    "id": "8t_j31yVSO1Y"
   },
   "source": [
    "If ... Else, Elif y Else"
   ]
  },
  {
   "cell_type": "code",
   "execution_count": null,
   "metadata": {
    "colab": {
     "base_uri": "https://localhost:8080/"
    },
    "id": "jZe3bxIfRu6w",
    "outputId": "edf19aa3-3b0e-4e54-def8-577815c08374"
   },
   "outputs": [
    {
     "name": "stdout",
     "output_type": "stream",
     "text": [
      "b es mayor que a\n"
     ]
    }
   ],
   "source": [
    "a = 33\n",
    "b = 200\n",
    "if b > a:\n",
    "  print(\"b es mayor que a\")"
   ]
  },
  {
   "cell_type": "markdown",
   "metadata": {
    "id": "bzlTCs4ISsc7"
   },
   "source": [
    "**Ejercicio**\n",
    " \n",
    "Repite el ejercicio anterior pero contemplando los casos de:\n",
    " \n",
    "Repite the last exercise, but now control the following conditions:\n",
    "* a = b\n",
    "* a < b"
   ]
  },
  {
   "cell_type": "code",
   "execution_count": null,
   "metadata": {
    "colab": {
     "base_uri": "https://localhost:8080/"
    },
    "id": "H3y7nEv3SgqD",
    "outputId": "18b67485-953b-4d12-f161-edeb6af952e4"
   },
   "outputs": [
    {
     "name": "stdout",
     "output_type": "stream",
     "text": [
      "b es menor que b\n"
     ]
    }
   ],
   "source": [
    "a = 333\n",
    "b = 200\n",
    "\n",
    "# Respuesta\n",
    "\n"
   ]
  },
  {
   "cell_type": "markdown",
   "metadata": {
    "id": "WhRXBOCkTp_h"
   },
   "source": [
    "Forma corta condicional para if / Short form of if statement"
   ]
  },
  {
   "cell_type": "code",
   "execution_count": null,
   "metadata": {
    "colab": {
     "base_uri": "https://localhost:8080/"
    },
    "id": "au7TqwuNTIXm",
    "outputId": "8def3d9d-55a4-4e16-d8ff-ff2e1b3b7e8e"
   },
   "outputs": [
    {
     "name": "stdout",
     "output_type": "stream",
     "text": [
      "a mayor que b\n"
     ]
    }
   ],
   "source": [
    "if a > b: print(\"a mayor que b\")"
   ]
  },
  {
   "cell_type": "markdown",
   "metadata": {
    "id": "ImEVZLTjT12y"
   },
   "source": [
    "Forma corta para else / Short form of else statement"
   ]
  },
  {
   "cell_type": "code",
   "execution_count": null,
   "metadata": {
    "colab": {
     "base_uri": "https://localhost:8080/"
    },
    "id": "cYR-svk5Tw5H",
    "outputId": "a31d5d63-7ee4-4eee-99c8-ebed233c832b"
   },
   "outputs": [
    {
     "name": "stdout",
     "output_type": "stream",
     "text": [
      "A\n"
     ]
    }
   ],
   "source": [
    "print(\"A\") if a > b else print(\"B\") "
   ]
  },
  {
   "cell_type": "markdown",
   "metadata": {
    "id": "sKkARojdT-8t"
   },
   "source": [
    "Tres condiciones en una línea / Three conditions in inline form"
   ]
  },
  {
   "cell_type": "code",
   "execution_count": null,
   "metadata": {
    "colab": {
     "base_uri": "https://localhost:8080/"
    },
    "id": "MsUtVoy9T4kR",
    "outputId": "beb33e92-4269-42b6-b28e-9570cbacae26"
   },
   "outputs": [
    {
     "name": "stdout",
     "output_type": "stream",
     "text": [
      "a igual a b\n"
     ]
    }
   ],
   "source": [
    "a = 20\n",
    "b = 20\n",
    "print(\"a mayor\") if a > b else print(\"a igual a b\") if a == b else print(\"b mayor\") "
   ]
  },
  {
   "cell_type": "markdown",
   "metadata": {
    "id": "cNR4PKB0UeRn"
   },
   "source": [
    "Operadores lógicos and y or / Logical operators \"and\" and \"or\""
   ]
  },
  {
   "cell_type": "code",
   "execution_count": null,
   "metadata": {
    "colab": {
     "base_uri": "https://localhost:8080/"
    },
    "id": "sVvxzB8yUCTH",
    "outputId": "7cd5fb6e-6abd-4c36-fbb8-f4475bff59d1"
   },
   "outputs": [
    {
     "name": "stdout",
     "output_type": "stream",
     "text": [
      "Las dos condiones son verdaderas\n"
     ]
    }
   ],
   "source": [
    "a = 200\n",
    "b = 33\n",
    "c = 500\n",
    "if a > b and c > a:\n",
    "  print(\"Las dos condiones son verdaderas\")"
   ]
  },
  {
   "cell_type": "code",
   "execution_count": null,
   "metadata": {
    "colab": {
     "base_uri": "https://localhost:8080/"
    },
    "id": "FZ4QaJjqU0x_",
    "outputId": "abd5b218-3f7e-44d0-db1c-3a3c3c6df92c"
   },
   "outputs": [
    {
     "name": "stdout",
     "output_type": "stream",
     "text": [
      "Almenos una condición es verdadera\n"
     ]
    }
   ],
   "source": [
    "a = 200\n",
    "b = 33\n",
    "c = 500\n",
    "if a > b or a > c:\n",
    "  print(\"Almenos una condición es verdadera\")"
   ]
  },
  {
   "cell_type": "markdown",
   "metadata": {
    "id": "ctwIZVociXUQ"
   },
   "source": [
    "#### Funciones en Python / Python - Functions"
   ]
  },
  {
   "cell_type": "markdown",
   "metadata": {
    "id": "9pX0uSw3if9D"
   },
   "source": [
    "Una función es un bloque de código organizado y reusable, destinado a realizar una sola acción o un único tipo de acción.\n",
    " \n",
    "\n",
    "A function is a block of organized, reusable code that is used to perform a single, related action. Functions provide better modularity for your application and a high degree of code reusing."
   ]
  },
  {
   "cell_type": "markdown",
   "metadata": {
    "id": "krA0fO71i5on"
   },
   "source": [
    "Sintaxis / Syntax\n",
    "\n",
    "def functionname( parameters ):\n",
    " \n",
    "   \"function code\"\n",
    "\n",
    "   return [expression]\n"
   ]
  },
  {
   "cell_type": "markdown",
   "metadata": {
    "id": "d1Z6NgLmlBO_"
   },
   "source": [
    "Keyword arguments\n",
    "\n",
    "Keyword arguments are related to the function calls. When you use keyword arguments in a function call, the caller identifies the arguments by the parameter name."
   ]
  },
  {
   "cell_type": "code",
   "execution_count": null,
   "metadata": {
    "colab": {
     "base_uri": "https://localhost:8080/"
    },
    "id": "NYVkUcdgkgn0",
    "outputId": "e523c41d-1495-4db0-9547-1d3e09b13678"
   },
   "outputs": [
    {
     "name": "stdout",
     "output_type": "stream",
     "text": [
      "MY STRING\n"
     ]
    }
   ],
   "source": [
    "# Function definition is here\n",
    "def printme( str ):\n",
    "   \"This prints a passed string into this function\"\n",
    "   print (str.upper())\n",
    "   return;\n",
    "\n",
    "# Now you can call printme function\n",
    "printme( str = \"My string\")"
   ]
  },
  {
   "cell_type": "code",
   "execution_count": null,
   "metadata": {
    "colab": {
     "base_uri": "https://localhost:8080/"
    },
    "id": "WNPUfDtckHn_",
    "outputId": "64135f06-0ccc-4b94-c326-3068c5450d44"
   },
   "outputs": [
    {
     "name": "stdout",
     "output_type": "stream",
     "text": [
      "Name:  miki\n",
      "Age  50\n"
     ]
    }
   ],
   "source": [
    "# Function definition is here\n",
    "def printinfo( name, age ):\n",
    "   \"This prints a passed info into this function\"\n",
    "   print (\"Name: \", name)\n",
    "   print (\"Age \", age)\n",
    "   return;\n",
    "\n",
    "# Now you can call printinfo function\n",
    "printinfo( age=50, name=\"miki\" )"
   ]
  },
  {
   "cell_type": "markdown",
   "metadata": {
    "id": "GsjJOmHOkVpU"
   },
   "source": [
    "Default arguments\n",
    "\n",
    "A default argument is an argument that assumes a default value if a value is not provided in the function call for that argument. The following example gives an idea on default arguments, it prints default age if it is not passed\n"
   ]
  },
  {
   "cell_type": "code",
   "execution_count": null,
   "metadata": {
    "colab": {
     "base_uri": "https://localhost:8080/"
    },
    "id": "_C4A8LLEU6ll",
    "outputId": "0882d905-e9c2-4a37-bf26-164a8a6b4760"
   },
   "outputs": [
    {
     "name": "stdout",
     "output_type": "stream",
     "text": [
      "Name:  miki\n",
      "Age  50\n",
      "Name:  miki\n",
      "Age  35\n"
     ]
    }
   ],
   "source": [
    "# Function definition is here\n",
    "def printinfo( name, age = 35 ):\n",
    "   \"This prints a passed info into this function\"\n",
    "   print (\"Name: \", name)\n",
    "   print (\"Age \", age)\n",
    "   return;\n",
    "\n",
    "# Now you can call printinfo function\n",
    "printinfo( age=50, name=\"miki\" )\n",
    "printinfo( name=\"miki\" )"
   ]
  },
  {
   "cell_type": "markdown",
   "metadata": {
    "id": "R_JzqJnTljvv"
   },
   "source": [
    "**Ejercicio**\n",
    " \n",
    "Construye una función que reciba una lista de elementos como parámetro y devuelva (imprime el número) el número de elementos de la lista pasada.\n",
    " \n",
    "Build a function that receives a list of elements as an unique parameter and returns (prints) the number of elements in the list received."
   ]
  },
  {
   "cell_type": "code",
   "execution_count": null,
   "metadata": {
    "colab": {
     "base_uri": "https://localhost:8080/"
    },
    "id": "VoxjQC-zjq0A",
    "outputId": "6d335a84-9999-4117-c0d1-c89289701874"
   },
   "outputs": [
    {
     "name": "stdout",
     "output_type": "stream",
     "text": [
      "4\n"
     ]
    }
   ],
   "source": [
    "# Respuesta \n",
    "\n",
    "\n",
    "\n"
   ]
  },
  {
   "cell_type": "code",
   "execution_count": null,
   "metadata": {
    "id": "GXH-dBb0lakB"
   },
   "outputs": [],
   "source": []
  }
 ],
 "metadata": {
  "colab": {
   "provenance": []
  },
  "kernelspec": {
   "display_name": "Python 3",
   "name": "python3"
  },
  "language_info": {
   "name": "python"
  }
 },
 "nbformat": 4,
 "nbformat_minor": 0
}
