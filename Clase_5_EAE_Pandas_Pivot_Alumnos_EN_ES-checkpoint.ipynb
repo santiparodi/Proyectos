{
 "cells": [
  {
   "cell_type": "code",
   "execution_count": null,
   "metadata": {
    "id": "fSM57j50D7aZ"
   },
   "outputs": [],
   "source": [
    "import pandas as pd\n",
    "import numpy as np\n"
   ]
  },
  {
   "cell_type": "code",
   "execution_count": null,
   "metadata": {
    "colab": {
     "base_uri": "https://localhost:8080/"
    },
    "executionInfo": {
     "elapsed": 55237,
     "status": "ok",
     "timestamp": 1635321102627,
     "user": {
      "displayName": "Alfonso AAG",
      "photoUrl": "https://lh3.googleusercontent.com/a/default-user=s64",
      "userId": "05855385902499719219"
     },
     "user_tz": -120
    },
    "id": "fppYfENxEEbn",
    "outputId": "c05649b1-471d-4066-b603-66dbabe754d1"
   },
   "outputs": [
    {
     "name": "stdout",
     "output_type": "stream",
     "text": [
      "Mounted at /content/drive\n"
     ]
    }
   ],
   "source": [
    "# SÓLO PARA MÍ\n",
    "from google.colab import drive\n",
    "drive.mount('/content/drive')"
   ]
  },
  {
   "cell_type": "code",
   "execution_count": null,
   "metadata": {
    "id": "9NepXUYgEHpc"
   },
   "outputs": [],
   "source": [
    "!ls /content/drive/MyDrive"
   ]
  },
  {
   "cell_type": "markdown",
   "metadata": {
    "id": "y4P3o6ZdLgDw"
   },
   "source": [
    "#### Ejercicio\n",
    "* Carga en un dataframe Pandas llamado `df` el fichero 'Random_Sales_Data.xlsx'.\n",
    "* Convierte el campo 'Order Date' en formato `fecha`. \n",
    "----------------\n",
    "* Load into a Pandas dataframe called `df` the file 'Random_Sales_Data.xlsx'.\n",
    "* Convert the 'Order Date' field to the `date` format."
   ]
  },
  {
   "cell_type": "code",
   "execution_count": null,
   "metadata": {
    "colab": {
     "base_uri": "https://localhost:8080/",
     "height": 206
    },
    "executionInfo": {
     "elapsed": 1215,
     "status": "ok",
     "timestamp": 1635321155313,
     "user": {
      "displayName": "Alfonso AAG",
      "photoUrl": "https://lh3.googleusercontent.com/a/default-user=s64",
      "userId": "05855385902499719219"
     },
     "user_tz": -120
    },
    "id": "n4EPHinQEPyf",
    "outputId": "374e8804-a4ef-425a-e7f0-ee06fd7cf159"
   },
   "outputs": [
    {
     "data": {
      "text/html": [
       "<div>\n",
       "<style scoped>\n",
       "    .dataframe tbody tr th:only-of-type {\n",
       "        vertical-align: middle;\n",
       "    }\n",
       "\n",
       "    .dataframe tbody tr th {\n",
       "        vertical-align: top;\n",
       "    }\n",
       "\n",
       "    .dataframe thead th {\n",
       "        text-align: right;\n",
       "    }\n",
       "</style>\n",
       "<table border=\"1\" class=\"dataframe\">\n",
       "  <thead>\n",
       "    <tr style=\"text-align: right;\">\n",
       "      <th></th>\n",
       "      <th>Sales Representative</th>\n",
       "      <th>Location</th>\n",
       "      <th>Region</th>\n",
       "      <th>Customer</th>\n",
       "      <th>Order Date</th>\n",
       "      <th>Item</th>\n",
       "      <th>Quantity</th>\n",
       "      <th>Price</th>\n",
       "      <th>Total Sale Amount</th>\n",
       "    </tr>\n",
       "  </thead>\n",
       "  <tbody>\n",
       "    <tr>\n",
       "      <th>0</th>\n",
       "      <td>Sara Snyder</td>\n",
       "      <td>Massachusetts</td>\n",
       "      <td>East</td>\n",
       "      <td>Raymond Young</td>\n",
       "      <td>2016-01-01</td>\n",
       "      <td>Junk</td>\n",
       "      <td>6</td>\n",
       "      <td>12.42</td>\n",
       "      <td>74.52</td>\n",
       "    </tr>\n",
       "    <tr>\n",
       "      <th>1</th>\n",
       "      <td>Sara Snyder</td>\n",
       "      <td>New York</td>\n",
       "      <td>East</td>\n",
       "      <td>Helen Dean</td>\n",
       "      <td>2016-01-01</td>\n",
       "      <td>Junk</td>\n",
       "      <td>7</td>\n",
       "      <td>12.42</td>\n",
       "      <td>86.94</td>\n",
       "    </tr>\n",
       "    <tr>\n",
       "      <th>2</th>\n",
       "      <td>Diane Gonzalez</td>\n",
       "      <td>Washington</td>\n",
       "      <td>West</td>\n",
       "      <td>Shirley Chavez</td>\n",
       "      <td>2016-01-01</td>\n",
       "      <td>Stuff</td>\n",
       "      <td>2</td>\n",
       "      <td>16.32</td>\n",
       "      <td>32.64</td>\n",
       "    </tr>\n",
       "    <tr>\n",
       "      <th>3</th>\n",
       "      <td>Sara Snyder</td>\n",
       "      <td>New Jersey</td>\n",
       "      <td>East</td>\n",
       "      <td>Brian Ryan</td>\n",
       "      <td>2016-01-01</td>\n",
       "      <td>Junk</td>\n",
       "      <td>1</td>\n",
       "      <td>12.42</td>\n",
       "      <td>12.42</td>\n",
       "    </tr>\n",
       "    <tr>\n",
       "      <th>4</th>\n",
       "      <td>Sara Snyder</td>\n",
       "      <td>New Jersey</td>\n",
       "      <td>East</td>\n",
       "      <td>Benjamin Willis</td>\n",
       "      <td>2016-01-01</td>\n",
       "      <td>Things</td>\n",
       "      <td>3</td>\n",
       "      <td>17.83</td>\n",
       "      <td>53.49</td>\n",
       "    </tr>\n",
       "  </tbody>\n",
       "</table>\n",
       "</div>"
      ],
      "text/plain": [
       "  Sales Representative       Location  ...  Price Total Sale Amount\n",
       "0          Sara Snyder  Massachusetts  ...  12.42             74.52\n",
       "1          Sara Snyder       New York  ...  12.42             86.94\n",
       "2       Diane Gonzalez     Washington  ...  16.32             32.64\n",
       "3          Sara Snyder     New Jersey  ...  12.42             12.42\n",
       "4          Sara Snyder     New Jersey  ...  17.83             53.49\n",
       "\n",
       "[5 rows x 9 columns]"
      ]
     },
     "execution_count": 6,
     "metadata": {},
     "output_type": "execute_result"
    }
   ],
   "source": [
    "# Cargando los datos en un dataframe\n",
    "# Loading the data into a dataframe\n",
    "\n",
    "# Respuesta\n",
    "\n",
    "\n"
   ]
  },
  {
   "cell_type": "code",
   "execution_count": null,
   "metadata": {
    "colab": {
     "base_uri": "https://localhost:8080/"
    },
    "executionInfo": {
     "elapsed": 299,
     "status": "ok",
     "timestamp": 1635327601413,
     "user": {
      "displayName": "Alfonso AAG",
      "photoUrl": "https://lh3.googleusercontent.com/a/default-user=s64",
      "userId": "05855385902499719219"
     },
     "user_tz": -120
    },
    "id": "WeAveXV5HReK",
    "outputId": "3ab80574-a6b3-4ce2-8339-90280180ec77"
   },
   "outputs": [
    {
     "data": {
      "text/plain": [
       "array(['East', 'West'], dtype=object)"
      ]
     },
     "execution_count": 8,
     "metadata": {},
     "output_type": "execute_result"
    }
   ],
   "source": [
    "# Mostrar los valores distintos/únicos en una columna de un dataframe de Pandas\n",
    "# Show distinct values of a Pandas dataframe column\n",
    "df.Region.unique()"
   ]
  },
  {
   "cell_type": "code",
   "execution_count": null,
   "metadata": {
    "colab": {
     "base_uri": "https://localhost:8080/"
    },
    "executionInfo": {
     "elapsed": 246,
     "status": "ok",
     "timestamp": 1635327719393,
     "user": {
      "displayName": "Alfonso AAG",
      "photoUrl": "https://lh3.googleusercontent.com/a/default-user=s64",
      "userId": "05855385902499719219"
     },
     "user_tz": -120
    },
    "id": "La8qXB3-IIqh",
    "outputId": "9a23b116-7db1-4a97-bc48-faa12959be83"
   },
   "outputs": [
    {
     "data": {
      "text/plain": [
       "array(['Massachusetts', 'New York', 'Washington', 'New Jersey', 'Oregon',\n",
       "       'California', 'Connecticut', 'Nevada'], dtype=object)"
      ]
     },
     "execution_count": 9,
     "metadata": {},
     "output_type": "execute_result"
    }
   ],
   "source": [
    "df.Location.unique()"
   ]
  },
  {
   "cell_type": "markdown",
   "metadata": {
    "id": "mgx5hbD5uUt8"
   },
   "source": [
    "#### La tabla pivotante más sencilla posible ha de estar vinculada a un dataframe y tener al menos un índice.\n",
    "#### The simplest pivot table must have a dataframe and an index ."
   ]
  },
  {
   "cell_type": "code",
   "execution_count": null,
   "metadata": {
    "colab": {
     "base_uri": "https://localhost:8080/",
     "height": 144
    },
    "executionInfo": {
     "elapsed": 261,
     "status": "ok",
     "timestamp": 1635321217470,
     "user": {
      "displayName": "Alfonso AAG",
      "photoUrl": "https://lh3.googleusercontent.com/a/default-user=s64",
      "userId": "05855385902499719219"
     },
     "user_tz": -120
    },
    "id": "Fwtfzg-Mu5n3",
    "outputId": "177214d8-3db3-4d94-a98f-6833c7b7023a"
   },
   "outputs": [
    {
     "data": {
      "text/html": [
       "<div>\n",
       "<style scoped>\n",
       "    .dataframe tbody tr th:only-of-type {\n",
       "        vertical-align: middle;\n",
       "    }\n",
       "\n",
       "    .dataframe tbody tr th {\n",
       "        vertical-align: top;\n",
       "    }\n",
       "\n",
       "    .dataframe thead th {\n",
       "        text-align: right;\n",
       "    }\n",
       "</style>\n",
       "<table border=\"1\" class=\"dataframe\">\n",
       "  <thead>\n",
       "    <tr style=\"text-align: right;\">\n",
       "      <th></th>\n",
       "      <th>Price</th>\n",
       "      <th>Quantity</th>\n",
       "      <th>Total Sale Amount</th>\n",
       "    </tr>\n",
       "    <tr>\n",
       "      <th>Region</th>\n",
       "      <th></th>\n",
       "      <th></th>\n",
       "      <th></th>\n",
       "    </tr>\n",
       "  </thead>\n",
       "  <tbody>\n",
       "    <tr>\n",
       "      <th>East</th>\n",
       "      <td>22.676618</td>\n",
       "      <td>5.533352</td>\n",
       "      <td>126.214083</td>\n",
       "    </tr>\n",
       "    <tr>\n",
       "      <th>West</th>\n",
       "      <td>23.258073</td>\n",
       "      <td>5.500000</td>\n",
       "      <td>127.350479</td>\n",
       "    </tr>\n",
       "  </tbody>\n",
       "</table>\n",
       "</div>"
      ],
      "text/plain": [
       "            Price  Quantity  Total Sale Amount\n",
       "Region                                        \n",
       "East    22.676618  5.533352         126.214083\n",
       "West    23.258073  5.500000         127.350479"
      ]
     },
     "execution_count": 7,
     "metadata": {},
     "output_type": "execute_result"
    }
   ],
   "source": [
    "df.pivot_table(df,index=[\"Region\"])"
   ]
  },
  {
   "cell_type": "markdown",
   "metadata": {
    "id": "Fr8JE9GZJl7b"
   },
   "source": [
    "#### Una tabla pivotante puede tener múltiples índices. Estos índices de se pasan como argumentos mediante una lista. \n",
    "#### A pivot_table can have multiple indexes as well. The pivot_table can take multiple values (args) via a list."
   ]
  },
  {
   "cell_type": "code",
   "execution_count": null,
   "metadata": {
    "colab": {
     "base_uri": "https://localhost:8080/",
     "height": 455
    },
    "executionInfo": {
     "elapsed": 294,
     "status": "ok",
     "timestamp": 1635328319879,
     "user": {
      "displayName": "Alfonso AAG",
      "photoUrl": "https://lh3.googleusercontent.com/a/default-user=s64",
      "userId": "05855385902499719219"
     },
     "user_tz": -120
    },
    "id": "jtP90xaIKc-b",
    "outputId": "ce90ce0e-9527-44a8-e84f-a84283762c56"
   },
   "outputs": [
    {
     "data": {
      "text/html": [
       "<div>\n",
       "<style scoped>\n",
       "    .dataframe tbody tr th:only-of-type {\n",
       "        vertical-align: middle;\n",
       "    }\n",
       "\n",
       "    .dataframe tbody tr th {\n",
       "        vertical-align: top;\n",
       "    }\n",
       "\n",
       "    .dataframe thead th {\n",
       "        text-align: right;\n",
       "    }\n",
       "</style>\n",
       "<table border=\"1\" class=\"dataframe\">\n",
       "  <thead>\n",
       "    <tr style=\"text-align: right;\">\n",
       "      <th></th>\n",
       "      <th></th>\n",
       "      <th></th>\n",
       "      <th>Price</th>\n",
       "      <th>Quantity</th>\n",
       "      <th>Total Sale Amount</th>\n",
       "    </tr>\n",
       "    <tr>\n",
       "      <th>Region</th>\n",
       "      <th>Sales Representative</th>\n",
       "      <th>Order Date</th>\n",
       "      <th></th>\n",
       "      <th></th>\n",
       "      <th></th>\n",
       "    </tr>\n",
       "  </thead>\n",
       "  <tbody>\n",
       "    <tr>\n",
       "      <th rowspan=\"5\" valign=\"top\">East</th>\n",
       "      <th rowspan=\"5\" valign=\"top\">Frances Warren</th>\n",
       "      <th>2016-01-02</th>\n",
       "      <td>12.420000</td>\n",
       "      <td>7.000000</td>\n",
       "      <td>86.940000</td>\n",
       "    </tr>\n",
       "    <tr>\n",
       "      <th>2016-01-03</th>\n",
       "      <td>17.830000</td>\n",
       "      <td>8.000000</td>\n",
       "      <td>142.640000</td>\n",
       "    </tr>\n",
       "    <tr>\n",
       "      <th>2016-01-04</th>\n",
       "      <td>15.125000</td>\n",
       "      <td>8.000000</td>\n",
       "      <td>123.705000</td>\n",
       "    </tr>\n",
       "    <tr>\n",
       "      <th>2016-01-05</th>\n",
       "      <td>29.166667</td>\n",
       "      <td>5.666667</td>\n",
       "      <td>109.856667</td>\n",
       "    </tr>\n",
       "    <tr>\n",
       "      <th>2016-01-06</th>\n",
       "      <td>35.590000</td>\n",
       "      <td>6.000000</td>\n",
       "      <td>213.540000</td>\n",
       "    </tr>\n",
       "    <tr>\n",
       "      <th>...</th>\n",
       "      <th>...</th>\n",
       "      <th>...</th>\n",
       "      <td>...</td>\n",
       "      <td>...</td>\n",
       "      <td>...</td>\n",
       "    </tr>\n",
       "    <tr>\n",
       "      <th rowspan=\"5\" valign=\"top\">West</th>\n",
       "      <th rowspan=\"5\" valign=\"top\">Patrick Graham</th>\n",
       "      <th>2016-12-27</th>\n",
       "      <td>23.627500</td>\n",
       "      <td>2.750000</td>\n",
       "      <td>68.752500</td>\n",
       "    </tr>\n",
       "    <tr>\n",
       "      <th>2016-12-28</th>\n",
       "      <td>28.994615</td>\n",
       "      <td>4.230769</td>\n",
       "      <td>124.725385</td>\n",
       "    </tr>\n",
       "    <tr>\n",
       "      <th>2016-12-29</th>\n",
       "      <td>21.688000</td>\n",
       "      <td>6.600000</td>\n",
       "      <td>150.094000</td>\n",
       "    </tr>\n",
       "    <tr>\n",
       "      <th>2016-12-30</th>\n",
       "      <td>23.816250</td>\n",
       "      <td>4.000000</td>\n",
       "      <td>128.075000</td>\n",
       "    </tr>\n",
       "    <tr>\n",
       "      <th>2016-12-31</th>\n",
       "      <td>26.930000</td>\n",
       "      <td>6.000000</td>\n",
       "      <td>148.370000</td>\n",
       "    </tr>\n",
       "  </tbody>\n",
       "</table>\n",
       "<p>1640 rows × 3 columns</p>\n",
       "</div>"
      ],
      "text/plain": [
       "                                            Price  Quantity  Total Sale Amount\n",
       "Region Sales Representative Order Date                                        \n",
       "East   Frances Warren       2016-01-02  12.420000  7.000000          86.940000\n",
       "                            2016-01-03  17.830000  8.000000         142.640000\n",
       "                            2016-01-04  15.125000  8.000000         123.705000\n",
       "                            2016-01-05  29.166667  5.666667         109.856667\n",
       "                            2016-01-06  35.590000  6.000000         213.540000\n",
       "...                                           ...       ...                ...\n",
       "West   Patrick Graham       2016-12-27  23.627500  2.750000          68.752500\n",
       "                            2016-12-28  28.994615  4.230769         124.725385\n",
       "                            2016-12-29  21.688000  6.600000         150.094000\n",
       "                            2016-12-30  23.816250  4.000000         128.075000\n",
       "                            2016-12-31  26.930000  6.000000         148.370000\n",
       "\n",
       "[1640 rows x 3 columns]"
      ]
     },
     "execution_count": 10,
     "metadata": {},
     "output_type": "execute_result"
    }
   ],
   "source": [
    "df.pivot_table(index=['Region', 'Sales Representative','Order Date'])"
   ]
  },
  {
   "cell_type": "markdown",
   "metadata": {
    "id": "4QUCeWhKMGqj"
   },
   "source": [
    "#### Ejercicio\n",
    " \n",
    "* Muestra mediante una tabla pivotante muestra las ventas de cada representante de ventas\n",
    "* Use a pivot table to show the the sales of each sales representative"
   ]
  },
  {
   "cell_type": "code",
   "execution_count": null,
   "metadata": {
    "colab": {
     "base_uri": "https://localhost:8080/",
     "height": 238
    },
    "executionInfo": {
     "elapsed": 276,
     "status": "ok",
     "timestamp": 1635328710907,
     "user": {
      "displayName": "Alfonso AAG",
      "photoUrl": "https://lh3.googleusercontent.com/a/default-user=s64",
      "userId": "05855385902499719219"
     },
     "user_tz": -120
    },
    "id": "QCZo9JX2L7yN",
    "outputId": "f3b082cc-4ee2-4d31-9727-e85f98f221db"
   },
   "outputs": [
    {
     "data": {
      "text/html": [
       "<div>\n",
       "<style scoped>\n",
       "    .dataframe tbody tr th:only-of-type {\n",
       "        vertical-align: middle;\n",
       "    }\n",
       "\n",
       "    .dataframe tbody tr th {\n",
       "        vertical-align: top;\n",
       "    }\n",
       "\n",
       "    .dataframe thead th {\n",
       "        text-align: right;\n",
       "    }\n",
       "</style>\n",
       "<table border=\"1\" class=\"dataframe\">\n",
       "  <thead>\n",
       "    <tr style=\"text-align: right;\">\n",
       "      <th></th>\n",
       "      <th>Price</th>\n",
       "      <th>Quantity</th>\n",
       "      <th>Total Sale Amount</th>\n",
       "    </tr>\n",
       "    <tr>\n",
       "      <th>Sales Representative</th>\n",
       "      <th></th>\n",
       "      <th></th>\n",
       "      <th></th>\n",
       "    </tr>\n",
       "  </thead>\n",
       "  <tbody>\n",
       "    <tr>\n",
       "      <th>Diane Gonzalez</th>\n",
       "      <td>24.127637</td>\n",
       "      <td>5.586066</td>\n",
       "      <td>133.632760</td>\n",
       "    </tr>\n",
       "    <tr>\n",
       "      <th>Frances Warren</th>\n",
       "      <td>23.045939</td>\n",
       "      <td>5.574240</td>\n",
       "      <td>130.216136</td>\n",
       "    </tr>\n",
       "    <tr>\n",
       "      <th>Patrick Graham</th>\n",
       "      <td>22.787969</td>\n",
       "      <td>5.453471</td>\n",
       "      <td>123.954151</td>\n",
       "    </tr>\n",
       "    <tr>\n",
       "      <th>Randy Watson</th>\n",
       "      <td>22.583480</td>\n",
       "      <td>5.691441</td>\n",
       "      <td>127.382185</td>\n",
       "    </tr>\n",
       "    <tr>\n",
       "      <th>Sara Snyder</th>\n",
       "      <td>22.619089</td>\n",
       "      <td>5.457462</td>\n",
       "      <td>124.691804</td>\n",
       "    </tr>\n",
       "  </tbody>\n",
       "</table>\n",
       "</div>"
      ],
      "text/plain": [
       "                          Price  Quantity  Total Sale Amount\n",
       "Sales Representative                                        \n",
       "Diane Gonzalez        24.127637  5.586066         133.632760\n",
       "Frances Warren        23.045939  5.574240         130.216136\n",
       "Patrick Graham        22.787969  5.453471         123.954151\n",
       "Randy Watson          22.583480  5.691441         127.382185\n",
       "Sara Snyder           22.619089  5.457462         124.691804"
      ]
     },
     "execution_count": 13,
     "metadata": {},
     "output_type": "execute_result"
    }
   ],
   "source": [
    "# Respuesta\n",
    "\n",
    "\n",
    "\n"
   ]
  },
  {
   "cell_type": "markdown",
   "metadata": {
    "id": "AuClh-CMK-nX"
   },
   "source": [
    "#### Ejercicio\n",
    " \n",
    "* Muestra mediante una tabla pivotante muestra las ventas por region, localización y por representante de ventas\n",
    "* Use a pivot table to show the the sales grouped by regiom, location and sales representative"
   ]
  },
  {
   "cell_type": "code",
   "execution_count": null,
   "metadata": {
    "colab": {
     "base_uri": "https://localhost:8080/",
     "height": 708
    },
    "executionInfo": {
     "elapsed": 280,
     "status": "ok",
     "timestamp": 1635328427007,
     "user": {
      "displayName": "Alfonso AAG",
      "photoUrl": "https://lh3.googleusercontent.com/a/default-user=s64",
      "userId": "05855385902499719219"
     },
     "user_tz": -120
    },
    "id": "jKESJFXSKwU7",
    "outputId": "2e21f78b-3a2d-4453-c04f-b807e0f61654"
   },
   "outputs": [
    {
     "data": {
      "text/html": [
       "<div>\n",
       "<style scoped>\n",
       "    .dataframe tbody tr th:only-of-type {\n",
       "        vertical-align: middle;\n",
       "    }\n",
       "\n",
       "    .dataframe tbody tr th {\n",
       "        vertical-align: top;\n",
       "    }\n",
       "\n",
       "    .dataframe thead th {\n",
       "        text-align: right;\n",
       "    }\n",
       "</style>\n",
       "<table border=\"1\" class=\"dataframe\">\n",
       "  <thead>\n",
       "    <tr style=\"text-align: right;\">\n",
       "      <th></th>\n",
       "      <th></th>\n",
       "      <th></th>\n",
       "      <th>Price</th>\n",
       "      <th>Quantity</th>\n",
       "      <th>Total Sale Amount</th>\n",
       "    </tr>\n",
       "    <tr>\n",
       "      <th>Region</th>\n",
       "      <th>Location</th>\n",
       "      <th>Sales Representative</th>\n",
       "      <th></th>\n",
       "      <th></th>\n",
       "      <th></th>\n",
       "    </tr>\n",
       "  </thead>\n",
       "  <tbody>\n",
       "    <tr>\n",
       "      <th rowspan=\"12\" valign=\"top\">East</th>\n",
       "      <th rowspan=\"3\" valign=\"top\">Connecticut</th>\n",
       "      <th>Frances Warren</th>\n",
       "      <td>24.866000</td>\n",
       "      <td>6.054545</td>\n",
       "      <td>159.488364</td>\n",
       "    </tr>\n",
       "    <tr>\n",
       "      <th>Randy Watson</th>\n",
       "      <td>22.162262</td>\n",
       "      <td>5.714286</td>\n",
       "      <td>130.860833</td>\n",
       "    </tr>\n",
       "    <tr>\n",
       "      <th>Sara Snyder</th>\n",
       "      <td>21.024490</td>\n",
       "      <td>5.260204</td>\n",
       "      <td>113.668776</td>\n",
       "    </tr>\n",
       "    <tr>\n",
       "      <th rowspan=\"3\" valign=\"top\">Massachusetts</th>\n",
       "      <th>Frances Warren</th>\n",
       "      <td>22.439326</td>\n",
       "      <td>5.797753</td>\n",
       "      <td>129.287416</td>\n",
       "    </tr>\n",
       "    <tr>\n",
       "      <th>Randy Watson</th>\n",
       "      <td>20.660065</td>\n",
       "      <td>5.744337</td>\n",
       "      <td>118.627994</td>\n",
       "    </tr>\n",
       "    <tr>\n",
       "      <th>Sara Snyder</th>\n",
       "      <td>22.697083</td>\n",
       "      <td>5.463889</td>\n",
       "      <td>124.907125</td>\n",
       "    </tr>\n",
       "    <tr>\n",
       "      <th rowspan=\"3\" valign=\"top\">New Jersey</th>\n",
       "      <th>Frances Warren</th>\n",
       "      <td>22.331120</td>\n",
       "      <td>5.624000</td>\n",
       "      <td>124.032160</td>\n",
       "    </tr>\n",
       "    <tr>\n",
       "      <th>Randy Watson</th>\n",
       "      <td>23.128686</td>\n",
       "      <td>5.708571</td>\n",
       "      <td>120.554114</td>\n",
       "    </tr>\n",
       "    <tr>\n",
       "      <th>Sara Snyder</th>\n",
       "      <td>23.887419</td>\n",
       "      <td>5.555315</td>\n",
       "      <td>134.311041</td>\n",
       "    </tr>\n",
       "    <tr>\n",
       "      <th rowspan=\"3\" valign=\"top\">New York</th>\n",
       "      <th>Frances Warren</th>\n",
       "      <td>23.529652</td>\n",
       "      <td>5.213930</td>\n",
       "      <td>126.874527</td>\n",
       "    </tr>\n",
       "    <tr>\n",
       "      <th>Randy Watson</th>\n",
       "      <td>24.253188</td>\n",
       "      <td>5.625000</td>\n",
       "      <td>138.656406</td>\n",
       "    </tr>\n",
       "    <tr>\n",
       "      <th>Sara Snyder</th>\n",
       "      <td>22.194910</td>\n",
       "      <td>5.443152</td>\n",
       "      <td>121.553579</td>\n",
       "    </tr>\n",
       "    <tr>\n",
       "      <th rowspan=\"8\" valign=\"top\">West</th>\n",
       "      <th rowspan=\"2\" valign=\"top\">California</th>\n",
       "      <th>Diane Gonzalez</th>\n",
       "      <td>25.185446</td>\n",
       "      <td>5.765258</td>\n",
       "      <td>146.201362</td>\n",
       "    </tr>\n",
       "    <tr>\n",
       "      <th>Patrick Graham</th>\n",
       "      <td>25.277232</td>\n",
       "      <td>5.418079</td>\n",
       "      <td>135.599859</td>\n",
       "    </tr>\n",
       "    <tr>\n",
       "      <th rowspan=\"2\" valign=\"top\">Nevada</th>\n",
       "      <th>Diane Gonzalez</th>\n",
       "      <td>23.381455</td>\n",
       "      <td>5.618182</td>\n",
       "      <td>119.083818</td>\n",
       "    </tr>\n",
       "    <tr>\n",
       "      <th>Patrick Graham</th>\n",
       "      <td>22.428391</td>\n",
       "      <td>5.298851</td>\n",
       "      <td>117.135862</td>\n",
       "    </tr>\n",
       "    <tr>\n",
       "      <th rowspan=\"2\" valign=\"top\">Oregon</th>\n",
       "      <th>Diane Gonzalez</th>\n",
       "      <td>24.377754</td>\n",
       "      <td>5.171123</td>\n",
       "      <td>123.175187</td>\n",
       "    </tr>\n",
       "    <tr>\n",
       "      <th>Patrick Graham</th>\n",
       "      <td>22.020584</td>\n",
       "      <td>5.572944</td>\n",
       "      <td>123.653660</td>\n",
       "    </tr>\n",
       "    <tr>\n",
       "      <th rowspan=\"2\" valign=\"top\">Washington</th>\n",
       "      <th>Diane Gonzalez</th>\n",
       "      <td>23.293538</td>\n",
       "      <td>5.722022</td>\n",
       "      <td>133.916679</td>\n",
       "    </tr>\n",
       "    <tr>\n",
       "      <th>Patrick Graham</th>\n",
       "      <td>21.742052</td>\n",
       "      <td>5.417910</td>\n",
       "      <td>117.580821</td>\n",
       "    </tr>\n",
       "  </tbody>\n",
       "</table>\n",
       "</div>"
      ],
      "text/plain": [
       "                                               Price  ...  Total Sale Amount\n",
       "Region Location      Sales Representative             ...                   \n",
       "East   Connecticut   Frances Warren        24.866000  ...         159.488364\n",
       "                     Randy Watson          22.162262  ...         130.860833\n",
       "                     Sara Snyder           21.024490  ...         113.668776\n",
       "       Massachusetts Frances Warren        22.439326  ...         129.287416\n",
       "                     Randy Watson          20.660065  ...         118.627994\n",
       "                     Sara Snyder           22.697083  ...         124.907125\n",
       "       New Jersey    Frances Warren        22.331120  ...         124.032160\n",
       "                     Randy Watson          23.128686  ...         120.554114\n",
       "                     Sara Snyder           23.887419  ...         134.311041\n",
       "       New York      Frances Warren        23.529652  ...         126.874527\n",
       "                     Randy Watson          24.253188  ...         138.656406\n",
       "                     Sara Snyder           22.194910  ...         121.553579\n",
       "West   California    Diane Gonzalez        25.185446  ...         146.201362\n",
       "                     Patrick Graham        25.277232  ...         135.599859\n",
       "       Nevada        Diane Gonzalez        23.381455  ...         119.083818\n",
       "                     Patrick Graham        22.428391  ...         117.135862\n",
       "       Oregon        Diane Gonzalez        24.377754  ...         123.175187\n",
       "                     Patrick Graham        22.020584  ...         123.653660\n",
       "       Washington    Diane Gonzalez        23.293538  ...         133.916679\n",
       "                     Patrick Graham        21.742052  ...         117.580821\n",
       "\n",
       "[20 rows x 3 columns]"
      ]
     },
     "execution_count": 12,
     "metadata": {},
     "output_type": "execute_result"
    }
   ],
   "source": [
    "# Respuesta\n",
    "\n",
    "\n",
    "\n"
   ]
  },
  {
   "cell_type": "markdown",
   "metadata": {
    "id": "_PwnLp9XM0yE"
   },
   "source": [
    "#### Mostrar sólo las columnas que son de nuestro interés\n",
    "#### Show only the columns that are of interest to us.\n",
    "\n",
    "Podemos ocultar las columnas que no nos interesan definiendo expresamente las que sí son de nuestro interés mediante el parámetro `values`\n",
    "\n",
    "For this purpose, we can remove them by explicitly defining the columns we care about using the parameter `values`."
   ]
  },
  {
   "cell_type": "code",
   "execution_count": null,
   "metadata": {
    "colab": {
     "base_uri": "https://localhost:8080/",
     "height": 238
    },
    "executionInfo": {
     "elapsed": 320,
     "status": "ok",
     "timestamp": 1635329239626,
     "user": {
      "displayName": "Alfonso AAG",
      "photoUrl": "https://lh3.googleusercontent.com/a/default-user=s64",
      "userId": "05855385902499719219"
     },
     "user_tz": -120
    },
    "id": "0e56FPRVN63d",
    "outputId": "f1da044a-dc1c-4fb1-dd6b-a0f660468457"
   },
   "outputs": [
    {
     "data": {
      "text/html": [
       "<div>\n",
       "<style scoped>\n",
       "    .dataframe tbody tr th:only-of-type {\n",
       "        vertical-align: middle;\n",
       "    }\n",
       "\n",
       "    .dataframe tbody tr th {\n",
       "        vertical-align: top;\n",
       "    }\n",
       "\n",
       "    .dataframe thead th {\n",
       "        text-align: right;\n",
       "    }\n",
       "</style>\n",
       "<table border=\"1\" class=\"dataframe\">\n",
       "  <thead>\n",
       "    <tr style=\"text-align: right;\">\n",
       "      <th></th>\n",
       "      <th>Total Sale Amount</th>\n",
       "    </tr>\n",
       "    <tr>\n",
       "      <th>Sales Representative</th>\n",
       "      <th></th>\n",
       "    </tr>\n",
       "  </thead>\n",
       "  <tbody>\n",
       "    <tr>\n",
       "      <th>Diane Gonzalez</th>\n",
       "      <td>133.632760</td>\n",
       "    </tr>\n",
       "    <tr>\n",
       "      <th>Frances Warren</th>\n",
       "      <td>130.216136</td>\n",
       "    </tr>\n",
       "    <tr>\n",
       "      <th>Patrick Graham</th>\n",
       "      <td>123.954151</td>\n",
       "    </tr>\n",
       "    <tr>\n",
       "      <th>Randy Watson</th>\n",
       "      <td>127.382185</td>\n",
       "    </tr>\n",
       "    <tr>\n",
       "      <th>Sara Snyder</th>\n",
       "      <td>124.691804</td>\n",
       "    </tr>\n",
       "  </tbody>\n",
       "</table>\n",
       "</div>"
      ],
      "text/plain": [
       "                      Total Sale Amount\n",
       "Sales Representative                   \n",
       "Diane Gonzalez               133.632760\n",
       "Frances Warren               130.216136\n",
       "Patrick Graham               123.954151\n",
       "Randy Watson                 127.382185\n",
       "Sara Snyder                  124.691804"
      ]
     },
     "execution_count": 14,
     "metadata": {},
     "output_type": "execute_result"
    }
   ],
   "source": [
    "df.pivot_table(index=['Sales Representative'], values='Total Sale Amount')"
   ]
  },
  {
   "cell_type": "markdown",
   "metadata": {
    "id": "iq2XOxEuUeL6"
   },
   "source": [
    "#### El parámetro `values` anterior nos devuelve la media aritmética de los valores por defecto\n",
    "#### The previous `values` parameter returns the arithmetic mean of the default values"
   ]
  },
  {
   "cell_type": "code",
   "execution_count": null,
   "metadata": {
    "colab": {
     "base_uri": "https://localhost:8080/"
    },
    "executionInfo": {
     "elapsed": 278,
     "status": "ok",
     "timestamp": 1635330922498,
     "user": {
      "displayName": "Alfonso AAG",
      "photoUrl": "https://lh3.googleusercontent.com/a/default-user=s64",
      "userId": "05855385902499719219"
     },
     "user_tz": -120
    },
    "id": "pwy88wE2T1wx",
    "outputId": "d7dbe30a-3bc2-4216-b324-766faaa29b93"
   },
   "outputs": [
    {
     "data": {
      "text/plain": [
       "133.63275956284136"
      ]
     },
     "execution_count": 37,
     "metadata": {},
     "output_type": "execute_result"
    }
   ],
   "source": [
    "# Comprobación / Validation\n",
    "df[df['Sales Representative'] == 'Diane Gonzalez']['Total Sale Amount'].mean()"
   ]
  },
  {
   "cell_type": "code",
   "execution_count": null,
   "metadata": {
    "colab": {
     "base_uri": "https://localhost:8080/"
    },
    "executionInfo": {
     "elapsed": 283,
     "status": "ok",
     "timestamp": 1635334013597,
     "user": {
      "displayName": "Alfonso AAG",
      "photoUrl": "https://lh3.googleusercontent.com/a/default-user=s64",
      "userId": "05855385902499719219"
     },
     "user_tz": -120
    },
    "id": "XkXvEV5kVAkx",
    "outputId": "39761e7a-0dae-48ac-fc8e-2e42266b93bb"
   },
   "outputs": [
    {
     "name": "stdout",
     "output_type": "stream",
     "text": [
      "Diane Gonzalez :  133.63275956284136\n",
      "Frances Warren :  130.21613595706606\n",
      "Patrick Graham :  123.95415066469718\n",
      "Randy Watson :  127.38218468468466\n",
      "Sara Snyder :  124.69180381218062\n"
     ]
    }
   ],
   "source": [
    "# Comprobación / Validation\n",
    "\n",
    "sales_representative_list = df['Sales Representative'].unique()\n",
    "for i in (np.sort(sales_representative_list)):\n",
    "  print(i, ': ',df[df['Sales Representative'] == i]['Total Sale Amount'].mean())"
   ]
  },
  {
   "cell_type": "code",
   "execution_count": null,
   "metadata": {
    "colab": {
     "base_uri": "https://localhost:8080/"
    },
    "executionInfo": {
     "elapsed": 293,
     "status": "ok",
     "timestamp": 1635332196053,
     "user": {
      "displayName": "Alfonso AAG",
      "photoUrl": "https://lh3.googleusercontent.com/a/default-user=s64",
      "userId": "05855385902499719219"
     },
     "user_tz": -120
    },
    "id": "BMBZS94-Yenm",
    "outputId": "3fe26bb4-9424-4ae3-c54d-eeb7376ec253"
   },
   "outputs": [
    {
     "name": "stdout",
     "output_type": "stream",
     "text": [
      "['Diane Gonzalez' 'Frances Warren' 'Patrick Graham' 'Randy Watson'\n",
      " 'Sara Snyder']\n"
     ]
    }
   ],
   "source": [
    "print(np.sort(sales_representative_list))"
   ]
  },
  {
   "cell_type": "code",
   "execution_count": null,
   "metadata": {
    "colab": {
     "base_uri": "https://localhost:8080/"
    },
    "executionInfo": {
     "elapsed": 329,
     "status": "ok",
     "timestamp": 1635330540041,
     "user": {
      "displayName": "Alfonso AAG",
      "photoUrl": "https://lh3.googleusercontent.com/a/default-user=s64",
      "userId": "05855385902499719219"
     },
     "user_tz": -120
    },
    "id": "5JyvzUznP9CE",
    "outputId": "011d1c36-b1af-4bd9-d2a3-d4b320d014c6"
   },
   "outputs": [
    {
     "data": {
      "text/plain": [
       "Total Sale Amount    126.631135\n",
       "dtype: float64"
      ]
     },
     "execution_count": 31,
     "metadata": {},
     "output_type": "execute_result"
    }
   ],
   "source": [
    "df.loc[:,['Sales Representative','Total Sale Amount']].sort_values(by='Sales Representative').mean()"
   ]
  },
  {
   "cell_type": "markdown",
   "metadata": {
    "id": "t37QnuV-gogO"
   },
   "source": [
    "Por defecto, Pandas calcula la media de los calores de la columna. Podemos contarlos o sumarlos usando `aggfunc` and `np.sum`.\n",
    "Pandas automatically averages the data but we can do a count or a sum. Using `aggfunc` and `np.sum`."
   ]
  },
  {
   "cell_type": "code",
   "execution_count": null,
   "metadata": {
    "colab": {
     "base_uri": "https://localhost:8080/",
     "height": 238
    },
    "executionInfo": {
     "elapsed": 360,
     "status": "ok",
     "timestamp": 1635334675268,
     "user": {
      "displayName": "Alfonso AAG",
      "photoUrl": "https://lh3.googleusercontent.com/a/default-user=s64",
      "userId": "05855385902499719219"
     },
     "user_tz": -120
    },
    "id": "-lpKXwM4ilw_",
    "outputId": "7af7908e-49a9-42a8-e539-159486b87bf1"
   },
   "outputs": [
    {
     "data": {
      "text/html": [
       "<div>\n",
       "<style scoped>\n",
       "    .dataframe tbody tr th:only-of-type {\n",
       "        vertical-align: middle;\n",
       "    }\n",
       "\n",
       "    .dataframe tbody tr th {\n",
       "        vertical-align: top;\n",
       "    }\n",
       "\n",
       "    .dataframe thead th {\n",
       "        text-align: right;\n",
       "    }\n",
       "</style>\n",
       "<table border=\"1\" class=\"dataframe\">\n",
       "  <thead>\n",
       "    <tr style=\"text-align: right;\">\n",
       "      <th></th>\n",
       "      <th>Total Sale Amount</th>\n",
       "    </tr>\n",
       "    <tr>\n",
       "      <th>Sales Representative</th>\n",
       "      <th></th>\n",
       "    </tr>\n",
       "  </thead>\n",
       "  <tbody>\n",
       "    <tr>\n",
       "      <th>Diane Gonzalez</th>\n",
       "      <td>97819.18</td>\n",
       "    </tr>\n",
       "    <tr>\n",
       "      <th>Frances Warren</th>\n",
       "      <td>72790.82</td>\n",
       "    </tr>\n",
       "    <tr>\n",
       "      <th>Patrick Graham</th>\n",
       "      <td>167833.92</td>\n",
       "    </tr>\n",
       "    <tr>\n",
       "      <th>Randy Watson</th>\n",
       "      <td>113115.38</td>\n",
       "    </tr>\n",
       "    <tr>\n",
       "      <th>Sara Snyder</th>\n",
       "      <td>268212.07</td>\n",
       "    </tr>\n",
       "  </tbody>\n",
       "</table>\n",
       "</div>"
      ],
      "text/plain": [
       "                      Total Sale Amount\n",
       "Sales Representative                   \n",
       "Diane Gonzalez                 97819.18\n",
       "Frances Warren                 72790.82\n",
       "Patrick Graham                167833.92\n",
       "Randy Watson                  113115.38\n",
       "Sara Snyder                   268212.07"
      ]
     },
     "execution_count": 68,
     "metadata": {},
     "output_type": "execute_result"
    }
   ],
   "source": [
    "pd.pivot_table(df,index=['Sales Representative'],values=['Total Sale Amount'],aggfunc=np.sum)"
   ]
  },
  {
   "cell_type": "code",
   "execution_count": null,
   "metadata": {
    "colab": {
     "base_uri": "https://localhost:8080/",
     "height": 206
    },
    "executionInfo": {
     "elapsed": 256,
     "status": "ok",
     "timestamp": 1635330708200,
     "user": {
      "displayName": "Alfonso AAG",
      "photoUrl": "https://lh3.googleusercontent.com/a/default-user=s64",
      "userId": "05855385902499719219"
     },
     "user_tz": -120
    },
    "id": "1d0zAYrPTgKJ",
    "outputId": "a8c03990-3a5a-4aae-c49e-d19fe3ac8289"
   },
   "outputs": [
    {
     "data": {
      "text/html": [
       "<div>\n",
       "<style scoped>\n",
       "    .dataframe tbody tr th:only-of-type {\n",
       "        vertical-align: middle;\n",
       "    }\n",
       "\n",
       "    .dataframe tbody tr th {\n",
       "        vertical-align: top;\n",
       "    }\n",
       "\n",
       "    .dataframe thead th {\n",
       "        text-align: right;\n",
       "    }\n",
       "</style>\n",
       "<table border=\"1\" class=\"dataframe\">\n",
       "  <thead>\n",
       "    <tr style=\"text-align: right;\">\n",
       "      <th></th>\n",
       "      <th>Sales Representative</th>\n",
       "      <th>Total Sale Amount</th>\n",
       "    </tr>\n",
       "  </thead>\n",
       "  <tbody>\n",
       "    <tr>\n",
       "      <th>0</th>\n",
       "      <td>Diane Gonzalez</td>\n",
       "      <td>97819.18</td>\n",
       "    </tr>\n",
       "    <tr>\n",
       "      <th>1</th>\n",
       "      <td>Frances Warren</td>\n",
       "      <td>72790.82</td>\n",
       "    </tr>\n",
       "    <tr>\n",
       "      <th>2</th>\n",
       "      <td>Patrick Graham</td>\n",
       "      <td>167833.92</td>\n",
       "    </tr>\n",
       "    <tr>\n",
       "      <th>3</th>\n",
       "      <td>Randy Watson</td>\n",
       "      <td>113115.38</td>\n",
       "    </tr>\n",
       "    <tr>\n",
       "      <th>4</th>\n",
       "      <td>Sara Snyder</td>\n",
       "      <td>268212.07</td>\n",
       "    </tr>\n",
       "  </tbody>\n",
       "</table>\n",
       "</div>"
      ],
      "text/plain": [
       "  Sales Representative  Total Sale Amount\n",
       "0       Diane Gonzalez           97819.18\n",
       "1       Frances Warren           72790.82\n",
       "2       Patrick Graham          167833.92\n",
       "3         Randy Watson          113115.38\n",
       "4          Sara Snyder          268212.07"
      ]
     },
     "execution_count": 32,
     "metadata": {},
     "output_type": "execute_result"
    }
   ],
   "source": [
    "# Comprobación / Validation\n",
    "df.groupby(['Sales Representative'])['Total Sale Amount'].sum().reset_index()"
   ]
  },
  {
   "cell_type": "markdown",
   "metadata": {
    "id": "bgrYbz3zi58U"
   },
   "source": [
    "#### Ejercicio\n",
    "Repite el ejercicio anterior pero esta vez calculando el número de ventas (contar) de cada Sales Representative.\n",
    " \n",
    "Repeat the previous exercise but this time calculating the number of sales (count) for each Sales Representative."
   ]
  },
  {
   "cell_type": "code",
   "execution_count": null,
   "metadata": {
    "colab": {
     "base_uri": "https://localhost:8080/",
     "height": 238
    },
    "executionInfo": {
     "elapsed": 294,
     "status": "ok",
     "timestamp": 1635335193799,
     "user": {
      "displayName": "Alfonso AAG",
      "photoUrl": "https://lh3.googleusercontent.com/a/default-user=s64",
      "userId": "05855385902499719219"
     },
     "user_tz": -120
    },
    "id": "kja5ZUjti5aJ",
    "outputId": "e83f1dc0-4490-418f-a483-21e57635001f"
   },
   "outputs": [
    {
     "data": {
      "text/html": [
       "<div>\n",
       "<style scoped>\n",
       "    .dataframe tbody tr th:only-of-type {\n",
       "        vertical-align: middle;\n",
       "    }\n",
       "\n",
       "    .dataframe tbody tr th {\n",
       "        vertical-align: top;\n",
       "    }\n",
       "\n",
       "    .dataframe thead th {\n",
       "        text-align: right;\n",
       "    }\n",
       "</style>\n",
       "<table border=\"1\" class=\"dataframe\">\n",
       "  <thead>\n",
       "    <tr style=\"text-align: right;\">\n",
       "      <th></th>\n",
       "      <th>Total Sale Amount</th>\n",
       "    </tr>\n",
       "    <tr>\n",
       "      <th>Sales Representative</th>\n",
       "      <th></th>\n",
       "    </tr>\n",
       "  </thead>\n",
       "  <tbody>\n",
       "    <tr>\n",
       "      <th>Diane Gonzalez</th>\n",
       "      <td>732.0</td>\n",
       "    </tr>\n",
       "    <tr>\n",
       "      <th>Frances Warren</th>\n",
       "      <td>559.0</td>\n",
       "    </tr>\n",
       "    <tr>\n",
       "      <th>Patrick Graham</th>\n",
       "      <td>1354.0</td>\n",
       "    </tr>\n",
       "    <tr>\n",
       "      <th>Randy Watson</th>\n",
       "      <td>888.0</td>\n",
       "    </tr>\n",
       "    <tr>\n",
       "      <th>Sara Snyder</th>\n",
       "      <td>2151.0</td>\n",
       "    </tr>\n",
       "  </tbody>\n",
       "</table>\n",
       "</div>"
      ],
      "text/plain": [
       "                      Total Sale Amount\n",
       "Sales Representative                   \n",
       "Diane Gonzalez                    732.0\n",
       "Frances Warren                    559.0\n",
       "Patrick Graham                   1354.0\n",
       "Randy Watson                      888.0\n",
       "Sara Snyder                      2151.0"
      ]
     },
     "execution_count": 72,
     "metadata": {},
     "output_type": "execute_result"
    }
   ],
   "source": [
    "# Respuesta\n",
    "\n",
    "\n",
    "\n"
   ]
  },
  {
   "cell_type": "markdown",
   "metadata": {
    "id": "D7dkmZOklV76"
   },
   "source": [
    "#### Podemos aplicar varias funciones a diferentes columnas mediante un diccionario clave: valor (columna:función).\n",
    "#### We can apply several functions to different columns using a key: value dictionary (column: function).\n",
    "* aggfunc can take a list of functions. Example mean using the numpy mean function and len to get a count.\n",
    " aggfunc=[np.mean,len])"
   ]
  },
  {
   "cell_type": "code",
   "execution_count": null,
   "metadata": {
    "colab": {
     "base_uri": "https://localhost:8080/",
     "height": 269
    },
    "executionInfo": {
     "elapsed": 274,
     "status": "ok",
     "timestamp": 1635336280671,
     "user": {
      "displayName": "Alfonso AAG",
      "photoUrl": "https://lh3.googleusercontent.com/a/default-user=s64",
      "userId": "05855385902499719219"
     },
     "user_tz": -120
    },
    "id": "X1wi6S1Hosjf",
    "outputId": "e5a4c6df-dcad-4cc4-b502-fee6a04bb399"
   },
   "outputs": [
    {
     "data": {
      "text/html": [
       "<div>\n",
       "<style scoped>\n",
       "    .dataframe tbody tr th:only-of-type {\n",
       "        vertical-align: middle;\n",
       "    }\n",
       "\n",
       "    .dataframe tbody tr th {\n",
       "        vertical-align: top;\n",
       "    }\n",
       "\n",
       "    .dataframe thead tr th {\n",
       "        text-align: left;\n",
       "    }\n",
       "\n",
       "    .dataframe thead tr:last-of-type th {\n",
       "        text-align: right;\n",
       "    }\n",
       "</style>\n",
       "<table border=\"1\" class=\"dataframe\">\n",
       "  <thead>\n",
       "    <tr>\n",
       "      <th></th>\n",
       "      <th>mean</th>\n",
       "      <th>len</th>\n",
       "    </tr>\n",
       "    <tr>\n",
       "      <th></th>\n",
       "      <th>Total Sale Amount</th>\n",
       "      <th>Total Sale Amount</th>\n",
       "    </tr>\n",
       "    <tr>\n",
       "      <th>Sales Representative</th>\n",
       "      <th></th>\n",
       "      <th></th>\n",
       "    </tr>\n",
       "  </thead>\n",
       "  <tbody>\n",
       "    <tr>\n",
       "      <th>Diane Gonzalez</th>\n",
       "      <td>133.632760</td>\n",
       "      <td>732.0</td>\n",
       "    </tr>\n",
       "    <tr>\n",
       "      <th>Frances Warren</th>\n",
       "      <td>130.216136</td>\n",
       "      <td>559.0</td>\n",
       "    </tr>\n",
       "    <tr>\n",
       "      <th>Patrick Graham</th>\n",
       "      <td>123.954151</td>\n",
       "      <td>1354.0</td>\n",
       "    </tr>\n",
       "    <tr>\n",
       "      <th>Randy Watson</th>\n",
       "      <td>127.382185</td>\n",
       "      <td>888.0</td>\n",
       "    </tr>\n",
       "    <tr>\n",
       "      <th>Sara Snyder</th>\n",
       "      <td>124.691804</td>\n",
       "      <td>2151.0</td>\n",
       "    </tr>\n",
       "  </tbody>\n",
       "</table>\n",
       "</div>"
      ],
      "text/plain": [
       "                                  mean               len\n",
       "                     Total Sale Amount Total Sale Amount\n",
       "Sales Representative                                    \n",
       "Diane Gonzalez              133.632760             732.0\n",
       "Frances Warren              130.216136             559.0\n",
       "Patrick Graham              123.954151            1354.0\n",
       "Randy Watson                127.382185             888.0\n",
       "Sara Snyder                 124.691804            2151.0"
      ]
     },
     "execution_count": 75,
     "metadata": {},
     "output_type": "execute_result"
    }
   ],
   "source": [
    "# Ejemplo\n",
    "pd.pivot_table(df,index=['Sales Representative'],values=['Total Sale Amount'],aggfunc=[np.mean,len])"
   ]
  },
  {
   "cell_type": "markdown",
   "metadata": {
    "id": "N9x6Elugo_j5"
   },
   "source": [
    "#### Si queremos analizar las ventas en función de los diferentes productos, el parámetro `columns` nos permite mostrar una o más columnas\n",
    "#### If we want to see Item column broken down by the items, the `columns` variable allows us to define one or more columns."
   ]
  },
  {
   "cell_type": "code",
   "execution_count": null,
   "metadata": {
    "colab": {
     "base_uri": "https://localhost:8080/",
     "height": 455
    },
    "executionInfo": {
     "elapsed": 260,
     "status": "ok",
     "timestamp": 1635336476934,
     "user": {
      "displayName": "Alfonso AAG",
      "photoUrl": "https://lh3.googleusercontent.com/a/default-user=s64",
      "userId": "05855385902499719219"
     },
     "user_tz": -120
    },
    "id": "s-BTBf7-ESUX",
    "outputId": "0b2332ec-4a9f-41f0-9bdd-f64d287751f3"
   },
   "outputs": [
    {
     "data": {
      "text/html": [
       "<div>\n",
       "<style scoped>\n",
       "    .dataframe tbody tr th:only-of-type {\n",
       "        vertical-align: middle;\n",
       "    }\n",
       "\n",
       "    .dataframe tbody tr th {\n",
       "        vertical-align: top;\n",
       "    }\n",
       "\n",
       "    .dataframe thead th {\n",
       "        text-align: right;\n",
       "    }\n",
       "</style>\n",
       "<table border=\"1\" class=\"dataframe\">\n",
       "  <thead>\n",
       "    <tr style=\"text-align: right;\">\n",
       "      <th></th>\n",
       "      <th></th>\n",
       "      <th>Item</th>\n",
       "      <th>Junk</th>\n",
       "      <th>Stuff</th>\n",
       "      <th>Things</th>\n",
       "      <th>Widgets</th>\n",
       "    </tr>\n",
       "    <tr>\n",
       "      <th>Region</th>\n",
       "      <th>Sales Representative</th>\n",
       "      <th>Order Date</th>\n",
       "      <th></th>\n",
       "      <th></th>\n",
       "      <th></th>\n",
       "      <th></th>\n",
       "    </tr>\n",
       "  </thead>\n",
       "  <tbody>\n",
       "    <tr>\n",
       "      <th rowspan=\"5\" valign=\"top\">East</th>\n",
       "      <th rowspan=\"5\" valign=\"top\">Frances Warren</th>\n",
       "      <th>2016-01-02</th>\n",
       "      <td>86.94</td>\n",
       "      <td>NaN</td>\n",
       "      <td>NaN</td>\n",
       "      <td>NaN</td>\n",
       "    </tr>\n",
       "    <tr>\n",
       "      <th>2016-01-03</th>\n",
       "      <td>NaN</td>\n",
       "      <td>NaN</td>\n",
       "      <td>142.640</td>\n",
       "      <td>NaN</td>\n",
       "    </tr>\n",
       "    <tr>\n",
       "      <th>2016-01-04</th>\n",
       "      <td>86.94</td>\n",
       "      <td>NaN</td>\n",
       "      <td>160.470</td>\n",
       "      <td>NaN</td>\n",
       "    </tr>\n",
       "    <tr>\n",
       "      <th>2016-01-05</th>\n",
       "      <td>NaN</td>\n",
       "      <td>97.92</td>\n",
       "      <td>178.300</td>\n",
       "      <td>53.350</td>\n",
       "    </tr>\n",
       "    <tr>\n",
       "      <th>2016-01-06</th>\n",
       "      <td>NaN</td>\n",
       "      <td>NaN</td>\n",
       "      <td>106.980</td>\n",
       "      <td>320.100</td>\n",
       "    </tr>\n",
       "    <tr>\n",
       "      <th>...</th>\n",
       "      <th>...</th>\n",
       "      <th>...</th>\n",
       "      <td>...</td>\n",
       "      <td>...</td>\n",
       "      <td>...</td>\n",
       "      <td>...</td>\n",
       "    </tr>\n",
       "    <tr>\n",
       "      <th rowspan=\"5\" valign=\"top\">West</th>\n",
       "      <th rowspan=\"5\" valign=\"top\">Patrick Graham</th>\n",
       "      <th>2016-12-27</th>\n",
       "      <td>24.84</td>\n",
       "      <td>65.28</td>\n",
       "      <td>NaN</td>\n",
       "      <td>160.050</td>\n",
       "    </tr>\n",
       "    <tr>\n",
       "      <th>2016-12-28</th>\n",
       "      <td>53.82</td>\n",
       "      <td>NaN</td>\n",
       "      <td>62.405</td>\n",
       "      <td>234.740</td>\n",
       "    </tr>\n",
       "    <tr>\n",
       "      <th>2016-12-29</th>\n",
       "      <td>66.24</td>\n",
       "      <td>NaN</td>\n",
       "      <td>178.300</td>\n",
       "      <td>373.450</td>\n",
       "    </tr>\n",
       "    <tr>\n",
       "      <th>2016-12-30</th>\n",
       "      <td>43.47</td>\n",
       "      <td>32.64</td>\n",
       "      <td>17.830</td>\n",
       "      <td>400.125</td>\n",
       "    </tr>\n",
       "    <tr>\n",
       "      <th>2016-12-31</th>\n",
       "      <td>80.73</td>\n",
       "      <td>106.08</td>\n",
       "      <td>NaN</td>\n",
       "      <td>266.750</td>\n",
       "    </tr>\n",
       "  </tbody>\n",
       "</table>\n",
       "<p>1640 rows × 4 columns</p>\n",
       "</div>"
      ],
      "text/plain": [
       "Item                                     Junk   Stuff   Things  Widgets\n",
       "Region Sales Representative Order Date                                 \n",
       "East   Frances Warren       2016-01-02  86.94     NaN      NaN      NaN\n",
       "                            2016-01-03    NaN     NaN  142.640      NaN\n",
       "                            2016-01-04  86.94     NaN  160.470      NaN\n",
       "                            2016-01-05    NaN   97.92  178.300   53.350\n",
       "                            2016-01-06    NaN     NaN  106.980  320.100\n",
       "...                                       ...     ...      ...      ...\n",
       "West   Patrick Graham       2016-12-27  24.84   65.28      NaN  160.050\n",
       "                            2016-12-28  53.82     NaN   62.405  234.740\n",
       "                            2016-12-29  66.24     NaN  178.300  373.450\n",
       "                            2016-12-30  43.47   32.64   17.830  400.125\n",
       "                            2016-12-31  80.73  106.08      NaN  266.750\n",
       "\n",
       "[1640 rows x 4 columns]"
      ]
     },
     "execution_count": 76,
     "metadata": {},
     "output_type": "execute_result"
    }
   ],
   "source": [
    "# Columnas --> Item \tJunk \tStuff \tThings \tWidgets\n",
    "# Agrupación por ( Region \tSales Representative \tOrder Date), desde dentro hacia afuera. Por defecto suma los elementos\n",
    "# Datos mostrados --> Columna Items\n",
    "df.pivot_table(index=['Region', 'Sales Representative','Order Date'], columns=['Item'], values='Total Sale Amount')"
   ]
  },
  {
   "cell_type": "markdown",
   "metadata": {
    "id": "nTMjV-Be3JeG"
   },
   "source": [
    "EJERCICIO\n",
    "  \n",
    "* Empleando el dataframe anterior muestra 'Price' y 'Total Sale Amount'\n",
    "* Aplica la función contar a Price y suma a Total Sale Amount\n",
    "* Elimina los NaN si todos los elementos de alguna fila o columna son NaN. (dropna=True elimina los NaN si todos los elementos de una fila o columna son NaN.)\n",
    "* Ejemplo: pd.pivot_table(df, index=['Manager', 'Status'], columns=['Product'], values=['Quantity','Price'],aggfunc={'Quantity':len,'Price':[np.sum, np.mean]},fill_value=0)\n",
    "--------------------\n",
    "* Using the previous dataframe show 'Price' and 'Total Sale Amount'\n",
    "* Apply the count function to Price and add (sum) to Total Sale Amount\n",
    "* Eliminate the NaN if all the elements of any row or column are NaN. (dropna = True removes NaNs if all elements in a row or column are NaN.)\n",
    "* Example: pd.pivot_table (df, index = ['Manager', 'Status'], columns = ['Product'], values = ['Quantity', 'Price'], aggfunc = {'Quantity': len, 'Price': [np.sum, np.mean]}, fill_value = 0)"
   ]
  },
  {
   "cell_type": "code",
   "execution_count": null,
   "metadata": {
    "colab": {
     "base_uri": "https://localhost:8080/",
     "height": 487
    },
    "executionInfo": {
     "elapsed": 280,
     "status": "ok",
     "timestamp": 1635335320329,
     "user": {
      "displayName": "Alfonso AAG",
      "photoUrl": "https://lh3.googleusercontent.com/a/default-user=s64",
      "userId": "05855385902499719219"
     },
     "user_tz": -120
    },
    "id": "buYUtUeDFFBs",
    "outputId": "a395f240-b547-472f-fea0-84abfc82ed96"
   },
   "outputs": [
    {
     "data": {
      "text/html": [
       "<div>\n",
       "<style scoped>\n",
       "    .dataframe tbody tr th:only-of-type {\n",
       "        vertical-align: middle;\n",
       "    }\n",
       "\n",
       "    .dataframe tbody tr th {\n",
       "        vertical-align: top;\n",
       "    }\n",
       "\n",
       "    .dataframe thead tr th {\n",
       "        text-align: left;\n",
       "    }\n",
       "\n",
       "    .dataframe thead tr:last-of-type th {\n",
       "        text-align: right;\n",
       "    }\n",
       "</style>\n",
       "<table border=\"1\" class=\"dataframe\">\n",
       "  <thead>\n",
       "    <tr>\n",
       "      <th></th>\n",
       "      <th></th>\n",
       "      <th></th>\n",
       "      <th colspan=\"4\" halign=\"left\">Price</th>\n",
       "      <th colspan=\"4\" halign=\"left\">Total Sale Amount</th>\n",
       "    </tr>\n",
       "    <tr>\n",
       "      <th></th>\n",
       "      <th></th>\n",
       "      <th>Item</th>\n",
       "      <th>Junk</th>\n",
       "      <th>Stuff</th>\n",
       "      <th>Things</th>\n",
       "      <th>Widgets</th>\n",
       "      <th>Junk</th>\n",
       "      <th>Stuff</th>\n",
       "      <th>Things</th>\n",
       "      <th>Widgets</th>\n",
       "    </tr>\n",
       "    <tr>\n",
       "      <th>Region</th>\n",
       "      <th>Sales Representative</th>\n",
       "      <th>Order Date</th>\n",
       "      <th></th>\n",
       "      <th></th>\n",
       "      <th></th>\n",
       "      <th></th>\n",
       "      <th></th>\n",
       "      <th></th>\n",
       "      <th></th>\n",
       "      <th></th>\n",
       "    </tr>\n",
       "  </thead>\n",
       "  <tbody>\n",
       "    <tr>\n",
       "      <th rowspan=\"5\" valign=\"top\">East</th>\n",
       "      <th rowspan=\"5\" valign=\"top\">Frances Warren</th>\n",
       "      <th>2016-01-02</th>\n",
       "      <td>1.0</td>\n",
       "      <td>NaN</td>\n",
       "      <td>NaN</td>\n",
       "      <td>NaN</td>\n",
       "      <td>86.94</td>\n",
       "      <td>NaN</td>\n",
       "      <td>NaN</td>\n",
       "      <td>NaN</td>\n",
       "    </tr>\n",
       "    <tr>\n",
       "      <th>2016-01-03</th>\n",
       "      <td>NaN</td>\n",
       "      <td>NaN</td>\n",
       "      <td>1.0</td>\n",
       "      <td>NaN</td>\n",
       "      <td>NaN</td>\n",
       "      <td>NaN</td>\n",
       "      <td>142.64</td>\n",
       "      <td>NaN</td>\n",
       "    </tr>\n",
       "    <tr>\n",
       "      <th>2016-01-04</th>\n",
       "      <td>1.0</td>\n",
       "      <td>NaN</td>\n",
       "      <td>1.0</td>\n",
       "      <td>NaN</td>\n",
       "      <td>86.94</td>\n",
       "      <td>NaN</td>\n",
       "      <td>160.47</td>\n",
       "      <td>NaN</td>\n",
       "    </tr>\n",
       "    <tr>\n",
       "      <th>2016-01-05</th>\n",
       "      <td>NaN</td>\n",
       "      <td>1.0</td>\n",
       "      <td>1.0</td>\n",
       "      <td>1.0</td>\n",
       "      <td>NaN</td>\n",
       "      <td>97.92</td>\n",
       "      <td>178.30</td>\n",
       "      <td>53.35</td>\n",
       "    </tr>\n",
       "    <tr>\n",
       "      <th>2016-01-06</th>\n",
       "      <td>NaN</td>\n",
       "      <td>NaN</td>\n",
       "      <td>1.0</td>\n",
       "      <td>1.0</td>\n",
       "      <td>NaN</td>\n",
       "      <td>NaN</td>\n",
       "      <td>106.98</td>\n",
       "      <td>320.10</td>\n",
       "    </tr>\n",
       "    <tr>\n",
       "      <th>...</th>\n",
       "      <th>...</th>\n",
       "      <th>...</th>\n",
       "      <td>...</td>\n",
       "      <td>...</td>\n",
       "      <td>...</td>\n",
       "      <td>...</td>\n",
       "      <td>...</td>\n",
       "      <td>...</td>\n",
       "      <td>...</td>\n",
       "      <td>...</td>\n",
       "    </tr>\n",
       "    <tr>\n",
       "      <th rowspan=\"5\" valign=\"top\">West</th>\n",
       "      <th rowspan=\"5\" valign=\"top\">Patrick Graham</th>\n",
       "      <th>2016-12-27</th>\n",
       "      <td>2.0</td>\n",
       "      <td>1.0</td>\n",
       "      <td>NaN</td>\n",
       "      <td>1.0</td>\n",
       "      <td>49.68</td>\n",
       "      <td>65.28</td>\n",
       "      <td>NaN</td>\n",
       "      <td>160.05</td>\n",
       "    </tr>\n",
       "    <tr>\n",
       "      <th>2016-12-28</th>\n",
       "      <td>6.0</td>\n",
       "      <td>NaN</td>\n",
       "      <td>2.0</td>\n",
       "      <td>5.0</td>\n",
       "      <td>322.92</td>\n",
       "      <td>NaN</td>\n",
       "      <td>124.81</td>\n",
       "      <td>1173.70</td>\n",
       "    </tr>\n",
       "    <tr>\n",
       "      <th>2016-12-29</th>\n",
       "      <td>3.0</td>\n",
       "      <td>NaN</td>\n",
       "      <td>1.0</td>\n",
       "      <td>1.0</td>\n",
       "      <td>198.72</td>\n",
       "      <td>NaN</td>\n",
       "      <td>178.30</td>\n",
       "      <td>373.45</td>\n",
       "    </tr>\n",
       "    <tr>\n",
       "      <th>2016-12-30</th>\n",
       "      <td>4.0</td>\n",
       "      <td>1.0</td>\n",
       "      <td>1.0</td>\n",
       "      <td>2.0</td>\n",
       "      <td>173.88</td>\n",
       "      <td>32.64</td>\n",
       "      <td>17.83</td>\n",
       "      <td>800.25</td>\n",
       "    </tr>\n",
       "    <tr>\n",
       "      <th>2016-12-31</th>\n",
       "      <td>4.0</td>\n",
       "      <td>2.0</td>\n",
       "      <td>NaN</td>\n",
       "      <td>3.0</td>\n",
       "      <td>322.92</td>\n",
       "      <td>212.16</td>\n",
       "      <td>NaN</td>\n",
       "      <td>800.25</td>\n",
       "    </tr>\n",
       "  </tbody>\n",
       "</table>\n",
       "<p>1640 rows × 8 columns</p>\n",
       "</div>"
      ],
      "text/plain": [
       "                                       Price        ... Total Sale Amount         \n",
       "Item                                    Junk Stuff  ...            Things  Widgets\n",
       "Region Sales Representative Order Date              ...                           \n",
       "East   Frances Warren       2016-01-02   1.0   NaN  ...               NaN      NaN\n",
       "                            2016-01-03   NaN   NaN  ...            142.64      NaN\n",
       "                            2016-01-04   1.0   NaN  ...            160.47      NaN\n",
       "                            2016-01-05   NaN   1.0  ...            178.30    53.35\n",
       "                            2016-01-06   NaN   NaN  ...            106.98   320.10\n",
       "...                                      ...   ...  ...               ...      ...\n",
       "West   Patrick Graham       2016-12-27   2.0   1.0  ...               NaN   160.05\n",
       "                            2016-12-28   6.0   NaN  ...            124.81  1173.70\n",
       "                            2016-12-29   3.0   NaN  ...            178.30   373.45\n",
       "                            2016-12-30   4.0   1.0  ...             17.83   800.25\n",
       "                            2016-12-31   4.0   2.0  ...               NaN   800.25\n",
       "\n",
       "[1640 rows x 8 columns]"
      ]
     },
     "execution_count": 73,
     "metadata": {},
     "output_type": "execute_result"
    }
   ],
   "source": [
    "# Respuesta\n",
    "\n",
    "\n"
   ]
  },
  {
   "cell_type": "markdown",
   "metadata": {
    "id": "lWVdTinSp1Sp"
   },
   "source": [
    "NOTA / NOTE\n",
    "Columns vs. Values\n",
    "* Una de las cosas que pueden confundir al usar pivot_tables es el uso de los parámetros columns y values. El parámetro 'columns' es opcional, proporporcionan una forma adicional de segmentar los valores de interés. Las funciones de agregación, son aplicadas, exclusivamente, a los valores listados.\n",
    "* One of the confusing points with the pivot_table is the use of columns and values . Remember, columns are optional - they provide an additional way to segment the actual values you care about. The aggregation functions are applied to the values you list.\n"
   ]
  },
  {
   "cell_type": "markdown",
   "metadata": {
    "id": "NVouKzVoq2h7"
   },
   "source": [
    "* Los elementos NaN, (valores que no existen) se pueden eliminar con el parámetro fill_value=0\n",
    "* The NaN’s values can be removed using the fill_value parameter and setting them to 0.\n",
    "\n",
    "pd.pivot_table(df,index=[\"Manager\",\"Rep\"],values=[\"Price\"],\n",
    "               columns=[\"Product\"],aggfunc=[np.sum],fill_value=0)\n"
   ]
  },
  {
   "cell_type": "markdown",
   "metadata": {
    "id": "z90C7Kp6s7Se"
   },
   "source": [
    "* Añadir totales. margins=True calcula los totales por nosotros\n",
    "* Add totals, margins=True does compute the totals that for us."
   ]
  },
  {
   "cell_type": "code",
   "execution_count": null,
   "metadata": {
    "colab": {
     "base_uri": "https://localhost:8080/",
     "height": 771
    },
    "executionInfo": {
     "elapsed": 293,
     "status": "ok",
     "timestamp": 1635337495967,
     "user": {
      "displayName": "Alfonso AAG",
      "photoUrl": "https://lh3.googleusercontent.com/a/default-user=s64",
      "userId": "05855385902499719219"
     },
     "user_tz": -120
    },
    "id": "AROEY6WZjhEz",
    "outputId": "9c12a47c-babe-4f7d-efc7-44cd1f51cda7"
   },
   "outputs": [
    {
     "data": {
      "text/html": [
       "<div>\n",
       "<style scoped>\n",
       "    .dataframe tbody tr th:only-of-type {\n",
       "        vertical-align: middle;\n",
       "    }\n",
       "\n",
       "    .dataframe tbody tr th {\n",
       "        vertical-align: top;\n",
       "    }\n",
       "\n",
       "    .dataframe thead tr th {\n",
       "        text-align: left;\n",
       "    }\n",
       "\n",
       "    .dataframe thead tr:last-of-type th {\n",
       "        text-align: right;\n",
       "    }\n",
       "</style>\n",
       "<table border=\"1\" class=\"dataframe\">\n",
       "  <thead>\n",
       "    <tr>\n",
       "      <th></th>\n",
       "      <th></th>\n",
       "      <th></th>\n",
       "      <th colspan=\"2\" halign=\"left\">sum</th>\n",
       "    </tr>\n",
       "    <tr>\n",
       "      <th></th>\n",
       "      <th></th>\n",
       "      <th></th>\n",
       "      <th>Quantity</th>\n",
       "      <th>Total Sale Amount</th>\n",
       "    </tr>\n",
       "    <tr>\n",
       "      <th>Region</th>\n",
       "      <th>Location</th>\n",
       "      <th>Sales Representative</th>\n",
       "      <th></th>\n",
       "      <th></th>\n",
       "    </tr>\n",
       "  </thead>\n",
       "  <tbody>\n",
       "    <tr>\n",
       "      <th rowspan=\"12\" valign=\"top\">East</th>\n",
       "      <th rowspan=\"3\" valign=\"top\">Connecticut</th>\n",
       "      <th>Frances Warren</th>\n",
       "      <td>333</td>\n",
       "      <td>8771.86</td>\n",
       "    </tr>\n",
       "    <tr>\n",
       "      <th>Randy Watson</th>\n",
       "      <td>480</td>\n",
       "      <td>10992.31</td>\n",
       "    </tr>\n",
       "    <tr>\n",
       "      <th>Sara Snyder</th>\n",
       "      <td>1031</td>\n",
       "      <td>22279.08</td>\n",
       "    </tr>\n",
       "    <tr>\n",
       "      <th rowspan=\"3\" valign=\"top\">Massachusetts</th>\n",
       "      <th>Frances Warren</th>\n",
       "      <td>1032</td>\n",
       "      <td>23013.16</td>\n",
       "    </tr>\n",
       "    <tr>\n",
       "      <th>Randy Watson</th>\n",
       "      <td>1775</td>\n",
       "      <td>36656.05</td>\n",
       "    </tr>\n",
       "    <tr>\n",
       "      <th>Sara Snyder</th>\n",
       "      <td>3934</td>\n",
       "      <td>89933.13</td>\n",
       "    </tr>\n",
       "    <tr>\n",
       "      <th rowspan=\"3\" valign=\"top\">New Jersey</th>\n",
       "      <th>Frances Warren</th>\n",
       "      <td>703</td>\n",
       "      <td>15504.02</td>\n",
       "    </tr>\n",
       "    <tr>\n",
       "      <th>Randy Watson</th>\n",
       "      <td>999</td>\n",
       "      <td>21096.97</td>\n",
       "    </tr>\n",
       "    <tr>\n",
       "      <th>Sara Snyder</th>\n",
       "      <td>2561</td>\n",
       "      <td>61917.39</td>\n",
       "    </tr>\n",
       "    <tr>\n",
       "      <th rowspan=\"3\" valign=\"top\">New York</th>\n",
       "      <th>Frances Warren</th>\n",
       "      <td>1048</td>\n",
       "      <td>25501.78</td>\n",
       "    </tr>\n",
       "    <tr>\n",
       "      <th>Randy Watson</th>\n",
       "      <td>1800</td>\n",
       "      <td>44370.05</td>\n",
       "    </tr>\n",
       "    <tr>\n",
       "      <th>Sara Snyder</th>\n",
       "      <td>4213</td>\n",
       "      <td>94082.47</td>\n",
       "    </tr>\n",
       "    <tr>\n",
       "      <th rowspan=\"8\" valign=\"top\">West</th>\n",
       "      <th rowspan=\"2\" valign=\"top\">California</th>\n",
       "      <th>Diane Gonzalez</th>\n",
       "      <td>1228</td>\n",
       "      <td>31140.89</td>\n",
       "    </tr>\n",
       "    <tr>\n",
       "      <th>Patrick Graham</th>\n",
       "      <td>1918</td>\n",
       "      <td>48002.35</td>\n",
       "    </tr>\n",
       "    <tr>\n",
       "      <th rowspan=\"2\" valign=\"top\">Nevada</th>\n",
       "      <th>Diane Gonzalez</th>\n",
       "      <td>309</td>\n",
       "      <td>6549.61</td>\n",
       "    </tr>\n",
       "    <tr>\n",
       "      <th>Patrick Graham</th>\n",
       "      <td>461</td>\n",
       "      <td>10190.82</td>\n",
       "    </tr>\n",
       "    <tr>\n",
       "      <th rowspan=\"2\" valign=\"top\">Oregon</th>\n",
       "      <th>Diane Gonzalez</th>\n",
       "      <td>967</td>\n",
       "      <td>23033.76</td>\n",
       "    </tr>\n",
       "    <tr>\n",
       "      <th>Patrick Graham</th>\n",
       "      <td>2101</td>\n",
       "      <td>46617.43</td>\n",
       "    </tr>\n",
       "    <tr>\n",
       "      <th rowspan=\"2\" valign=\"top\">Washington</th>\n",
       "      <th>Diane Gonzalez</th>\n",
       "      <td>1585</td>\n",
       "      <td>37094.92</td>\n",
       "    </tr>\n",
       "    <tr>\n",
       "      <th>Patrick Graham</th>\n",
       "      <td>2904</td>\n",
       "      <td>63023.32</td>\n",
       "    </tr>\n",
       "    <tr>\n",
       "      <th>All</th>\n",
       "      <th></th>\n",
       "      <th></th>\n",
       "      <td>31382</td>\n",
       "      <td>719771.37</td>\n",
       "    </tr>\n",
       "  </tbody>\n",
       "</table>\n",
       "</div>"
      ],
      "text/plain": [
       "                                               sum                  \n",
       "                                          Quantity Total Sale Amount\n",
       "Region Location      Sales Representative                           \n",
       "East   Connecticut   Frances Warren            333           8771.86\n",
       "                     Randy Watson              480          10992.31\n",
       "                     Sara Snyder              1031          22279.08\n",
       "       Massachusetts Frances Warren           1032          23013.16\n",
       "                     Randy Watson             1775          36656.05\n",
       "                     Sara Snyder              3934          89933.13\n",
       "       New Jersey    Frances Warren            703          15504.02\n",
       "                     Randy Watson              999          21096.97\n",
       "                     Sara Snyder              2561          61917.39\n",
       "       New York      Frances Warren           1048          25501.78\n",
       "                     Randy Watson             1800          44370.05\n",
       "                     Sara Snyder              4213          94082.47\n",
       "West   California    Diane Gonzalez           1228          31140.89\n",
       "                     Patrick Graham           1918          48002.35\n",
       "       Nevada        Diane Gonzalez            309           6549.61\n",
       "                     Patrick Graham            461          10190.82\n",
       "       Oregon        Diane Gonzalez            967          23033.76\n",
       "                     Patrick Graham           2101          46617.43\n",
       "       Washington    Diane Gonzalez           1585          37094.92\n",
       "                     Patrick Graham           2904          63023.32\n",
       "All                                          31382         719771.37"
      ]
     },
     "execution_count": 83,
     "metadata": {},
     "output_type": "execute_result"
    }
   ],
   "source": [
    "pd.pivot_table(df,index=['Region', 'Location', 'Sales Representative'],\n",
    "               values=['Quantity', 'Total Sale Amount'],\n",
    "               aggfunc=[np.sum],fill_value=0,margins=True)"
   ]
  },
  {
   "cell_type": "markdown",
   "metadata": {
    "id": "7_KFvVv3tf0C"
   },
   "source": [
    "#### Ejercicio\n",
    "* Partiendo del ejercicio anterior, calcula también total por productos vendidos\n",
    "* Starting from the previous exercise, calculate the total for products sold as well."
   ]
  },
  {
   "cell_type": "code",
   "execution_count": null,
   "metadata": {
    "colab": {
     "base_uri": "https://localhost:8080/",
     "height": 802
    },
    "executionInfo": {
     "elapsed": 309,
     "status": "ok",
     "timestamp": 1635337601004,
     "user": {
      "displayName": "Alfonso AAG",
      "photoUrl": "https://lh3.googleusercontent.com/a/default-user=s64",
      "userId": "05855385902499719219"
     },
     "user_tz": -120
    },
    "id": "Ahf-Ce_bsQ8Q",
    "outputId": "e6a21af9-d228-4043-d831-646d666eccde"
   },
   "outputs": [
    {
     "data": {
      "text/html": [
       "<div>\n",
       "<style scoped>\n",
       "    .dataframe tbody tr th:only-of-type {\n",
       "        vertical-align: middle;\n",
       "    }\n",
       "\n",
       "    .dataframe tbody tr th {\n",
       "        vertical-align: top;\n",
       "    }\n",
       "\n",
       "    .dataframe thead tr th {\n",
       "        text-align: left;\n",
       "    }\n",
       "\n",
       "    .dataframe thead tr:last-of-type th {\n",
       "        text-align: right;\n",
       "    }\n",
       "</style>\n",
       "<table border=\"1\" class=\"dataframe\">\n",
       "  <thead>\n",
       "    <tr>\n",
       "      <th></th>\n",
       "      <th></th>\n",
       "      <th></th>\n",
       "      <th colspan=\"10\" halign=\"left\">sum</th>\n",
       "    </tr>\n",
       "    <tr>\n",
       "      <th></th>\n",
       "      <th></th>\n",
       "      <th></th>\n",
       "      <th colspan=\"5\" halign=\"left\">Quantity</th>\n",
       "      <th colspan=\"5\" halign=\"left\">Total Sale Amount</th>\n",
       "    </tr>\n",
       "    <tr>\n",
       "      <th></th>\n",
       "      <th></th>\n",
       "      <th>Item</th>\n",
       "      <th>Junk</th>\n",
       "      <th>Stuff</th>\n",
       "      <th>Things</th>\n",
       "      <th>Widgets</th>\n",
       "      <th>All</th>\n",
       "      <th>Junk</th>\n",
       "      <th>Stuff</th>\n",
       "      <th>Things</th>\n",
       "      <th>Widgets</th>\n",
       "      <th>All</th>\n",
       "    </tr>\n",
       "    <tr>\n",
       "      <th>Region</th>\n",
       "      <th>Location</th>\n",
       "      <th>Sales Representative</th>\n",
       "      <th></th>\n",
       "      <th></th>\n",
       "      <th></th>\n",
       "      <th></th>\n",
       "      <th></th>\n",
       "      <th></th>\n",
       "      <th></th>\n",
       "      <th></th>\n",
       "      <th></th>\n",
       "      <th></th>\n",
       "    </tr>\n",
       "  </thead>\n",
       "  <tbody>\n",
       "    <tr>\n",
       "      <th rowspan=\"12\" valign=\"top\">East</th>\n",
       "      <th rowspan=\"3\" valign=\"top\">Connecticut</th>\n",
       "      <th>Frances Warren</th>\n",
       "      <td>142</td>\n",
       "      <td>37</td>\n",
       "      <td>51</td>\n",
       "      <td>103</td>\n",
       "      <td>333</td>\n",
       "      <td>1763.64</td>\n",
       "      <td>603.84</td>\n",
       "      <td>909.33</td>\n",
       "      <td>5495.05</td>\n",
       "      <td>8771.86</td>\n",
       "    </tr>\n",
       "    <tr>\n",
       "      <th>Randy Watson</th>\n",
       "      <td>237</td>\n",
       "      <td>56</td>\n",
       "      <td>80</td>\n",
       "      <td>107</td>\n",
       "      <td>480</td>\n",
       "      <td>2943.54</td>\n",
       "      <td>913.92</td>\n",
       "      <td>1426.40</td>\n",
       "      <td>5708.45</td>\n",
       "      <td>10992.31</td>\n",
       "    </tr>\n",
       "    <tr>\n",
       "      <th>Sara Snyder</th>\n",
       "      <td>440</td>\n",
       "      <td>195</td>\n",
       "      <td>211</td>\n",
       "      <td>185</td>\n",
       "      <td>1031</td>\n",
       "      <td>5464.80</td>\n",
       "      <td>3182.40</td>\n",
       "      <td>3762.13</td>\n",
       "      <td>9869.75</td>\n",
       "      <td>22279.08</td>\n",
       "    </tr>\n",
       "    <tr>\n",
       "      <th rowspan=\"3\" valign=\"top\">Massachusetts</th>\n",
       "      <th>Frances Warren</th>\n",
       "      <td>422</td>\n",
       "      <td>138</td>\n",
       "      <td>272</td>\n",
       "      <td>200</td>\n",
       "      <td>1032</td>\n",
       "      <td>5241.24</td>\n",
       "      <td>2252.16</td>\n",
       "      <td>4849.76</td>\n",
       "      <td>10670.00</td>\n",
       "      <td>23013.16</td>\n",
       "    </tr>\n",
       "    <tr>\n",
       "      <th>Randy Watson</th>\n",
       "      <td>803</td>\n",
       "      <td>299</td>\n",
       "      <td>397</td>\n",
       "      <td>276</td>\n",
       "      <td>1775</td>\n",
       "      <td>9973.26</td>\n",
       "      <td>4879.68</td>\n",
       "      <td>7078.51</td>\n",
       "      <td>14724.60</td>\n",
       "      <td>36656.05</td>\n",
       "    </tr>\n",
       "    <tr>\n",
       "      <th>Sara Snyder</th>\n",
       "      <td>1636</td>\n",
       "      <td>651</td>\n",
       "      <td>813</td>\n",
       "      <td>834</td>\n",
       "      <td>3934</td>\n",
       "      <td>20319.12</td>\n",
       "      <td>10624.32</td>\n",
       "      <td>14495.79</td>\n",
       "      <td>44493.90</td>\n",
       "      <td>89933.13</td>\n",
       "    </tr>\n",
       "    <tr>\n",
       "      <th rowspan=\"3\" valign=\"top\">New Jersey</th>\n",
       "      <th>Frances Warren</th>\n",
       "      <td>290</td>\n",
       "      <td>123</td>\n",
       "      <td>157</td>\n",
       "      <td>133</td>\n",
       "      <td>703</td>\n",
       "      <td>3601.80</td>\n",
       "      <td>2007.36</td>\n",
       "      <td>2799.31</td>\n",
       "      <td>7095.55</td>\n",
       "      <td>15504.02</td>\n",
       "    </tr>\n",
       "    <tr>\n",
       "      <th>Randy Watson</th>\n",
       "      <td>441</td>\n",
       "      <td>173</td>\n",
       "      <td>218</td>\n",
       "      <td>167</td>\n",
       "      <td>999</td>\n",
       "      <td>5477.22</td>\n",
       "      <td>2823.36</td>\n",
       "      <td>3886.94</td>\n",
       "      <td>8909.45</td>\n",
       "      <td>21096.97</td>\n",
       "    </tr>\n",
       "    <tr>\n",
       "      <th>Sara Snyder</th>\n",
       "      <td>1032</td>\n",
       "      <td>428</td>\n",
       "      <td>468</td>\n",
       "      <td>633</td>\n",
       "      <td>2561</td>\n",
       "      <td>12817.44</td>\n",
       "      <td>6984.96</td>\n",
       "      <td>8344.44</td>\n",
       "      <td>33770.55</td>\n",
       "      <td>61917.39</td>\n",
       "    </tr>\n",
       "    <tr>\n",
       "      <th rowspan=\"3\" valign=\"top\">New York</th>\n",
       "      <th>Frances Warren</th>\n",
       "      <td>400</td>\n",
       "      <td>122</td>\n",
       "      <td>268</td>\n",
       "      <td>258</td>\n",
       "      <td>1048</td>\n",
       "      <td>4968.00</td>\n",
       "      <td>1991.04</td>\n",
       "      <td>4778.44</td>\n",
       "      <td>13764.30</td>\n",
       "      <td>25501.78</td>\n",
       "    </tr>\n",
       "    <tr>\n",
       "      <th>Randy Watson</th>\n",
       "      <td>631</td>\n",
       "      <td>336</td>\n",
       "      <td>377</td>\n",
       "      <td>456</td>\n",
       "      <td>1800</td>\n",
       "      <td>7837.02</td>\n",
       "      <td>5483.52</td>\n",
       "      <td>6721.91</td>\n",
       "      <td>24327.60</td>\n",
       "      <td>44370.05</td>\n",
       "    </tr>\n",
       "    <tr>\n",
       "      <th>Sara Snyder</th>\n",
       "      <td>1844</td>\n",
       "      <td>664</td>\n",
       "      <td>862</td>\n",
       "      <td>843</td>\n",
       "      <td>4213</td>\n",
       "      <td>22902.48</td>\n",
       "      <td>10836.48</td>\n",
       "      <td>15369.46</td>\n",
       "      <td>44974.05</td>\n",
       "      <td>94082.47</td>\n",
       "    </tr>\n",
       "    <tr>\n",
       "      <th rowspan=\"8\" valign=\"top\">West</th>\n",
       "      <th rowspan=\"2\" valign=\"top\">California</th>\n",
       "      <th>Diane Gonzalez</th>\n",
       "      <td>464</td>\n",
       "      <td>189</td>\n",
       "      <td>236</td>\n",
       "      <td>339</td>\n",
       "      <td>1228</td>\n",
       "      <td>5762.88</td>\n",
       "      <td>3084.48</td>\n",
       "      <td>4207.88</td>\n",
       "      <td>18085.65</td>\n",
       "      <td>31140.89</td>\n",
       "    </tr>\n",
       "    <tr>\n",
       "      <th>Patrick Graham</th>\n",
       "      <td>748</td>\n",
       "      <td>269</td>\n",
       "      <td>387</td>\n",
       "      <td>514</td>\n",
       "      <td>1918</td>\n",
       "      <td>9290.16</td>\n",
       "      <td>4390.08</td>\n",
       "      <td>6900.21</td>\n",
       "      <td>27421.90</td>\n",
       "      <td>48002.35</td>\n",
       "    </tr>\n",
       "    <tr>\n",
       "      <th rowspan=\"2\" valign=\"top\">Nevada</th>\n",
       "      <th>Diane Gonzalez</th>\n",
       "      <td>100</td>\n",
       "      <td>82</td>\n",
       "      <td>79</td>\n",
       "      <td>48</td>\n",
       "      <td>309</td>\n",
       "      <td>1242.00</td>\n",
       "      <td>1338.24</td>\n",
       "      <td>1408.57</td>\n",
       "      <td>2560.80</td>\n",
       "      <td>6549.61</td>\n",
       "    </tr>\n",
       "    <tr>\n",
       "      <th>Patrick Graham</th>\n",
       "      <td>226</td>\n",
       "      <td>49</td>\n",
       "      <td>94</td>\n",
       "      <td>92</td>\n",
       "      <td>461</td>\n",
       "      <td>2806.92</td>\n",
       "      <td>799.68</td>\n",
       "      <td>1676.02</td>\n",
       "      <td>4908.20</td>\n",
       "      <td>10190.82</td>\n",
       "    </tr>\n",
       "    <tr>\n",
       "      <th rowspan=\"2\" valign=\"top\">Oregon</th>\n",
       "      <th>Diane Gonzalez</th>\n",
       "      <td>398</td>\n",
       "      <td>125</td>\n",
       "      <td>215</td>\n",
       "      <td>229</td>\n",
       "      <td>967</td>\n",
       "      <td>4943.16</td>\n",
       "      <td>2040.00</td>\n",
       "      <td>3833.45</td>\n",
       "      <td>12217.15</td>\n",
       "      <td>23033.76</td>\n",
       "    </tr>\n",
       "    <tr>\n",
       "      <th>Patrick Graham</th>\n",
       "      <td>919</td>\n",
       "      <td>335</td>\n",
       "      <td>435</td>\n",
       "      <td>412</td>\n",
       "      <td>2101</td>\n",
       "      <td>11413.98</td>\n",
       "      <td>5467.20</td>\n",
       "      <td>7756.05</td>\n",
       "      <td>21980.20</td>\n",
       "      <td>46617.43</td>\n",
       "    </tr>\n",
       "    <tr>\n",
       "      <th rowspan=\"2\" valign=\"top\">Washington</th>\n",
       "      <th>Diane Gonzalez</th>\n",
       "      <td>680</td>\n",
       "      <td>205</td>\n",
       "      <td>339</td>\n",
       "      <td>361</td>\n",
       "      <td>1585</td>\n",
       "      <td>8445.60</td>\n",
       "      <td>3345.60</td>\n",
       "      <td>6044.37</td>\n",
       "      <td>19259.35</td>\n",
       "      <td>37094.92</td>\n",
       "    </tr>\n",
       "    <tr>\n",
       "      <th>Patrick Graham</th>\n",
       "      <td>1265</td>\n",
       "      <td>441</td>\n",
       "      <td>670</td>\n",
       "      <td>528</td>\n",
       "      <td>2904</td>\n",
       "      <td>15711.30</td>\n",
       "      <td>7197.12</td>\n",
       "      <td>11946.10</td>\n",
       "      <td>28168.80</td>\n",
       "      <td>63023.32</td>\n",
       "    </tr>\n",
       "    <tr>\n",
       "      <th>All</th>\n",
       "      <th></th>\n",
       "      <th></th>\n",
       "      <td>13118</td>\n",
       "      <td>4917</td>\n",
       "      <td>6629</td>\n",
       "      <td>6718</td>\n",
       "      <td>31382</td>\n",
       "      <td>162925.56</td>\n",
       "      <td>80245.44</td>\n",
       "      <td>118195.07</td>\n",
       "      <td>358405.30</td>\n",
       "      <td>719771.37</td>\n",
       "    </tr>\n",
       "  </tbody>\n",
       "</table>\n",
       "</div>"
      ],
      "text/plain": [
       "                                               sum        ...                             \n",
       "                                          Quantity        ... Total Sale Amount           \n",
       "Item                                          Junk Stuff  ...           Widgets        All\n",
       "Region Location      Sales Representative                 ...                             \n",
       "East   Connecticut   Frances Warren            142    37  ...           5495.05    8771.86\n",
       "                     Randy Watson              237    56  ...           5708.45   10992.31\n",
       "                     Sara Snyder               440   195  ...           9869.75   22279.08\n",
       "       Massachusetts Frances Warren            422   138  ...          10670.00   23013.16\n",
       "                     Randy Watson              803   299  ...          14724.60   36656.05\n",
       "                     Sara Snyder              1636   651  ...          44493.90   89933.13\n",
       "       New Jersey    Frances Warren            290   123  ...           7095.55   15504.02\n",
       "                     Randy Watson              441   173  ...           8909.45   21096.97\n",
       "                     Sara Snyder              1032   428  ...          33770.55   61917.39\n",
       "       New York      Frances Warren            400   122  ...          13764.30   25501.78\n",
       "                     Randy Watson              631   336  ...          24327.60   44370.05\n",
       "                     Sara Snyder              1844   664  ...          44974.05   94082.47\n",
       "West   California    Diane Gonzalez            464   189  ...          18085.65   31140.89\n",
       "                     Patrick Graham            748   269  ...          27421.90   48002.35\n",
       "       Nevada        Diane Gonzalez            100    82  ...           2560.80    6549.61\n",
       "                     Patrick Graham            226    49  ...           4908.20   10190.82\n",
       "       Oregon        Diane Gonzalez            398   125  ...          12217.15   23033.76\n",
       "                     Patrick Graham            919   335  ...          21980.20   46617.43\n",
       "       Washington    Diane Gonzalez            680   205  ...          19259.35   37094.92\n",
       "                     Patrick Graham           1265   441  ...          28168.80   63023.32\n",
       "All                                          13118  4917  ...         358405.30  719771.37\n",
       "\n",
       "[21 rows x 10 columns]"
      ]
     },
     "execution_count": 84,
     "metadata": {},
     "output_type": "execute_result"
    }
   ],
   "source": [
    "# Respuesta\n",
    "\n",
    "\n"
   ]
  },
  {
   "cell_type": "code",
   "execution_count": null,
   "metadata": {
    "id": "YC0cA6Ytt3z4"
   },
   "outputs": [],
   "source": [
    ""
   ]
  }
 ],
 "metadata": {
  "colab": {
   "authorship_tag": "ABX9TyOGdcUmNjwGpXaYz5Ke9fYJ",
   "collapsed_sections": [],
   "name": "Clase_5_EAE_Pandas_Pivot_Alumnos_EN_ES.ipynb",
   "provenance": [
    {
     "file_id": "1SQ29pswU_PLDYrksTWuyCI3W4mQTgRHc",
     "timestamp": 1635337878340
    },
    {
     "file_id": "1bc_0ORHatSwGxEquJD8w4yWyorAAvUAA",
     "timestamp": 1635337718144
    }
   ]
  },
  "kernelspec": {
   "display_name": "Python 3",
   "name": "python3"
  }
 },
 "nbformat": 4,
 "nbformat_minor": 0
}
