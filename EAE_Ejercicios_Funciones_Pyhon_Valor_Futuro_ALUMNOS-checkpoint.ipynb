{
 "cells": [
  {
   "cell_type": "markdown",
   "metadata": {
    "id": "g0rq2NYVNwcC"
   },
   "source": [
    "**EJERCICIOS PYTHON FUNCIONES:**"
   ]
  },
  {
   "cell_type": "markdown",
   "metadata": {
    "id": "aDs9UOXBQ1-a"
   },
   "source": [
    "PLAN DE PENSIONES. ENUNCIADO DEL EJERCICIO\n",
    " \n",
    "Una persona desea ahorrar y para ello decide depositar cantidades dinerarias en un fondo/plan de pensiones a lo largo de tiempo. Realiza una(s) función(es) python para calcular y analizar lo que se pide en cada apartado.\n",
    " \n",
    "FÓRMULA DE CÁLCULO:\n",
    "* La fórmula del valor futuro con interés compuesto es FV = P(1 + r/n)^nt.\n",
    "* FV = el valor futuro\n",
    "* P = el principal\n",
    "* r = la tasa de interés anual expresada en forma decimal\n",
    "* n = es la frecuencia de capitalización. El número de veces que se pagan intereses cada año\n",
    "* t = tiempo en años.\n",
    "  \n",
    "*Datos:\n",
    "* La tasa de interés es 6% anual.\n",
    "* Los capitales (depósitos) se realizan al inicio de cada año.\n",
    "* Los intereses debengados por el capital invertido se capitalizan al final de cada año.\n",
    "* Se emplea capitalización compuesta.\n",
    "* Se total acumulado se recoge (disfruta de él) el año 2021\n",
    " \n",
    "1. Muestra el valor futuro total al final del periódo de cálculo\n",
    "2. Muestra el valor futuro de cada uno de los depósitos efectuados al final del período de cálculo.\n",
    "3. Muestra el valor futuro acumulado a lo largo del período de capitalización. Como se va evolucionando el VF de los capitales + intereses\n",
    "4. Muestra el resultado con 2 cifras decimales"
   ]
  },
  {
   "cell_type": "markdown",
   "metadata": {
    "id": "873RoN7t6prB"
   },
   "source": [
    "**CASOS DE ANÁLISIS**"
   ]
  },
  {
   "cell_type": "markdown",
   "metadata": {
    "id": "jBDOjfAsS5Na"
   },
   "source": [
    "0. Cuánto dinero tendrá ahorrado una persona en el año 2021 si deposito, 1.000 anuales desde el año 2000 al 2020."
   ]
  },
  {
   "cell_type": "code",
   "execution_count": 35,
   "metadata": {},
   "outputs": [
    {
     "name": "stdout",
     "output_type": "stream",
     "text": [
      "En el año 2021 tendra $ 42392.29\n"
     ]
    }
   ],
   "source": [
    "valor=0\n",
    "capital=1000\n",
    "tasa=0.06\n",
    "cantidad=1\n",
    "anos=21\n",
    "\n",
    "while anos>=1:\n",
    "    total = capital*((1+tasa)**anos)\n",
    "    anos = anos - 1\n",
    "    valor = valor+total\n",
    "\n",
    "print('En el año 2021 tendra $',round(valor,2))"
   ]
  },
  {
   "cell_type": "markdown",
   "metadata": {
    "id": "TzZH0HiBYdJ0"
   },
   "source": [
    "1. Cuánto dinero tendrá ahorrado una persona en el año 2021 si deposito, 700 euros en el año 2000, 0 (cero) euros en el 2001, 900 en el año 2002 y 1.000 anuales del año 2003 al 2020 (ambos inclusive)."
   ]
  },
  {
   "cell_type": "code",
   "execution_count": 39,
   "metadata": {
    "id": "lc4zoPsUYa8T"
   },
   "outputs": [
    {
     "name": "stdout",
     "output_type": "stream",
     "text": [
      "En el año 2021 tendra $ 38168.89\n"
     ]
    }
   ],
   "source": [
    "# RESPUESTA\n",
    "dosmil=700*((1+tasa)**22)\n",
    "dosmildos=900*((1+tasa)**20)\n",
    "\n",
    "valor=dosmil+dosmildos\n",
    "capital=1000\n",
    "tasa=0.06\n",
    "cantidad=1\n",
    "anos=18\n",
    "\n",
    "while anos>=1:\n",
    "    total = capital*((1+tasa)**anos)\n",
    "    anos = anos - 1\n",
    "    valor = valor+total\n",
    "\n",
    "print('En el año 2021 tendra $',round(valor,2))\n"
   ]
  },
  {
   "cell_type": "markdown",
   "metadata": {
    "id": "u6v7YD85NrPN"
   },
   "source": [
    "2. Cuánto dinero tendrá ahorrado una persona en el año 2021 si deposito, 700 euros en el año 2000, nada en el 2001, 900 en el año 2002, 1.000 anuales del año 2005 al 2013 (ambos inclusive) y 2.000 anuales del año 2014 al 2020  (ambos inclusive)."
   ]
  },
  {
   "cell_type": "code",
   "execution_count": 40,
   "metadata": {
    "id": "xn5VGOpaYMQT"
   },
   "outputs": [
    {
     "name": "stdout",
     "output_type": "stream",
     "text": [
      "En el año 2021 tendra $ 40015.62\n"
     ]
    }
   ],
   "source": [
    "dosmil=700*((1+tasa)**22)\n",
    "dosmildos=900*((1+tasa)**20)\n",
    "\n",
    "valor=dosmil+dosmildos\n",
    "capital1=1000\n",
    "capital2=2000\n",
    "tasa=0.06\n",
    "cantidad=1\n",
    "anos=16\n",
    "\n",
    "while anos>=7:\n",
    "    total = capital1*((1+tasa)**anos)\n",
    "    anos = anos - 1\n",
    "    valor = valor+total\n",
    "    \n",
    "while anos>=1:\n",
    "    total = capital2*((1+tasa)**anos)\n",
    "    anos = anos - 1\n",
    "    valor = valor+total\n",
    "\n",
    "print('En el año 2021 tendra $',round(valor,2))"
   ]
  },
  {
   "cell_type": "markdown",
   "metadata": {
    "id": "vhtNP1slcNKx"
   },
   "source": [
    "B. Partiendo de las aportaciones del caso 0 y teniendo en cuenta la fórmula de cálculo dada al inicio.\n",
    "* ¿Qué le interesaría más a la persona un interés del 6% anual o un 3% mensual?\n",
    " \n",
    "Usa los datos obtenidos con tu desarrollo de los apartados anteriores para probar tu conclusión"
   ]
  },
  {
   "cell_type": "code",
   "execution_count": 45,
   "metadata": {
    "id": "p7-d4zARVZbP"
   },
   "outputs": [
    {
     "name": "stdout",
     "output_type": "stream",
     "text": [
      "En el año 2021 tendra $ 42392.29\n"
     ]
    }
   ],
   "source": [
    "#6 anosual\n",
    "\n",
    "valor=0\n",
    "capital=1000\n",
    "tasa=0.06\n",
    "cantidad=1\n",
    "anos=21\n",
    "\n",
    "while anos>=1:\n",
    "    total = capital*((1+tasa)**anos)\n",
    "    anos = anos - 1\n",
    "    valor = valor+total\n",
    "\n",
    "print('En el año 2021 tendra $',round(valor,2))"
   ]
  },
  {
   "cell_type": "code",
   "execution_count": 47,
   "metadata": {},
   "outputs": [
    {
     "name": "stdout",
     "output_type": "stream",
     "text": [
      "En el año 2021 tendra $ 21587.24\n"
     ]
    }
   ],
   "source": [
    "#3 mensual\n",
    "\n",
    "valor=0\n",
    "capital=1000\n",
    "tasa=0.03\n",
    "cantidad=1\n",
    "anos=21\n",
    "\n",
    "while anos>=1:\n",
    "    total = capital*((1+tasa/12)**anos)\n",
    "    anos = anos - 1\n",
    "    valor = valor+total\n",
    "\n",
    "print('En el año 2021 tendra $',round(valor,2))"
   ]
  }
 ],
 "metadata": {
  "colab": {
   "provenance": []
  },
  "hide_input": false,
  "kernelspec": {
   "display_name": "Python 3 (ipykernel)",
   "language": "python",
   "name": "python3"
  },
  "language_info": {
   "codemirror_mode": {
    "name": "ipython",
    "version": 3
   },
   "file_extension": ".py",
   "mimetype": "text/x-python",
   "name": "python",
   "nbconvert_exporter": "python",
   "pygments_lexer": "ipython3",
   "version": "3.9.13"
  },
  "nbTranslate": {
   "displayLangs": [
    "*"
   ],
   "hotkey": "alt-t",
   "langInMainMenu": true,
   "sourceLang": "en",
   "targetLang": "fr",
   "useGoogleTranslate": true
  },
  "toc": {
   "base_numbering": 1,
   "nav_menu": {},
   "number_sections": true,
   "sideBar": true,
   "skip_h1_title": false,
   "title_cell": "Table of Contents",
   "title_sidebar": "Contents",
   "toc_cell": false,
   "toc_position": {},
   "toc_section_display": true,
   "toc_window_display": false
  },
  "varInspector": {
   "cols": {
    "lenName": 16,
    "lenType": 16,
    "lenVar": 40
   },
   "kernels_config": {
    "python": {
     "delete_cmd_postfix": "",
     "delete_cmd_prefix": "del ",
     "library": "var_list.py",
     "varRefreshCmd": "print(var_dic_list())"
    },
    "r": {
     "delete_cmd_postfix": ") ",
     "delete_cmd_prefix": "rm(",
     "library": "var_list.r",
     "varRefreshCmd": "cat(var_dic_list()) "
    }
   },
   "types_to_exclude": [
    "module",
    "function",
    "builtin_function_or_method",
    "instance",
    "_Feature"
   ],
   "window_display": false
  }
 },
 "nbformat": 4,
 "nbformat_minor": 1
}
